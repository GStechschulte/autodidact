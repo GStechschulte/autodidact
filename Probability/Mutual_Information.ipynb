{
 "cells": [
  {
   "cell_type": "code",
   "execution_count": null,
   "metadata": {},
   "outputs": [],
   "source": []
  },
  {
   "cell_type": "markdown",
   "metadata": {},
   "source": [
    "## Mutual Information\n",
    "\n",
    "Consider two random variables $X$ and $Y$. Suppose we want to know how much knowing one variable tells us about the other. We could compute the correlation coefficient, but from the Nassim Taleb MOOCs on correlation and non-linearity, this approach is very limited.\n",
    "\n",
    "Therefore, we should opt for determining how similar the joint distribution $p(X, Y)$ is to the factored distribution $p(X)p(Y)$. This is called the **mutual information**\n",
    "\n",
    "Mutual Information: $I(X : Y) = H(X) - H(X, Y) = H(Y) - H(Y | X)$"
   ]
  },
  {
   "cell_type": "code",
   "execution_count": null,
   "metadata": {},
   "outputs": [],
   "source": []
  }
 ],
 "metadata": {
  "kernelspec": {
   "display_name": "Python 3",
   "language": "python",
   "name": "python3"
  },
  "language_info": {
   "codemirror_mode": {
    "name": "ipython",
    "version": 3
   },
   "file_extension": ".py",
   "mimetype": "text/x-python",
   "name": "python",
   "nbconvert_exporter": "python",
   "pygments_lexer": "ipython3",
   "version": "3.7.4"
  }
 },
 "nbformat": 4,
 "nbformat_minor": 4
}
