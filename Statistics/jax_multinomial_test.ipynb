{
 "cells": [
  {
   "cell_type": "code",
   "execution_count": 2,
   "metadata": {},
   "outputs": [],
   "source": [
    "import aesara.tensor as at\n",
    "import jax.numpy as jnp\n",
    "import numpy as np\n",
    "import jax"
   ]
  },
  {
   "cell_type": "code",
   "execution_count": 3,
   "metadata": {},
   "outputs": [
    {
     "data": {
      "text/plain": [
       "DeviceArray([   0, 1701], dtype=uint32)"
      ]
     },
     "execution_count": 3,
     "metadata": {},
     "output_type": "execute_result"
    }
   ],
   "source": [
    "jax_key = jax.random.PRNGKey(1701)\n",
    "jax_key"
   ]
  },
  {
   "cell_type": "code",
   "execution_count": 4,
   "metadata": {},
   "outputs": [],
   "source": [
    "sample = 0 + jax.random.normal(key=jax_key, dtype=jnp.float16) * 1\n",
    "sample_exp = jnp.exp(sample)\n",
    "#jax_key['jax_state'] = random.split(jax_key, num=1)[0]"
   ]
  },
  {
   "cell_type": "code",
   "execution_count": 5,
   "metadata": {},
   "outputs": [],
   "source": [
    "def sample_fn(rng, size, dtype, *parameters):\n",
    "    #rng_key = rng[\"jax_state\"]\n",
    "    loc, scale = parameters\n",
    "    sample = loc + jax.random.normal(rng, size, dtype) * scale\n",
    "    sample_exp = jax.numpy.exp(sample)\n",
    "    #rng[\"jax_state\"] = jax.random.split(rng, num=1)[0]\n",
    "    return (rng, sample_exp)"
   ]
  },
  {
   "cell_type": "code",
   "execution_count": 6,
   "metadata": {},
   "outputs": [
    {
     "data": {
      "text/plain": [
       "(DeviceArray([   0, 1701], dtype=uint32),\n",
       " DeviceArray([0.45558405, 3.867971  , 3.0604928 , 0.36627936, 1.8835636 ],            dtype=float32))"
      ]
     },
     "execution_count": 6,
     "metadata": {},
     "output_type": "execute_result"
    }
   ],
   "source": [
    "sample_fn(jax_key, jnp.array([5]), jnp.float32, 0, 1)"
   ]
  },
  {
   "cell_type": "code",
   "execution_count": 136,
   "metadata": {},
   "outputs": [],
   "source": [
    "def _scatter_add_one(operand, indices, updates):\n",
    "\n",
    "    outcome_cnts = jax.lax.scatter_add(\n",
    "        operand, indices, updates, \n",
    "        jax.lax.ScatterDimensionNumbers(\n",
    "            update_window_dims=(),\n",
    "            inserted_window_dims=(0,),\n",
    "            scatter_dims_to_operand_dims=(0,)\n",
    "            )\n",
    "        )\n",
    "\n",
    "    return outcome_cnts\n",
    "\n",
    "def _categorical(key, p, shape):\n",
    "    shape = shape or p.shape[:-1]\n",
    "    s = jax.numpy.cumsum(p, axis=-1)\n",
    "    r = jax.random.uniform(key, shape=shape + (1,))\n",
    "    return jax.numpy.sum(s < r, axis=-1)\n",
    "\n",
    "def multinomial_sample_fn(rng, size, dtype=jax.numpy.int32, *parameters):\n",
    "    \"\"\"add sampling functionality\"\"\"\n",
    "\n",
    "    #rng_key = rng[\"jax_state\"]\n",
    "    n, p = parameters\n",
    "    n_max = jax.numpy.max(n)\n",
    "    size = size or p.shape[:-1]\n",
    "    indices = _categorical(rng, p, (n_max,) + size)\n",
    "    \n",
    "    # indices_2d = (jax.numpy.reshape(indices, (n_max, -1,))).T\n",
    "    # samples_2d = jax.vmap(_scatter_add_one, (0, 0, 0))(\n",
    "    #     jax.numpy.zeros((indices_2d.shape[0], p.shape[-1]), dtype=indices.dtype),\n",
    "    #     jax.numpy.expand_dims(indices_2d, axis=-1),\n",
    "    #     jax.numpy.ones(indices_2d.shape, dtype=indices.dtype)\n",
    "    #     )\n",
    "\n",
    "    one_hot = jax.nn.one_hot(indices, p.shape[0])\n",
    "    samples = jax.numpy.sum(one_hot, axis=0, dtype=dtype, keepdims=False)\n",
    "    \n",
    "    # print(f\"samples _scatter    : \\n {samples_2d}\")\n",
    "    print(f\"samples one_hot sum : \\n {samples}\")\n",
    "    \n",
    "    return samples"
   ]
  },
  {
   "cell_type": "code",
   "execution_count": 138,
   "metadata": {},
   "outputs": [
    {
     "name": "stdout",
     "output_type": "stream",
     "text": [
      "samples one_hot sum : \n",
      " [[[2 1 1 2 2 2]\n",
      "  [4 3 0 0 1 2]]\n",
      "\n",
      " [[2 1 2 2 1 2]\n",
      "  [5 1 2 0 0 2]]]\n"
     ]
    }
   ],
   "source": [
    "samples = multinomial_sample_fn(\n",
    "    jax_key,\n",
    "    (2, 2),\n",
    "    jnp.int32, \n",
    "    10, jnp.array([1/6]*6)\n",
    ")\n"
   ]
  },
  {
   "cell_type": "code",
   "execution_count": 9,
   "metadata": {},
   "outputs": [
    {
     "data": {
      "text/plain": [
       "DeviceArray([4, 2, 2, 5, 2, 1, 5, 5, 0, 3], dtype=int32)"
      ]
     },
     "execution_count": 9,
     "metadata": {},
     "output_type": "execute_result"
    }
   ],
   "source": [
    "shape = jax.numpy.array([10.], dtype=jax.numpy.int32)\n",
    "p = jnp.array([1/6]*6)\n",
    "n_max = jax.numpy.max(10)\n",
    "size = None or p.shape[:-1]\n",
    "\n",
    "s = jax.numpy.cumsum(jnp.array([1/6]*6))\n",
    "r = jax.random.uniform(jax_key, shape=(n_max,) + size + (1,)) ## 10x1\n",
    "\n",
    "# 10x6 bool matrix indicating if label r > s (cum. probs.)\n",
    "bool_matrix = s < r\n",
    "jax.numpy.sum(bool_matrix, axis=-1)"
   ]
  },
  {
   "cell_type": "code",
   "execution_count": 11,
   "metadata": {},
   "outputs": [],
   "source": [
    "# operand: array to be updated \n",
    "operand = jax.numpy.zeros((indices_2d.shape[0], jnp.array([1/6]*6).shape[-1]), dtype=indices_2d.dtype)\n",
    "# indices: add dim to to last axis and indices to which update should be applied\n",
    "indices = jax.numpy.expand_dims(indices_2d, axis=-1)\n",
    "# updates: cnt += 1 to operand for each outcome occurence\n",
    "updates = jax.numpy.ones(indices_2d.shape, dtype=indices.dtype)"
   ]
  },
  {
   "cell_type": "code",
   "execution_count": 12,
   "metadata": {},
   "outputs": [
    {
     "data": {
      "text/plain": [
       "(DeviceArray([[0, 0, 0, 0, 0, 0]], dtype=int32),\n",
       " DeviceArray([[1, 1, 1, 1, 1, 1, 1, 1, 1, 1]], dtype=int32))"
      ]
     },
     "execution_count": 12,
     "metadata": {},
     "output_type": "execute_result"
    }
   ],
   "source": [
    "operand, updates"
   ]
  },
  {
   "cell_type": "code",
   "execution_count": 13,
   "metadata": {},
   "outputs": [
    {
     "name": "stdout",
     "output_type": "stream",
     "text": [
      "yay\n"
     ]
    }
   ],
   "source": [
    "if indices.dtype == jax.numpy.int32:\n",
    "    print('yay')"
   ]
  },
  {
   "cell_type": "code",
   "execution_count": 14,
   "metadata": {},
   "outputs": [],
   "source": [
    "p = np.array([1/6]*6, dtype=np.float64)\n",
    "n = np.array([20], dtype=np.int64)"
   ]
  },
  {
   "cell_type": "code",
   "execution_count": 15,
   "metadata": {},
   "outputs": [],
   "source": [
    "func = lambda *args: args"
   ]
  },
  {
   "cell_type": "code",
   "execution_count": 16,
   "metadata": {},
   "outputs": [
    {
     "data": {
      "text/plain": [
       "(array([0.16666667, 0.16666667, 0.16666667, 0.16666667, 0.16666667,\n",
       "        0.16666667]),\n",
       " array([20]))"
      ]
     },
     "execution_count": 16,
     "metadata": {},
     "output_type": "execute_result"
    }
   ],
   "source": [
    "func(p, n)"
   ]
  },
  {
   "cell_type": "code",
   "execution_count": 17,
   "metadata": {},
   "outputs": [],
   "source": [
    "some = np.array([1.0, 2.0], dtype=np.float64)\n",
    "#anoth = np.array(1.0, dtype=np.float64)\n",
    "func = lambda *args: (0, args[0])"
   ]
  },
  {
   "cell_type": "code",
   "execution_count": 18,
   "metadata": {},
   "outputs": [
    {
     "data": {
      "text/plain": [
       "(0, array([1., 2.]))"
      ]
     },
     "execution_count": 18,
     "metadata": {},
     "output_type": "execute_result"
    }
   ],
   "source": [
    "func(some)"
   ]
  },
  {
   "cell_type": "code",
   "execution_count": null,
   "metadata": {},
   "outputs": [],
   "source": []
  }
 ],
 "metadata": {
  "kernelspec": {
   "display_name": "aes",
   "language": "python",
   "name": "python3"
  },
  "language_info": {
   "codemirror_mode": {
    "name": "ipython",
    "version": 3
   },
   "file_extension": ".py",
   "mimetype": "text/x-python",
   "name": "python",
   "nbconvert_exporter": "python",
   "pygments_lexer": "ipython3",
   "version": "3.10.8"
  },
  "orig_nbformat": 4,
  "vscode": {
   "interpreter": {
    "hash": "55cd75923e6f3ff1fcdb813a1c28fc3e04d0af53874406440684516e56df882d"
   }
  }
 },
 "nbformat": 4,
 "nbformat_minor": 2
}
