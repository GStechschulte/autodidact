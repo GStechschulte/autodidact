{
 "cells": [
  {
   "cell_type": "code",
   "execution_count": 1,
   "metadata": {},
   "outputs": [],
   "source": [
    "import aesara.tensor as at\n",
    "import jax.numpy as jnp\n",
    "import numpy as np\n",
    "import jax"
   ]
  },
  {
   "cell_type": "code",
   "execution_count": 2,
   "metadata": {},
   "outputs": [
    {
     "data": {
      "text/plain": [
       "DeviceArray([   0, 1701], dtype=uint32)"
      ]
     },
     "execution_count": 2,
     "metadata": {},
     "output_type": "execute_result"
    }
   ],
   "source": [
    "jax_key = jax.random.PRNGKey(1701)\n",
    "jax_key"
   ]
  },
  {
   "cell_type": "code",
   "execution_count": 3,
   "metadata": {},
   "outputs": [
    {
     "data": {
      "text/plain": [
       "[DeviceArray(-1.609438, dtype=float32, weak_type=True),\n",
       " DeviceArray(-1.609438, dtype=float32, weak_type=True),\n",
       " DeviceArray(-1.609438, dtype=float32, weak_type=True),\n",
       " DeviceArray(-1.609438, dtype=float32, weak_type=True),\n",
       " DeviceArray(-1.609438, dtype=float32, weak_type=True),\n",
       " DeviceArray(-1.609438, dtype=float32, weak_type=True)]"
      ]
     },
     "execution_count": 3,
     "metadata": {},
     "output_type": "execute_result"
    }
   ],
   "source": [
    "[jnp.log((1/6) / (1-(1/6)))]*6"
   ]
  },
  {
   "cell_type": "code",
   "execution_count": 4,
   "metadata": {},
   "outputs": [
    {
     "data": {
      "text/plain": [
       "DeviceArray([1, 1, 5, 2, 2, 3, 2, 3, 5, 0], dtype=int32)"
      ]
     },
     "execution_count": 4,
     "metadata": {},
     "output_type": "execute_result"
    }
   ],
   "source": [
    "logits = jnp.array([jnp.log((1/6) / (1-(1/6)))]*6)\n",
    "jax.random.categorical(jax_key, logits, shape=(10,))"
   ]
  },
  {
   "cell_type": "code",
   "execution_count": 5,
   "metadata": {},
   "outputs": [],
   "source": [
    "def multinomial_sample_fn(rng, size, dtype=jax.numpy.int32, *parameters):\n",
    "    \"\"\"add sampling functionality\"\"\"\n",
    "\n",
    "    n, p = parameters\n",
    "    n_max = jax.numpy.max(n)\n",
    "    size = size or p.shape[:-1]\n",
    "    \n",
    "    logits = jax.scipy.special.logit(p)\n",
    "    indices = jax.random.categorical(jax_key, logits, shape=(n_max,) + size)\n",
    "    one_hot = jax.nn.one_hot(indices, p.shape[0])\n",
    "    samples = jax.numpy.sum(one_hot, axis=0, dtype=dtype, keepdims=False)\n",
    "    \n",
    "    return indices, samples"
   ]
  },
  {
   "cell_type": "code",
   "execution_count": 17,
   "metadata": {},
   "outputs": [],
   "source": [
    "indices, samples = multinomial_sample_fn(\n",
    "    jax_key,\n",
    "    (2,),\n",
    "    jnp.int32, \n",
    "    10, \n",
    "    jnp.array([1/6]*6)\n",
    "    )"
   ]
  },
  {
   "cell_type": "code",
   "execution_count": 18,
   "metadata": {},
   "outputs": [
    {
     "data": {
      "text/plain": [
       "(DeviceArray([[3, 2],\n",
       "              [4, 2],\n",
       "              [2, 3],\n",
       "              [1, 3],\n",
       "              [1, 4],\n",
       "              [2, 2],\n",
       "              [5, 0],\n",
       "              [4, 4],\n",
       "              [0, 5],\n",
       "              [2, 2]], dtype=int32),\n",
       " DeviceArray([[1, 2, 3, 1, 2, 1],\n",
       "              [1, 0, 4, 2, 2, 1]], dtype=int32))"
      ]
     },
     "execution_count": 18,
     "metadata": {},
     "output_type": "execute_result"
    }
   ],
   "source": [
    "indices, samples"
   ]
  },
  {
   "cell_type": "code",
   "execution_count": 59,
   "metadata": {},
   "outputs": [
    {
     "data": {
      "text/plain": [
       "DeviceArray([4, 2, 2, 5, 2, 1, 5, 5, 0, 3], dtype=int32)"
      ]
     },
     "execution_count": 59,
     "metadata": {},
     "output_type": "execute_result"
    }
   ],
   "source": [
    "shape = jax.numpy.array([10.], dtype=jax.numpy.int32)\n",
    "p = jnp.array([1/6]*6)\n",
    "n_max = jax.numpy.max(10)\n",
    "size = None or p.shape[:-1]\n",
    "\n",
    "s = jax.numpy.cumsum(jnp.array([1/6]*6))\n",
    "r = jax.random.uniform(jax_key, shape=(n_max,) + size + (1,)) ## 10x1\n",
    "\n",
    "# 10x6 bool matrix indicating if label r > s (cum. probs.)\n",
    "bool_matrix = s < r\n",
    "jax.numpy.sum(bool_matrix, axis=-1)"
   ]
  },
  {
   "cell_type": "code",
   "execution_count": 62,
   "metadata": {},
   "outputs": [
    {
     "data": {
      "text/plain": [
       "()"
      ]
     },
     "execution_count": 62,
     "metadata": {},
     "output_type": "execute_result"
    }
   ],
   "source": [
    "p.shape[:-1]"
   ]
  },
  {
   "cell_type": "code",
   "execution_count": null,
   "metadata": {},
   "outputs": [],
   "source": []
  }
 ],
 "metadata": {
  "kernelspec": {
   "display_name": "aes",
   "language": "python",
   "name": "python3"
  },
  "language_info": {
   "codemirror_mode": {
    "name": "ipython",
    "version": 3
   },
   "file_extension": ".py",
   "mimetype": "text/x-python",
   "name": "python",
   "nbconvert_exporter": "python",
   "pygments_lexer": "ipython3",
   "version": "3.10.8"
  },
  "orig_nbformat": 4,
  "vscode": {
   "interpreter": {
    "hash": "55cd75923e6f3ff1fcdb813a1c28fc3e04d0af53874406440684516e56df882d"
   }
  }
 },
 "nbformat": 4,
 "nbformat_minor": 2
}
