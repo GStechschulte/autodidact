{
 "cells": [
  {
   "cell_type": "code",
   "execution_count": 22,
   "metadata": {},
   "outputs": [],
   "source": [
    "import numpy as np\n",
    "import numpy as np\n",
    "import scipy.stats\n",
    "from scipy.stats import pareto\n",
    "import matplotlib.pyplot as plt\n",
    "import torch"
   ]
  },
  {
   "cell_type": "markdown",
   "metadata": {},
   "source": [
    "## Correlation\n",
    "\n",
    "The reflection or cross-dependence on two variables $X_1, Y_1$\n",
    " - If X and Y are independent, they are also uncorrelated\n",
    " - Correlation is the \"scaled\" version of covariance"
   ]
  },
  {
   "cell_type": "code",
   "execution_count": 21,
   "metadata": {},
   "outputs": [
    {
     "data": {
      "text/plain": [
       "-0.04833601138650741"
      ]
     },
     "execution_count": 21,
     "metadata": {},
     "output_type": "execute_result"
    }
   ],
   "source": [
    "X1 = np.random.normal(0, 1, 10**3)\n",
    "Y1 = np.random.normal(0, 1, 10**3)\n",
    "corr = np.corrcoef(X1, Y1)\n",
    "corr[1][0]"
   ]
  },
  {
   "cell_type": "markdown",
   "metadata": {},
   "source": [
    "## Spurious Correlation\n",
    "\n",
    "$n$ (# of observations) vs $p$ (random variables) -- $n$ vs $p$\n",
    " - As the amount of dimensions grow in a matrix, the greater the probability you have some correlation between the random variables\n",
    "\n",
    "Spuriousness increases at a rate of $p^2$\n",
    " - If you have a lot of variables, you better have a lot of observations in order to signify correlation\n",
    "     - Correlation _does not equal_ causation"
   ]
  },
  {
   "cell_type": "code",
   "execution_count": 44,
   "metadata": {},
   "outputs": [
    {
     "data": {
      "text/plain": [
       "array([[ 1.        , -0.23201807, -0.09433219, ...,  0.0691594 ,\n",
       "        -0.0550172 ,  0.15103437],\n",
       "       [-0.23201807,  1.        ,  0.13289209, ..., -0.2646365 ,\n",
       "        -0.06625623, -0.02674101],\n",
       "       [-0.09433219,  0.13289209,  1.        , ...,  0.05827599,\n",
       "        -0.21250642,  0.02740714],\n",
       "       ...,\n",
       "       [ 0.0691594 , -0.2646365 ,  0.05827599, ...,  1.        ,\n",
       "         0.08179819, -0.08932808],\n",
       "       [-0.0550172 , -0.06625623, -0.21250642, ...,  0.08179819,\n",
       "         1.        , -0.03243623],\n",
       "       [ 0.15103437, -0.02674101,  0.02740714, ..., -0.08932808,\n",
       "        -0.03243623,  1.        ]])"
      ]
     },
     "execution_count": 44,
     "metadata": {},
     "output_type": "execute_result"
    }
   ],
   "source": [
    "matrix = torch.randn(1000, 100)\n",
    "np.corrcoef(matrix.numpy())"
   ]
  },
  {
   "cell_type": "markdown",
   "metadata": {},
   "source": [
    "Although it is kind of hard to tell, you can see the random matrix consisting of 100 variables and 1000 observations, shows some evidence of spurious correlation"
   ]
  },
  {
   "cell_type": "markdown",
   "metadata": {},
   "source": [
    "## Causes of Spurious Correlation?\n",
    "\n",
    " - Confounding variables (Secondary variance)"
   ]
  },
  {
   "cell_type": "code",
   "execution_count": null,
   "metadata": {},
   "outputs": [],
   "source": []
  }
 ],
 "metadata": {
  "kernelspec": {
   "display_name": "Python 3",
   "language": "python",
   "name": "python3"
  },
  "language_info": {
   "codemirror_mode": {
    "name": "ipython",
    "version": 3
   },
   "file_extension": ".py",
   "mimetype": "text/x-python",
   "name": "python",
   "nbconvert_exporter": "python",
   "pygments_lexer": "ipython3",
   "version": "3.7.4"
  }
 },
 "nbformat": 4,
 "nbformat_minor": 4
}
