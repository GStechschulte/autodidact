{
 "cells": [
  {
   "cell_type": "code",
   "execution_count": 2,
   "metadata": {},
   "outputs": [],
   "source": [
    "import numpy as np\n",
    "import numpy as np\n",
    "import scipy.stats\n",
    "from scipy.stats import pareto\n",
    "import matplotlib.pyplot as plt"
   ]
  },
  {
   "cell_type": "markdown",
   "metadata": {},
   "source": [
    "## Central Limit Theorem (CLT) \n",
    "\n",
    "What does the CLT allow you to do?\n",
    " - Ideally, in your experiment, you aim to collect a sample that is representative of the population\n",
    " - Given an appropriate sample size, the distribution of the sample size tends to be valid for the population\n",
    " - Thus, the CLT allows you to generalize the conclusions of an experiment to the population\n",
    "\n",
    "From Nassim Taleb's MOOC\n",
    "\n",
    " - Observations $X_1. . .X_n$ are drawn from the same distribution with finite variance \n",
    " - Each observation is treated as a random variable (RV) and as $n$ becomes large, if you some them up $\\sum_{i=1}^n X$, it will converge to a more Gaussian like distribution\n",
    " - But, of course, what about those heavily skewed distributions?\n",
    "     - You must collect *a lot* more samples when their is a skewed distribution\n",
    "\n"
   ]
  },
  {
   "cell_type": "markdown",
   "metadata": {},
   "source": [
    "### Uniform Distribution"
   ]
  },
  {
   "cell_type": "code",
   "execution_count": 10,
   "metadata": {},
   "outputs": [
    {
     "data": {
      "image/png": "[encoded data removed]",
      "text/plain": [
       "<Figure size 432x288 with 1 Axes>"
      ]
     },
     "metadata": {
      "needs_background": "light"
     },
     "output_type": "display_data"
    }
   ],
   "source": [
    "# One RV with 1000 observations - Uniform Distribution\n",
    "plt.hist(np.random.uniform(0.0, 1.0, 10**3))\n",
    "plt.show()"
   ]
  },
  {
   "cell_type": "code",
   "execution_count": 11,
   "metadata": {},
   "outputs": [
    {
     "data": {
      "image/png": "[encoded data removed]",
      "text/plain": [
       "<Figure size 432x288 with 1 Axes>"
      ]
     },
     "metadata": {
      "needs_background": "light"
     },
     "output_type": "display_data"
    }
   ],
   "source": [
    "dists = []\n",
    "\n",
    "# Each i is a \"random variable\" (RV) drawn from the same distribution - 100 RVs with sample size = 1000\n",
    "for i in range(1, 100):\n",
    "    var = np.random.uniform(0.0, 1.0, 10**3)\n",
    "    dists.append(var)\n",
    "\n",
    "# Summing over all RVs and plotting the final distribution\n",
    "summation = 0\n",
    "for dist in dists:\n",
    "    summation += dist\n",
    "    \n",
    "plt.hist(summation)\n",
    "plt.show()"
   ]
  },
  {
   "cell_type": "markdown",
   "metadata": {},
   "source": [
    "### Pareto Distribution"
   ]
  },
  {
   "cell_type": "code",
   "execution_count": 15,
   "metadata": {},
   "outputs": [
    {
     "data": {
      "image/png": "[encoded data removed]",
      "text/plain": [
       "<Figure size 432x288 with 1 Axes>"
      ]
     },
     "metadata": {
      "needs_background": "light"
     },
     "output_type": "display_data"
    }
   ],
   "source": [
    "# alpha is the shape\n",
    "plt.hist(np.random.pareto(1000, 10**3))\n",
    "plt.show()"
   ]
  },
  {
   "cell_type": "code",
   "execution_count": 27,
   "metadata": {},
   "outputs": [
    {
     "data": {
      "image/png": "[encoded data removed]",
      "text/plain": [
       "<Figure size 432x288 with 1 Axes>"
      ]
     },
     "metadata": {
      "needs_background": "light"
     },
     "output_type": "display_data"
    }
   ],
   "source": [
    "dists = []\n",
    "\n",
    "for i in range(1, 100):\n",
    "    var = np.random.pareto(1000, 10**3)\n",
    "    dists.append(var)\n",
    "\n",
    "summation = 0\n",
    "for dist in dists:\n",
    "    summation += dist\n",
    "    \n",
    "plt.hist(summation)\n",
    "plt.show()"
   ]
  },
  {
   "cell_type": "code",
   "execution_count": null,
   "metadata": {},
   "outputs": [],
   "source": []
  }
 ],
 "metadata": {
  "kernelspec": {
   "display_name": "Python 3",
   "language": "python",
   "name": "python3"
  },
  "language_info": {
   "codemirror_mode": {
    "name": "ipython",
    "version": 3
   },
   "file_extension": ".py",
   "mimetype": "text/x-python",
   "name": "python",
   "nbconvert_exporter": "python",
   "pygments_lexer": "ipython3",
   "version": "3.7.4"
  }
 },
 "nbformat": 4,
 "nbformat_minor": 4
}
