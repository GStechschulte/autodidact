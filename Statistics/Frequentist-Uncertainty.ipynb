{
 "cells": [
  {
   "cell_type": "code",
   "execution_count": 64,
   "source": [
    "import numpy as np\n",
    "import scipy.stats as stats\n",
    "import matplotlib.pyplot as plt\n",
    "import seaborn as sns\n",
    "import pandas as pd"
   ],
   "outputs": [],
   "metadata": {}
  },
  {
   "cell_type": "markdown",
   "source": [
    "## Frequentist Uncertainty\n",
    "\n",
    "The basic idea is to to represent uncertainty by calculating how a **quantity estimated from data (such as a parameter or a predicted label) would change if the data were changed**\n",
    "\n",
    "It is this notion of variation across repeated trials that forms the basis for modeling uncertainty used by the frequentist approach. By contrast, the Bayesian approach views probability in terms of information rather than repeated trials\n",
    "\n",
    "### Sampling Distributions\n",
    "\n",
    "In frequentist statistics, uncertainty is not represented by the posterior distribution of a random variable, but instead by the sampling distribution of an estimator\n",
    " - An estimator is a decision procedure that specifies what action to take given some observed data\n",
    "    - I.e., in parameter estimation, this could be MLE or MAP\n",
    "\n",
    "The sampling distribution of an estimator is the **distribution of results we would see if we applied the estimator multiple times to different datasets sampled from some distribution**"
   ],
   "metadata": {}
  },
  {
   "cell_type": "markdown",
   "source": [
    "### True Model: $p(x \\vert \\theta^*)$"
   ],
   "metadata": {}
  },
  {
   "cell_type": "code",
   "execution_count": 34,
   "source": [
    "# True model\n",
    "true_model = stats.norm(5, 2).rvs(10000)\n",
    "\n",
    "plt.figure(figsize=(10, 7))\n",
    "sns.histplot(true_model)\n",
    "plt.show()"
   ],
   "outputs": [
    {
     "output_type": "display_data",
     "data": {
      "image/png": "[encoded data removed]",
      "text/plain": [
       "<Figure size 720x504 with 1 Axes>"
      ]
     },
     "metadata": {
      "needs_background": "light"
     }
    }
   ],
   "metadata": {}
  },
  {
   "cell_type": "code",
   "execution_count": 35,
   "source": [
    "# Sampling \"S\" datasets, of size \"N\" from our true model\n",
    "S1 = np.random.choice(true_model, 100, replace=True)\n",
    "S2 = np.random.choice(true_model, 100, replace=True)\n",
    "S3 = np.random.choice(true_model, 100, replace=True)\n",
    "S4 = np.random.choice(true_model, 100, replace=True)\n",
    "S5 = np.random.choice(true_model, 100, replace=True)"
   ],
   "outputs": [],
   "metadata": {}
  },
  {
   "cell_type": "code",
   "execution_count": 58,
   "source": [
    "def maximum_likelihood(D, means, stds):\n",
    "    log_likelihood = np.array([np.sum(stats.norm(mean, std).logpdf(D))\n",
    "                for mean, std in zip(means, stds)])\n",
    "    idx = np.argwhere(log_likelihood == log_likelihood.max())[0][0]\n",
    "    \n",
    "    return [round(means[idx], 2), round(stds[idx], 2)]"
   ],
   "outputs": [],
   "metadata": {}
  },
  {
   "cell_type": "code",
   "execution_count": 59,
   "source": [
    "means = np.linspace(0.1, 10, 100)\n",
    "stds = np.linspace(0.1, 5, 100)"
   ],
   "outputs": [],
   "metadata": {}
  },
  {
   "cell_type": "code",
   "execution_count": 60,
   "source": [
    "S1_params = maximum_likelihood(S1, means, stds)\n",
    "S2_params = maximum_likelihood(S2, means, stds)\n",
    "S3_params = maximum_likelihood(S3, means, stds)\n",
    "S4_params = maximum_likelihood(S4, means, stds)\n",
    "S5_params = maximum_likelihood(S5, means, stds)"
   ],
   "outputs": [],
   "metadata": {}
  },
  {
   "cell_type": "code",
   "execution_count": 67,
   "source": [
    "df = pd.DataFrame({'D': ['S1',\n",
    "                         'S2',\n",
    "                         'S3',\n",
    "                         'S4',\n",
    "                         'S5'],\n",
    "                    'mean': [S1_params[0],\n",
    "                             S2_params[0],\n",
    "                             S3_params[0],\n",
    "                             S4_params[0],\n",
    "                             S5_params[0]],\n",
    "                    'std': [S1_params[1],\n",
    "                             S2_params[1],\n",
    "                             S3_params[1],\n",
    "                             S4_params[1],\n",
    "                             S5_params[1]]})"
   ],
   "outputs": [],
   "metadata": {}
  },
  {
   "cell_type": "code",
   "execution_count": 68,
   "source": [
    "df"
   ],
   "outputs": [
    {
     "output_type": "execute_result",
     "data": {
      "text/html": [
       "<div>\n",
       "<style scoped>\n",
       "    .dataframe tbody tr th:only-of-type {\n",
       "        vertical-align: middle;\n",
       "    }\n",
       "\n",
       "    .dataframe tbody tr th {\n",
       "        vertical-align: top;\n",
       "    }\n",
       "\n",
       "    .dataframe thead th {\n",
       "        text-align: right;\n",
       "    }\n",
       "</style>\n",
       "<table border=\"1\" class=\"dataframe\">\n",
       "  <thead>\n",
       "    <tr style=\"text-align: right;\">\n",
       "      <th></th>\n",
       "      <th>D</th>\n",
       "      <th>mean</th>\n",
       "      <th>std</th>\n",
       "    </tr>\n",
       "  </thead>\n",
       "  <tbody>\n",
       "    <tr>\n",
       "      <th>0</th>\n",
       "      <td>S1</td>\n",
       "      <td>4.5</td>\n",
       "      <td>2.28</td>\n",
       "    </tr>\n",
       "    <tr>\n",
       "      <th>1</th>\n",
       "      <td>S2</td>\n",
       "      <td>4.7</td>\n",
       "      <td>2.38</td>\n",
       "    </tr>\n",
       "    <tr>\n",
       "      <th>2</th>\n",
       "      <td>S3</td>\n",
       "      <td>4.8</td>\n",
       "      <td>2.43</td>\n",
       "    </tr>\n",
       "    <tr>\n",
       "      <th>3</th>\n",
       "      <td>S4</td>\n",
       "      <td>4.8</td>\n",
       "      <td>2.43</td>\n",
       "    </tr>\n",
       "    <tr>\n",
       "      <th>4</th>\n",
       "      <td>S5</td>\n",
       "      <td>4.4</td>\n",
       "      <td>2.23</td>\n",
       "    </tr>\n",
       "  </tbody>\n",
       "</table>\n",
       "</div>"
      ],
      "text/plain": [
       "    D  mean   std\n",
       "0  S1   4.5  2.28\n",
       "1  S2   4.7  2.38\n",
       "2  S3   4.8  2.43\n",
       "3  S4   4.8  2.43\n",
       "4  S5   4.4  2.23"
      ]
     },
     "metadata": {},
     "execution_count": 68
    }
   ],
   "metadata": {}
  },
  {
   "cell_type": "markdown",
   "source": [
    "In the context of parameter estimation, **it is the distribution** of $\\hat{\\theta}$, viewed as a random variable that depends on the random sample $D$. In more detail, imagine sampling $S$ different data sets, each of size $N$, from some true model $p(x \\vert \\theta^*)$"
   ],
   "metadata": {}
  },
  {
   "cell_type": "code",
   "execution_count": 73,
   "source": [
    "sns.histplot(x=df['mean'])"
   ],
   "outputs": [
    {
     "output_type": "execute_result",
     "data": {
      "text/plain": [
       "<AxesSubplot:xlabel='mean', ylabel='Count'>"
      ]
     },
     "metadata": {},
     "execution_count": 73
    },
    {
     "output_type": "display_data",
     "data": {
      "image/png": "[encoded data removed]",
      "text/plain": [
       "<Figure size 432x288 with 1 Axes>"
      ]
     },
     "metadata": {
      "needs_background": "light"
     }
    }
   ],
   "metadata": {}
  },
  {
   "cell_type": "code",
   "execution_count": null,
   "source": [],
   "outputs": [],
   "metadata": {}
  }
 ],
 "metadata": {
  "orig_nbformat": 4,
  "language_info": {
   "name": "python",
   "version": "3.7.4",
   "mimetype": "text/x-python",
   "codemirror_mode": {
    "name": "ipython",
    "version": 3
   },
   "pygments_lexer": "ipython3",
   "nbconvert_exporter": "python",
   "file_extension": ".py"
  },
  "kernelspec": {
   "name": "python3",
   "display_name": "Python 3.7.4 64-bit ('base': conda)"
  },
  "interpreter": {
   "hash": "6c344d601c3b2b7bc82ec79b9273ba7e1890aa66188b2ee9de85e4fb69c667e8"
  }
 },
 "nbformat": 4,
 "nbformat_minor": 2
}