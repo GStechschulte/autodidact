{
 "cells": [
  {
   "cell_type": "code",
   "execution_count": 130,
   "source": [
    "import numpy as np\n",
    "from sklearn.datasets import make_regression\n",
    "import matplotlib.pyplot as plt\n",
    "from scipy.stats import norm, invgamma\n",
    "import random\n",
    "import seaborn as sns\n",
    "import pandas as pd"
   ],
   "outputs": [],
   "metadata": {}
  },
  {
   "cell_type": "markdown",
   "source": [
    "## Maximum Likelihood Estimation\n",
    "\n",
    "MLE is a widely used method for estimating probabilities from data. Namely, MLE is a method of estimating the parameters of a probability distribution by maximizing a likelihood function, so that under the assumed statistical model (parameterized) the observed data is most probable.\n",
    "\n",
    "Likelihood function: $L(\\theta | D)$\n",
    "\n",
    "You **maximize** the likelihood function such that, which $\\theta$ gives you the highest probability of observing the data\n",
    "\n",
    "$\\theta$ = $argmax_\\theta P(D; \\theta)$\n",
    " - Select the parameter that returns the highest probability of observing the data\n",
    "\n",
    "MLE = Maximizing $P(Y | x, \\theta) = \\prod_{i=1}^N(y_i | x_i, \\theta)$\n",
    "   - If we choose parameter $\\theta$, how likely is it that each particular $x_i$ gives rise to label $y_i$"
   ],
   "metadata": {}
  },
  {
   "cell_type": "markdown",
   "source": [
    "#### Approach 1 - Using Linear Algebra\n",
    "\n",
    "In order to find the parameters $\\theta$, it is kind of like reverse engineering. \n",
    "\n",
    "$\\underbrace{\\begin{pmatrix} -3 \\\\ -1 \\\\ 0 \\\\ 1 \\\\ 3 \\end{pmatrix}}_{\\mathbf{\\vec{x}}}$ *\n",
    "$\\underbrace{\\begin{pmatrix}  w \\end{pmatrix}}_{\\mathbf{\\vec{\\vec{w}}}}$ =\n",
    "$\\underbrace{\\begin{pmatrix} -1.2 \\\\ -0.7 \\\\ 0.14 \\\\ 0.67 \\\\ 1.67 \\end{pmatrix}}_{\\mathbf{\\vec{y}}}$\n",
    "\n",
    "What parameter $w$ when multiplied by $\\vec{x}$ lands on $\\vec{y}$"
   ],
   "metadata": {}
  },
  {
   "cell_type": "code",
   "execution_count": 2,
   "source": [
    "# Define training set\n",
    "X = np.array([-3, -1, 0, 1, 3]).reshape(-1,1) # 5x1 vector, N=5, D=1\n",
    "y = np.array([-1.2, -0.7, 0.14, 0.67, 1.67]).reshape(-1,1) # 5x1 vector"
   ],
   "outputs": [],
   "metadata": {}
  },
  {
   "cell_type": "code",
   "execution_count": 36,
   "source": [
    "def max_likeli_est(X, y):\n",
    "    #N, D = X.shape[0], X.shape[1]\n",
    "    theta = np.linalg.solve(X.T @ X, X.T @ y)\n",
    "    return theta"
   ],
   "outputs": [],
   "metadata": {}
  },
  {
   "cell_type": "code",
   "execution_count": 54,
   "source": [
    "max_likeli_est(X, y)"
   ],
   "outputs": [
    {
     "output_type": "execute_result",
     "data": {
      "text/plain": [
       "array([[0.499]])"
      ]
     },
     "metadata": {},
     "execution_count": 54
    }
   ],
   "metadata": {}
  },
  {
   "cell_type": "markdown",
   "source": [
    "**Approach 2**\n",
    "\n",
    "Example: Say you have a manufacturing plant, and at a certain step, a device is measuring the weight of the good(s). The weight measurement is subject to some error that is Gaussian distributed.\n",
    "\n",
    "What is the most probable value of of the posterior probability density function?\n",
    "- \"What is the probability of the good having weight $w$, given the measurements $X$\"\n",
    "\n",
    "_Goal_: Find the weight of the good, given the data we have\n",
    "- Aka, maximize the likelihood gives us $P(X | w) = \\prod_i^Np(x_i | w$)\n",
    "    - We can run through different values of $w$, and then choose (\"arg max\") the value that gives us the highest probability of observing the observed data"
   ],
   "metadata": {}
  },
  {
   "cell_type": "code",
   "execution_count": 115,
   "source": [
    "random.seed(42)\n",
    "data = np.random.normal(loc=85, scale=20, size=100)\n",
    "weight_grid = np.linspace(1, 200, 100)\n",
    "error_grid = np.linspace(.1, 50, 100)\n",
    "\n",
    "# Actual mean of distribution\n",
    "np.mean(data)"
   ],
   "outputs": [
    {
     "output_type": "execute_result",
     "data": {
      "text/plain": [
       "86.2431783381608"
      ]
     },
     "metadata": {},
     "execution_count": 115
    }
   ],
   "metadata": {}
  },
  {
   "cell_type": "code",
   "execution_count": 116,
   "source": [
    "# Important: Assume we know the error (standard deviation = 10)\n",
    "# sum over all of the log pdf's for that particular weight\n",
    "likelihoods = [np.sum(norm(weight_guess, 10).logpdf(data))\n",
    "               for weight_guess in weight_grid]\n",
    "\n",
    "weight = weight_grid[np.argmax(likelihoods)]\n",
    "\n",
    "plt.plot(weight_grid, likelihoods)\n",
    "plt.xlabel('Weights')\n",
    "plt.ylabel('Log-likelihood')\n",
    "plt.axvline(weight)\n",
    "plt.title('Mean = {}'.format(round(weight, 2)))\n",
    "\n",
    "# But what if we don't know the error of the measurement? We must estimate this as well\n",
    "# Find the most likely weight AND error of the measurement for the good\n",
    "error_grid = np.linspace(.1, 50, 100)\n",
    "log_likelihoods = np.array([np.sum(norm(weight_guess, error_guess).logpdf(data))\n",
    "               for weight_guess, error_guess in zip(weight_grid, error_grid)])"
   ],
   "outputs": [
    {
     "output_type": "display_data",
     "data": {
      "text/plain": [
       "<Figure size 432x288 with 1 Axes>"
      ],
      "image/png": "[encoded data removed]"
     },
     "metadata": {
      "needs_background": "light"
     }
    }
   ],
   "metadata": {}
  },
  {
   "cell_type": "code",
   "execution_count": 117,
   "source": [
    "def compute_log_likelihood(measurements):\n",
    "    log_likelihoods = np.array([np.sum(norm(weight_guess, error_guess).logpdf(data))\n",
    "               for weight_guess, error_guess in zip(weight_grid, error_grid)])\n",
    "    return log_likelihoods"
   ],
   "outputs": [],
   "metadata": {}
  },
  {
   "cell_type": "code",
   "execution_count": 121,
   "source": [
    "# Where the log likelihood is the highest, return the index\n",
    "log_likelihood = np.argwhere(log_likelihoods == log_likelihoods.max())[0][0]\n",
    "weight_grid[log_likelihood], error_grid[log_likelihood]\n"
   ],
   "outputs": [
    {
     "output_type": "execute_result",
     "data": {
      "text/plain": [
       "(85.42424242424242, 21.269696969696973)"
      ]
     },
     "metadata": {},
     "execution_count": 121
    }
   ],
   "metadata": {}
  },
  {
   "cell_type": "markdown",
   "source": [
    "## Maximum Posterior Estimation\n",
    "\n",
    "If we have a prior knowledge about the distribution of the parameters $\\theta$, we can multiply an additional term to the likelihood function\n",
    " - I.e., For a given prior, after observing some data $x$, how should we update the distribution of $\\theta$?\n"
   ],
   "metadata": {}
  },
  {
   "cell_type": "markdown",
   "source": [
    "**Continuation of Approach 2**\n",
    "\n",
    "Previously, we assumed we had no prior knowledge about what the measurements of our good(s) should be. But this is obviously not true. Working in the manufacturing plant, we know the weight of our good should not be less than or greater than a certain number. \n",
    " - We can use this information to our advantage and encode it into our problem in the form of a _prior_"
   ],
   "metadata": {}
  },
  {
   "cell_type": "code",
   "execution_count": 140,
   "source": [
    "# We know our good weighs more than 50g but less than 100g on average. \n",
    "prior_weight = norm(50, 1).logpdf(weight_grid)\n",
    "prior_error = invgamma(4).logpdf(error_grid)\n",
    "prior_grid = np.add.outer(prior_weight, prior_error)"
   ],
   "outputs": [],
   "metadata": {}
  },
  {
   "cell_type": "code",
   "execution_count": 141,
   "source": [
    "def map(measurements, prior_grid):\n",
    "    log_likelihood = compute_log_likelihood(measurements)\n",
    "    log_posterior = log_likelihood + prior_grid\n",
    "    idx = np.argwhere(log_posterior == log_posterior.max())[0]\n",
    "    return idx"
   ],
   "outputs": [],
   "metadata": {}
  },
  {
   "cell_type": "code",
   "execution_count": 142,
   "source": [
    "print('Maximum Posterior Estimate: ', map(data, prior_grid))"
   ],
   "outputs": [
    {
     "output_type": "stream",
     "name": "stdout",
     "text": [
      "Maximum Posterior Estimate:  [24 42]\n"
     ]
    }
   ],
   "metadata": {}
  }
 ],
 "metadata": {
  "kernelspec": {
   "name": "python3",
   "display_name": "Python 3.7.4 64-bit ('base': conda)"
  },
  "language_info": {
   "codemirror_mode": {
    "name": "ipython",
    "version": 3
   },
   "file_extension": ".py",
   "mimetype": "text/x-python",
   "name": "python",
   "nbconvert_exporter": "python",
   "pygments_lexer": "ipython3",
   "version": "3.7.4"
  },
  "interpreter": {
   "hash": "6c344d601c3b2b7bc82ec79b9273ba7e1890aa66188b2ee9de85e4fb69c667e8"
  }
 },
 "nbformat": 4,
 "nbformat_minor": 4
}