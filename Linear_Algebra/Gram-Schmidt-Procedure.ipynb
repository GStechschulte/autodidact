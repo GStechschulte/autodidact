{
 "cells": [
  {
   "cell_type": "code",
   "execution_count": 1,
   "metadata": {},
   "outputs": [],
   "source": [
    "import numpy as np"
   ]
  },
  {
   "cell_type": "markdown",
   "metadata": {},
   "source": [
    "## Gram-Schmidt Procedure\n",
    "\n",
    "A method for turning a linearly independent list into an orthonormal list with the same span as the original list\n",
    "\n",
    "**Orthonormal Basis** - A list of vectors is called _orthonormal_ if each vector in the list has norm 1 _and_ is orthogonal to all the other vectors in the list\n",
    "\n",
    " - Column vectors must have a norm = 1\n",
    " - Show that the dot product between any two of them is = 0"
   ]
  },
  {
   "cell_type": "markdown",
   "metadata": {},
   "source": [
    "Given three vectors $u, v, w$"
   ]
  },
  {
   "cell_type": "code",
   "execution_count": 4,
   "metadata": {},
   "outputs": [
    {
     "name": "stdout",
     "output_type": "stream",
     "text": [
      "[[ 1  8  0]\n",
      " [ 2  1  0]\n",
      " [ 0 -6  1]]\n",
      "\n",
      "\n",
      "-15.0\n"
     ]
    }
   ],
   "source": [
    "u = np.array([1, 2, 0])\n",
    "v = np.array([8, 1, -6])\n",
    "w = np.array([0, 0, 1])\n",
    "\n",
    "A = np.array([u, v, w]).T\n",
    "\n",
    "print(A)\n",
    "print('\\n')\n",
    "print(np.linalg.det(A)) ## indeed, the list of vectors is independent"
   ]
  },
  {
   "cell_type": "code",
   "execution_count": 5,
   "metadata": {},
   "outputs": [
    {
     "data": {
      "text/plain": [
       "(array([[-0.4472136 ,  0.66666667,  0.59628479],\n",
       "        [-0.89442719, -0.33333333, -0.2981424 ],\n",
       "        [-0.        , -0.66666667,  0.74535599]]),\n",
       " array([[-2.23606798, -4.47213595,  0.        ],\n",
       "        [ 0.        ,  9.        , -0.66666667],\n",
       "        [ 0.        ,  0.        ,  0.74535599]]))"
      ]
     },
     "execution_count": 5,
     "metadata": {},
     "output_type": "execute_result"
    }
   ],
   "source": [
    "q, r = np.linalg.qr(A)\n",
    "q, r"
   ]
  }
 ],
 "metadata": {
  "interpreter": {
   "hash": "6ea8e6696542bf91b5850513673ceef1808937d627ee3e2c71e2007cafbd44d0"
  },
  "kernelspec": {
   "display_name": "Python 3.8.12 64-bit ('autodidact': conda)",
   "name": "python3"
  },
  "language_info": {
   "codemirror_mode": {
    "name": "ipython",
    "version": 3
   },
   "file_extension": ".py",
   "mimetype": "text/x-python",
   "name": "python",
   "nbconvert_exporter": "python",
   "pygments_lexer": "ipython3",
   "version": "3.8.12"
  },
  "orig_nbformat": 4
 },
 "nbformat": 4,
 "nbformat_minor": 2
}
