{
 "cells": [
  {
   "cell_type": "code",
   "execution_count": 1,
   "metadata": {},
   "outputs": [],
   "source": [
    "import torch\n",
    "import torch.nn as nn\n",
    "from res.plot_lib import set_default, show_scatterplot, plot_bases\n",
    "from matplotlib.pyplot import plot, title, axis\n",
    "import matplotlib.pyplot as plt\n",
    "import numpy as np"
   ]
  },
  {
   "cell_type": "markdown",
   "metadata": {},
   "source": [
    "## Abstract Vector Spaces\n",
    "\n",
    "Functions have \"vectorish\" qualities. Just like you can add or multiply vectors, you can add or multiply functions.\n",
    "\n",
    "$(f+g)(x) = f(x) + g(x)$\n",
    "\n",
    "_Note_: Vectors can only be added, subtracted, or scaled\n",
    "\n",
    "${\\begin{pmatrix} x_1 \\\\ y_1 \\\\ z_1 \\end{pmatrix}} + {\\begin{pmatrix} x_2\\\\ y_2 \\\\ z_2 \\end{pmatrix}} = {\\begin{pmatrix} x_1 + x_2 \\\\ y_1 + y_2 \\\\ z_1 + z_2 \\end{pmatrix}}$\n",
    "\n",
    "### The Derivative\n",
    "\n",
    "Transforms one function into another function and is linear\n",
    "\n",
    "$\\frac{d}{dx}(x^3+x^2)$ = $\\frac{d}{dx}(x^3) + \\frac{d}{dx}(x^2)$\n",
    "\n",
    "\n",
    "But first, the formal definition of linearity: \n",
    " - Additivity: $L(\\vec{v} + \\vec{w}) = L(\\vec{v}) + L(\\vec{w})$\n",
    " - Scaling: $L(c*\\vec{v}) = c*L(\\vec{v})$\n",
    "     - $c$ = some constant / scalar\n",
    "\n",
    "You can **describe the derivative with a matrix**:\n",
    "\n",
    "Our space is polynomials (polynomials can be represented as vectors):\n",
    " - $1x^2+3x+5*1$ = written as a linear combination\n",
    "\n",
    "Basis Function:\n",
    " - $b_o(x)$ = 1\n",
    " - $b_1(x)$ = $x$\n",
    " - $b_2(x)$ = $x^2$\n",
    " - $b_3(x)$ = $x^3$\n",
    "\n",
    "$5*1$\n",
    "\n",
    "$3x$\n",
    "\n",
    "$1x^2$  \n",
    "\n",
    "$0x^3$\n",
    "\n",
    "$0x^4$\n",
    "\n",
    "which, written in vector space = ${\\begin{pmatrix} 5 \\\\ 3 \\\\ 1 \\\\ 0 \\\\ 0 \\end{pmatrix}}$\n",
    "\n",
    "The derivative of this is an infinitely large matrix:\n",
    "\n",
    "$\\frac{d}{dx}(1x^3 + 5x^2 + 4x + 5) = 3x^2+10x+4$\n",
    "\n",
    "which, written in matrix notation:\n",
    "\n",
    "${\\begin{pmatrix} 0 & 1 & 0 & 0 & . . . \\\\ \n",
    "                  0 & 0 & 2 & 0 & . . . \\\\\n",
    "                  0 & 0 & 0 & 3 & . . . \\\\\n",
    "                  0 & 0 & 0 & 0 & . . . \\\\ \n",
    "                  . . . & . . . & . . . & . . . & . . .\\end{pmatrix}}$ * ${\\begin{pmatrix} 5 \\\\ 4 \\\\ 5 \\\\ 1 \\\\ . . . \\end{pmatrix}}$ = ${\\begin{pmatrix} 1*4 \\\\ 2*5 \\\\ 3*1 \\\\ 0 \\\\ . . . \\end{pmatrix}}$\n",
    "                  \n",
    "Which then leads us to the awesome realization that matrix-vector multiplication and the derivative are **both linear transformations**"
   ]
  },
  {
   "cell_type": "code",
   "execution_count": null,
   "metadata": {},
   "outputs": [],
   "source": []
  }
 ],
 "metadata": {
  "kernelspec": {
   "display_name": "Python 3",
   "language": "python",
   "name": "python3"
  },
  "language_info": {
   "codemirror_mode": {
    "name": "ipython",
    "version": 3
   },
   "file_extension": ".py",
   "mimetype": "text/x-python",
   "name": "python",
   "nbconvert_exporter": "python",
   "pygments_lexer": "ipython3",
   "version": "3.7.4"
  }
 },
 "nbformat": 4,
 "nbformat_minor": 4
}
