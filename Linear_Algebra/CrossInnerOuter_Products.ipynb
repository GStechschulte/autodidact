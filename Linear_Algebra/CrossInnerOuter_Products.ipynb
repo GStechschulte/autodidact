{
 "cells": [
  {
   "cell_type": "code",
   "execution_count": 1,
   "metadata": {},
   "outputs": [],
   "source": [
    "import torch\n",
    "import torch.nn as nn\n",
    "#from res.plot_lib import set_default, show_scatterplot, plot_bases\n",
    "from matplotlib.pyplot import plot, title, axis\n",
    "import matplotlib.pyplot as plt\n",
    "import plotly.express as px\n",
    "import plotly.graph_objects as go\n",
    "import numpy as np"
   ]
  },
  {
   "cell_type": "markdown",
   "metadata": {},
   "source": [
    "# Cross, Inner, Outer and Dot Products"
   ]
  },
  {
   "cell_type": "markdown",
   "metadata": {},
   "source": [
    "### Outer Product"
   ]
  },
  {
   "cell_type": "code",
   "execution_count": null,
   "metadata": {},
   "outputs": [],
   "source": []
  },
  {
   "cell_type": "markdown",
   "metadata": {},
   "source": [
    "### Cross Product\n",
    "\n",
    "Cross product of two vectors $\\vec{v}, \\vec{w}$ in 2d give you the area of the \"parallelepiped\".\n",
    " - The order matters: $\\hat{i} * \\hat{j} = +$ and $\\hat{j} * \\hat{i} = -$\n",
    "\n",
    "The cross product is measuring how areas have changed after a transformation\n",
    "\n",
    "Well. . .the cross product is not defined in 2d and is only for 3d. The cross product is combining 2 different 3d vectors to get **another** 3d vector\n",
    " - Output of a cross product is a vector that is orthogonal to the original two vectors\n",
    "\n",
    "Cross products **in light of linear transformations**:\n",
    "\n"
   ]
  },
  {
   "cell_type": "code",
   "execution_count": 21,
   "metadata": {},
   "outputs": [
    {
     "data": {
      "text/plain": [
       "array([[-3],\n",
       "       [ 6],\n",
       "       [-3]])"
      ]
     },
     "execution_count": 21,
     "metadata": {},
     "output_type": "execute_result"
    }
   ],
   "source": [
    "x = np.array([1, 2, 3])\n",
    "y = np.array([4, 5, 6])\n",
    "z = np.cross(x, y)\n",
    "z.reshape(-1, 1)"
   ]
  },
  {
   "cell_type": "code",
   "execution_count": null,
   "metadata": {},
   "outputs": [],
   "source": [
    "fig = go.Figure(data = [go.Scatter3d(x = x, y = y, z = z,\n",
    "                                    mode = 'markers',\n",
    "                       marker = dict(size = 8, color = z))])\n",
    "fig.show()"
   ]
  },
  {
   "cell_type": "markdown",
   "metadata": {},
   "source": [
    "### Inner and Dot Product\n",
    "\n",
    "Inner product is synonomous to the Dot product, it just has to do with the dimensions\n",
    " - I.e., the numpy docs, \"If both a and b are 1-D arrays, it is inner product of vectors (without complex conjugation) and if both a and b are 2-D arrays, it is matrix multiplication, but using matmul or a @ b is preferred\"\n",
    "\n",
    "Inner product between 2 column vectors:\n",
    "\n",
    "$\\vec{v}$ = ${\\begin{pmatrix} v_1 \\\\ v_2 \\\\ v_3 \\end{pmatrix}}$ , $\\vec{u}$ = ${\\begin{pmatrix} u_1\\\\ u_2 \\\\ u_3 \\end{pmatrix}}$\n",
    "\n",
    "$\\vec{v} * \\vec{u} = u^Tv$ . . . _*need to transpose in order to perform the multiplication (3x1 != 3x1) (1x3 = 3x1)_\n",
    " - The result after performing this inner / dot product? A scalar\n",
    " - Think of regression when you take the dot product between coefficient ($\\beta$) vector and the feature vector. You transpose the $w$ vector and then take take the dot product with the feature vector\n",
    "    - I.e., You often see $y = w^Tx+ b$ in \"ML\" models. The $w^Tx$ represents the dot product"
   ]
  },
  {
   "cell_type": "code",
   "execution_count": 59,
   "metadata": {},
   "outputs": [],
   "source": [
    "# PyTorch\n",
    "feats = torch.randint(10, 50, (10, 2))\n",
    "w = torch.randn(10, 2)\n",
    "# Numpy \n",
    "feats2 = np.random.randint(10, 50, (10)) ## 1d array\n",
    "w2 = np.random.randn(10)"
   ]
  },
  {
   "cell_type": "code",
   "execution_count": 50,
   "metadata": {},
   "outputs": [
    {
     "data": {
      "text/plain": [
       "((10,), (10,))"
      ]
     },
     "execution_count": 50,
     "metadata": {},
     "output_type": "execute_result"
    }
   ],
   "source": [
    "w2.shape, feats2.shape"
   ]
  },
  {
   "cell_type": "code",
   "execution_count": 51,
   "metadata": {},
   "outputs": [
    {
     "data": {
      "text/plain": [
       "-28.281511784549004"
      ]
     },
     "execution_count": 51,
     "metadata": {},
     "output_type": "execute_result"
    }
   ],
   "source": [
    "np.dot(w2, feats2)"
   ]
  },
  {
   "cell_type": "markdown",
   "metadata": {},
   "source": [
    "#### Dot Product - Matrices"
   ]
  },
  {
   "cell_type": "code",
   "execution_count": 116,
   "metadata": {},
   "outputs": [],
   "source": [
    "# Tensor with random number generation from Gaussian distribution - (1000, 3)\n",
    "X = torch.randn(1000, 3)\n",
    "w = torch.randn(3, 3)"
   ]
  },
  {
   "cell_type": "code",
   "execution_count": null,
   "metadata": {},
   "outputs": [],
   "source": [
    "fig = go.Figure(data = [go.Scatter3d(x = X[:, 0], y = X[:, 1], z = X[:, 2],\n",
    "                                    mode = 'markers',\n",
    "                       marker = dict(size = 3, color = X[:, 2], colorscale = 'Viridis', opacity = 0.8))])\n",
    "fig.show()"
   ]
  },
  {
   "cell_type": "code",
   "execution_count": 125,
   "metadata": {},
   "outputs": [],
   "source": [
    "y = np.dot(X, w.T)"
   ]
  },
  {
   "cell_type": "code",
   "execution_count": null,
   "metadata": {},
   "outputs": [],
   "source": [
    "fig = go.Figure(data = [go.Scatter3d(x = y[:, 0], y = y[:, 1], z = y[:, 2],\n",
    "                                    mode = 'markers',\n",
    "                       marker = dict(size = 3, color = y[:, 2], colorscale = 'Viridis', opacity = 0.8))])\n",
    "fig.show()"
   ]
  }
 ],
 "metadata": {
  "kernelspec": {
   "display_name": "Python 3",
   "language": "python",
   "name": "python3"
  },
  "language_info": {
   "codemirror_mode": {
    "name": "ipython",
    "version": 3
   },
   "file_extension": ".py",
   "mimetype": "text/x-python",
   "name": "python",
   "nbconvert_exporter": "python",
   "pygments_lexer": "ipython3",
   "version": "3.7.4"
  }
 },
 "nbformat": 4,
 "nbformat_minor": 4
}
