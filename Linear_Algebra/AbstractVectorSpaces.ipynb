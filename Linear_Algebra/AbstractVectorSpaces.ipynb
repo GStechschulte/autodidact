{
 "cells": [
  {
   "cell_type": "code",
   "execution_count": 1,
   "metadata": {},
   "outputs": [],
   "source": [
    "import torch\n",
    "import torch.nn as nn\n",
    "from res.plot_lib import set_default, show_scatterplot, plot_bases\n",
    "from matplotlib.pyplot import plot, title, axis\n",
    "import matplotlib.pyplot as plt\n",
    "import numpy as np"
   ]
  },
  {
   "cell_type": "markdown",
   "metadata": {},
   "source": [
    "## Abstract Vector Spaces\n",
    "\n",
    "Functions have \"vectorish\" qualities. Just like you can add or multiply vectors, you can add or multiply functions.\n",
    "\n",
    "$(f+g)(x) = f(x) + g(x)$\n",
    "\n",
    "_Note_: Vectors can only be added, subtracted, or scaled\n",
    "\n",
    "### The Derivative\n",
    "\n",
    "Transforms one function into another function and is linear\n",
    "\n",
    "$\\frac{d}{dx}(x^3+x^2)$ = $\\frac{d}{dx}(x^3) + \\frac{d}{dx}(x^2)$\n",
    "\n",
    "You can describe the derivative with a matrix:"
   ]
  },
  {
   "cell_type": "code",
   "execution_count": null,
   "metadata": {},
   "outputs": [],
   "source": []
  }
 ],
 "metadata": {
  "kernelspec": {
   "display_name": "Python 3",
   "language": "python",
   "name": "python3"
  },
  "language_info": {
   "codemirror_mode": {
    "name": "ipython",
    "version": 3
   },
   "file_extension": ".py",
   "mimetype": "text/x-python",
   "name": "python",
   "nbconvert_exporter": "python",
   "pygments_lexer": "ipython3",
   "version": "3.7.4"
  }
 },
 "nbformat": 4,
 "nbformat_minor": 4
}
