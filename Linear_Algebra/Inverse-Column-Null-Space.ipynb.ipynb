{
 "cells": [
  {
   "cell_type": "code",
   "execution_count": 2,
   "source": [
    "import torch\n",
    "import torch.nn as nn\n",
    "from res.plot_lib import set_default, show_scatterplot, plot_bases\n",
    "from matplotlib.pyplot import plot, title, axis\n",
    "import matplotlib.pyplot as plt\n",
    "import numpy as np"
   ],
   "outputs": [],
   "metadata": {}
  },
  {
   "cell_type": "code",
   "execution_count": 2,
   "source": [
    "device = torch.device(\"cuda:0\" if torch.cuda.is_available() else \"cpu\")"
   ],
   "outputs": [],
   "metadata": {}
  },
  {
   "cell_type": "markdown",
   "source": [
    "# Inverse Matrices, Column Space, Rank, and Null Space\n",
    "\n",
    "Matrix Algebra is most useful when solving *linear* systems of equations, such as:\n",
    "\n",
    "$$\n",
    "\\begin{align}\n",
    "2x + 4y + -2z &= 3 \\\\\n",
    "4x + 9y + -3z &= 8 \\\\\n",
    "-2x - 3y + 7z &= 10\n",
    "\\end{align}\n",
    "$$\n",
    "\n",
    "Which is simply a list of equations with unkown variables. These linear system of equations can be packaged into a single vector equation where:\n",
    " - Matrix contains coefficients $A$\n",
    " - Vector contains variables $\\hat{x}$\n",
    " - Output vector (matrix-vector output) $\\hat{b}$\n",
    "\n",
    "$$\n",
    "\\underbrace{\\begin{bmatrix} 2 & 4 & -2 \\\\ 4 & 9 & -3 \\\\ -2 & -3 & 7 \\end{bmatrix}}_{\\mathbf{A}}\n",
    "\\underbrace{\\begin{bmatrix} x \\\\ y \\\\ z \\end{bmatrix}}_{\\mathbf{x}} =\n",
    "\\underbrace{\\begin{bmatrix} 3 \\\\ 8 \\\\ 10 \\end{bmatrix}}_{\\mathbf{b}}\n",
    "$$\n",
    "\n",
    "Solving the system is saying \"we're looking for a vector $\\vec{x}$, which after applying the transformation $A$, lands on the vector $\\vec{b}$\" \n",
    "\n",
    "With the inverse matrix, $A^-1$, you will find the vector $\\vec{x}$, that when applied to $A$, gets you to $\\vec{b}$ \n",
    "\n",
    "Note that $\\mathbf{A}^{-1}\\mathbf{A} = \\mathbf{I}$, where $\\mathbf{I}$ is the **identity matrix**:\n",
    "\n",
    "_Important_: When the det(A) = 0, you cannot find the inverse (you cannot find the inverse a line or plane)\n",
    "\n",
    "$$\n",
    "\\mathbf{I}_{n \\times n} =\n",
    "\\begin{bmatrix} \n",
    "1 & 0 & ... & 0 \\\\\n",
    "0 & 1 & ... & 0 \\\\\n",
    "\\vdots & \\vdots & \\ddots & \\vdots \\\\\n",
    "0 & 0 & ... &1 \\\\\n",
    "\\end{bmatrix}\n",
    "$$\n",
    "\n",
    "Such that\n",
    "\n",
    "$$\n",
    "\\begin{align}\n",
    "\\mathbf{A} \\mathbf{x} &= \\mathbf{b} \\\\\n",
    "\\mathbf{A^{-1}}\\mathbf{A}\\mathbf{x} &= \\mathbf{A^{-1}}\\mathbf{b} \\\\\n",
    "\\mathbf{x} &= \\mathbf{A^{-1}}\\mathbf{b}\n",
    "\\end{align}\n",
    "$$"
   ],
   "metadata": {}
  },
  {
   "cell_type": "markdown",
   "source": [
    "### Identity Matrix\n",
    "\n",
    "The identity matrix $I_n$ is a special matrix of shape ($n \\times n$) that is filled with $0$ except the diagonal that is filled with 1.\n",
    " - An identity matrix times some vector gives you that same vector as output"
   ],
   "metadata": {}
  },
  {
   "cell_type": "code",
   "execution_count": 4,
   "source": [
    "# Identity matrix multiplied with a vector results in the same vector\n",
    "x = np.array([[2], [3], [6]])\n",
    "x"
   ],
   "outputs": [
    {
     "output_type": "execute_result",
     "data": {
      "text/plain": [
       "array([[2],\n",
       "       [3],\n",
       "       [6]])"
      ]
     },
     "metadata": {},
     "execution_count": 4
    }
   ],
   "metadata": {}
  },
  {
   "cell_type": "code",
   "execution_count": 5,
   "source": [
    "# Identity matrix\n",
    "I = np.eye(x.shape[0])\n",
    "I"
   ],
   "outputs": [
    {
     "output_type": "execute_result",
     "data": {
      "text/plain": [
       "array([[1., 0., 0.],\n",
       "       [0., 1., 0.],\n",
       "       [0., 0., 1.]])"
      ]
     },
     "metadata": {},
     "execution_count": 5
    }
   ],
   "metadata": {}
  },
  {
   "cell_type": "code",
   "execution_count": 6,
   "source": [
    "# Identity * x = x\n",
    "I.dot(x)"
   ],
   "outputs": [
    {
     "output_type": "execute_result",
     "data": {
      "text/plain": [
       "array([[2.],\n",
       "       [3.],\n",
       "       [6.]])"
      ]
     },
     "metadata": {},
     "execution_count": 6
    }
   ],
   "metadata": {}
  },
  {
   "cell_type": "markdown",
   "source": [
    "### Inverse Matrix\n",
    "\n",
    "The inverse matrix is analogues to the reciprocal, or multiplicative inverse, of a nonzero number. Recall that the multiplicative inverse of a number such as 5 is 1/5 or $5^{-1}$\n",
    " - $5^{-1} * 5 = 1$ and $5 * 5^{-1} = 1$\n",
    "\n",
    "Now, generalizing this to square matrices, instead of multiyplying the 1 as before, multiply the matrix by the identity matrix $I$\n",
    "\n",
    "The inverse matrix is the matrix that results in the identity matrix when it is multiplied by $A$\n",
    " - That is, if you multiply the inverse matrix $A^{-1}$ by the original matrix $A$, the result will be the identity matrix $I$\n",
    "\n",
    "This means that if we apply a linear transformation to the space with $A$, it is possible to go back with $A^{-1}$. It provides a way to **cancel the transformation**\n",
    " - $A^{-1}A$ = $I$\n",
    "\n",
    "_Critical_ - The inverse of matrices can be very useful, for instance, to solve a set of linear equations\n",
    "\n",
    "_Rules_:\n",
    "\n",
    "A full generalization is possible only if the matrices involved are square. An $n$ x $n$ matrix $A$ is said to be invertible if there is an $n$ x $n$ matrix $C$ such that:\n",
    "\n",
    "$CA = I$ and $AC = I$\n",
    "\n",
    "where $C$ = $A^{-1}$\n",
    "\n",
    "A matrix that is not invertible is sometimes called an singular matrix, and an invertible matrix is called an nonsingluar matrix\n",
    "\n",
    "_Quick trick_: If the determinant of the matrix = 0, then the matrix is not invertible"
   ],
   "metadata": {}
  },
  {
   "cell_type": "code",
   "execution_count": 3,
   "source": [
    "A = np.array([[3, 0, 2], [2, 0, -2], [0, 1, 1]])\n",
    "A"
   ],
   "outputs": [
    {
     "output_type": "execute_result",
     "data": {
      "text/plain": [
       "array([[ 3,  0,  2],\n",
       "       [ 2,  0, -2],\n",
       "       [ 0,  1,  1]])"
      ]
     },
     "metadata": {},
     "execution_count": 3
    }
   ],
   "metadata": {}
  },
  {
   "cell_type": "code",
   "execution_count": 8,
   "source": [
    "# Compute the inverse\n",
    "A_inv = np.linalg.inv(A)\n",
    "A_inv"
   ],
   "outputs": [
    {
     "output_type": "execute_result",
     "data": {
      "text/plain": [
       "array([[ 0.2,  0.2,  0. ],\n",
       "       [-0.2,  0.3,  1. ],\n",
       "       [ 0.2, -0.3, -0. ]])"
      ]
     },
     "metadata": {},
     "execution_count": 8
    }
   ],
   "metadata": {}
  },
  {
   "cell_type": "code",
   "execution_count": 9,
   "source": [
    "A_bis = A_inv.dot(A)\n",
    "A_bis"
   ],
   "outputs": [
    {
     "output_type": "execute_result",
     "data": {
      "text/plain": [
       "array([[ 1.00000000e+00,  0.00000000e+00, -1.11022302e-16],\n",
       "       [ 0.00000000e+00,  1.00000000e+00,  0.00000000e+00],\n",
       "       [ 0.00000000e+00,  0.00000000e+00,  1.00000000e+00]])"
      ]
     },
     "metadata": {},
     "execution_count": 9
    }
   ],
   "metadata": {}
  },
  {
   "cell_type": "markdown",
   "source": [
    "### Column Space and Rank\n",
    "\n",
    "#### Rank\n",
    "\n",
    "When the output of a transformation is (det.) is:\n",
    " - a line, then the transformation's rank = 1\n",
    " - a plane, then the transformation's rank = 2\n",
    "\n",
    "You can think of the rank as the # of dimensions in the output resulting from a transformation:\n",
    " - A 3d transformation's det. != 0, then rank = 3\n",
    " - A 2d transformation's det. != 0, then rank = 2\n",
    " \n",
    "**Full Rank** - All rows and columns are linearly independent\n",
    "\n",
    "\n",
    "#### Column Space\n",
    "\n",
    "The set of all possible outputs for a matrix is called the column space of that matrix\n",
    " - Column space = Where $\\hat{i}, \\hat{j}$ lands\n",
    "\n",
    "Null space \"kernel\" is a set of space where all vectors \"land\"\n",
    " - If vectors land on 0, then this is the **null space**\n",
    "     - Null space contains all possible solutions to the equation\n"
   ],
   "metadata": {}
  },
  {
   "cell_type": "code",
   "execution_count": null,
   "source": [],
   "outputs": [],
   "metadata": {}
  },
  {
   "cell_type": "markdown",
   "source": [
    "### Solving a System of Linear Equations\n",
    "\n",
    "If $A$ is invertible, then matrix-equation $AX = B$ is solvable for all matrix $B$\n",
    "\n",
    "We multiply both sides times $A^{-1}$ obtaining:\n",
    "\n",
    "$X = A^{-1}B$\n",
    "\n",
    "since $A^{-1}AX = I_nX = X$"
   ],
   "metadata": {}
  },
  {
   "cell_type": "markdown",
   "source": [
    "$$\n",
    "\\underbrace{\\begin{bmatrix} 2 & 4 & -2 \\\\ 4 & 9 & -3 \\\\ -2 & -3 & 7 \\end{bmatrix}}_{\\mathbf{A}}\n",
    "\\underbrace{\\begin{bmatrix} x \\\\ y \\\\ z \\end{bmatrix}}_{\\mathbf{x}} =\n",
    "\\underbrace{\\begin{bmatrix} 3 \\\\ 8 \\\\ 10 \\end{bmatrix}}_{\\mathbf{b}}\n",
    "$$"
   ],
   "metadata": {}
  },
  {
   "cell_type": "code",
   "execution_count": 3,
   "source": [
    "# By \"hand\" first - kind of\n",
    "A = np.array([[2, 4, -2],\n",
    "              [4, 9, -3],\n",
    "              [-2, -3, 7]])\n",
    "\n",
    "b = np.array([3, 8, 10])\n",
    "\n",
    "# Find the inverse of A\n",
    "invA = np.linalg.inv(A)\n",
    "\n",
    "# Take invA and multiply it by b column vector\n",
    "AB = invA.dot(b)\n",
    "AB.reshape(-1, 1)"
   ],
   "outputs": [
    {
     "output_type": "execute_result",
     "data": {
      "text/plain": [
       "array([[ 5.75],\n",
       "       [-0.75],\n",
       "       [ 2.75]])"
      ]
     },
     "metadata": {},
     "execution_count": 3
    }
   ],
   "metadata": {}
  },
  {
   "cell_type": "code",
   "execution_count": 4,
   "source": [
    "# Using packages\n",
    "x = np.linalg.solve(A, b)\n",
    "x.reshape(-1, 1)"
   ],
   "outputs": [
    {
     "output_type": "execute_result",
     "data": {
      "text/plain": [
       "array([[ 5.75],\n",
       "       [-0.75],\n",
       "       [ 2.75]])"
      ]
     },
     "metadata": {},
     "execution_count": 4
    }
   ],
   "metadata": {}
  },
  {
   "cell_type": "code",
   "execution_count": 7,
   "source": [
    "# With PyTorch\n",
    "tensorA = torch.tensor([[2, 4, -2],\n",
    "                        [4, 9, -3],\n",
    "                        [-2, -3, 7]]) \n",
    "\n",
    "tensorb = torch.tensor([3, 8, 10])\n",
    "\n",
    "#invA = torch.linalg.inv(tensorA)\n",
    "#x = torch.linalg.solve(tensorA, tensorb)"
   ],
   "outputs": [],
   "metadata": {}
  },
  {
   "cell_type": "markdown",
   "source": [
    "### Gaussian Elimination - \"by hand\""
   ],
   "metadata": {}
  },
  {
   "cell_type": "code",
   "execution_count": 11,
   "source": [
    "from scipy.linalg import lu\n",
    "\n",
    "# Step 1.) Get matrix into row echelon form\n",
    "augmented_matrix = np.array([[2, 4, -2, 3],\n",
    "                             [4, 9, -3, 8],\n",
    "                             [-2, -3, 7, 10]])\n",
    "\n",
    "# Decomposition of augmented matrix into row echelon form\n",
    "p, l, u = lu(augmented_matrix)\n",
    "print(u, '\\n')\n",
    "\n",
    "# Step 2.) "
   ],
   "outputs": [
    {
     "output_type": "stream",
     "name": "stdout",
     "text": [
      "[[ 4.          9.         -3.          8.        ]\n",
      " [ 0.          1.5         5.5        14.        ]\n",
      " [ 0.          0.          1.33333333  3.66666667]] \n",
      "\n"
     ]
    }
   ],
   "metadata": {}
  },
  {
   "cell_type": "markdown",
   "source": [
    "## Matrix Operations and Types of Matrices\n",
    "\n",
    "_Hilbert Matrices_:\n",
    "\n",
    "Let $n$ be a positive integer and the n-th Hilbert matrix $H = (h_{i, j})$ is a square one with:\n",
    "\n",
    "$h_{ij = \\frac{1}{1 + j - 1}}$ for all $1 \\leq i, j \\leq n$\n",
    "\n",
    "\n",
    "Commutativity does not hold in general. . . "
   ],
   "metadata": {}
  },
  {
   "cell_type": "code",
   "execution_count": null,
   "source": [],
   "outputs": [],
   "metadata": {}
  },
  {
   "cell_type": "code",
   "execution_count": null,
   "source": [],
   "outputs": [],
   "metadata": {}
  }
 ],
 "metadata": {
  "kernelspec": {
   "name": "python3",
   "display_name": "Python 3.7.4 64-bit ('base': conda)"
  },
  "language_info": {
   "codemirror_mode": {
    "name": "ipython",
    "version": 3
   },
   "file_extension": ".py",
   "mimetype": "text/x-python",
   "name": "python",
   "nbconvert_exporter": "python",
   "pygments_lexer": "ipython3",
   "version": "3.7.4"
  },
  "interpreter": {
   "hash": "6c344d601c3b2b7bc82ec79b9273ba7e1890aa66188b2ee9de85e4fb69c667e8"
  }
 },
 "nbformat": 4,
 "nbformat_minor": 4
}