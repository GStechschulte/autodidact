{
 "cells": [
  {
   "cell_type": "code",
   "execution_count": 1,
   "source": [
    "import numpy as np\n",
    "import matplotlib.pyplot as plt\n",
    "import plotly.figure_factory as ff\n",
    "import pandas as pd\n",
    "import os"
   ],
   "outputs": [],
   "metadata": {}
  },
  {
   "cell_type": "markdown",
   "source": [
    "## Eigenvectors and Eigenvalues\n",
    "\n",
    "We have seen an example of a vector transformed by a matrix. Now imagine that the transformation of the initial vector gives us a new vector that has the exact same direction. The scale can be different but the direction is the same. Applying the matrix didn't change the direction of the vector. This special vector is called an eigenvector of the matrix.\n",
    "\n",
    "Given a linear transformation represented by a matrix, the:\n",
    " - Eigenvector = The vector that is scaled, but is not moved off of its original span (change only in scale; not direction)\n",
    " - Eigenvalue = The # by which the eigenvector is scaled or squished during the transformation\n",
    "\n",
    "_Note_: Rotations don't squish or scale anything\n",
    "\n",
    "To understand the linear transformation of a matrix, we could plot the basis vectors and see how this changes. But this is not a very good way\n",
    " - Use eigenvectors and values instead\n",
    "\n",
    "Formally, $A\\vec{v} = \\lambda\\vec{v}$\n",
    "\n",
    "where $A$ = matrix,\n",
    "      $\\vec{v}$ = eigenvector\n",
    "      $\\lambda$ = eigenvalue\n"
   ],
   "metadata": {}
  },
  {
   "cell_type": "code",
   "execution_count": 3,
   "source": [
    "A = np.array([[5, 1],\n",
    "              [3, 3]])\n",
    "\n",
    "v = np.array([[1], [1]])\n",
    "\n",
    "Av = np.dot(A, v)\n",
    "\n",
    "values, vectors = np.linalg.eig(A)\n",
    "values, vectors"
   ],
   "outputs": [
    {
     "output_type": "execute_result",
     "data": {
      "text/plain": [
       "(array([6., 2.]),\n",
       " array([[ 0.70710678, -0.31622777],\n",
       "        [ 0.70710678,  0.9486833 ]]))"
      ]
     },
     "metadata": {},
     "execution_count": 3
    }
   ],
   "metadata": {}
  },
  {
   "cell_type": "code",
   "execution_count": null,
   "source": [
    "x = np.linspace(0, 10, 1)\n",
    "y = np.linspace(0, 10, 1)\n",
    "\n",
    "fig = ff.create_quiver(x=x, y=y, u=v, v=Av)"
   ],
   "outputs": [],
   "metadata": {}
  },
  {
   "cell_type": "markdown",
   "source": [
    "### **Workflow** for eigenvectors and values\n",
    "\n",
    "1.) $Ax = \\lambda x = \\lambda Ix$\n",
    "\n",
    "2.) $Ax - \\lambda Ix = 0$ --> $(A - \\lambda I)x = 0$\n",
    "\n",
    "3.) $det(A - \\lambda I) = 0$\n",
    "\n",
    "4.) . . .\n",
    "\n",
    "5.) Solve for $\\lambda$ = eigenvalues\n"
   ],
   "metadata": {}
  },
  {
   "cell_type": "markdown",
   "source": [
    "## Principal Component Analysis (PCA)\n",
    "\n",
    "Based on eigendecomposition: \n",
    "\n",
    "$S = ADA^T$\n",
    "\n",
    "where $S$ = covariance matrix, $A$ is orthogonal and the columns $a_{ij}$ of $A$ are the eigenvectors and $D$ is a diagonal where the entries are the eigenvalues"
   ],
   "metadata": {}
  },
  {
   "cell_type": "code",
   "execution_count": 54,
   "source": [
    "returns = pd.read_csv('/Users/gabestechschulte/Documents/git-repos/University/machine-learning-II/lecture-1/stock_returns.csv')\n",
    "returns.shape"
   ],
   "outputs": [
    {
     "output_type": "execute_result",
     "data": {
      "text/plain": [
       "(3020, 14)"
      ]
     },
     "metadata": {},
     "execution_count": 54
    }
   ],
   "metadata": {}
  },
  {
   "cell_type": "code",
   "execution_count": 56,
   "source": [
    "returns = returns.iloc[:, 1:15].values\n",
    "S = np.cov(returns.T)\n",
    "S.shape"
   ],
   "outputs": [
    {
     "output_type": "execute_result",
     "data": {
      "text/plain": [
       "(13, 13)"
      ]
     },
     "metadata": {},
     "execution_count": 56
    }
   ],
   "metadata": {}
  },
  {
   "cell_type": "code",
   "execution_count": 57,
   "source": [
    "A, D = np.linalg.eig(S)"
   ],
   "outputs": [],
   "metadata": {}
  },
  {
   "cell_type": "code",
   "execution_count": 58,
   "source": [
    "comp = A*D*A.T"
   ],
   "outputs": [],
   "metadata": {}
  },
  {
   "cell_type": "code",
   "execution_count": 59,
   "source": [
    "if comp.all() == S.all():\n",
    "    print(True)\n",
    "else:\n",
    "    print('Something went wrong')"
   ],
   "outputs": [
    {
     "output_type": "stream",
     "name": "stdout",
     "text": [
      "True\n"
     ]
    }
   ],
   "metadata": {}
  },
  {
   "cell_type": "code",
   "execution_count": 60,
   "source": [
    "print('Eigenvectors (aka the loadings): \\n', D, '\\n')\n",
    "print('Eigenvalues (aka magnitude): \\n', A)"
   ],
   "outputs": [
    {
     "output_type": "stream",
     "name": "stdout",
     "text": [
      "Eigenvectors (aka the loadings): \n",
      " [[ 2.23291338e-01 -2.04527070e-01 -5.35288839e-03  8.45040555e-02\n",
      "  -8.37933192e-02 -1.14272468e-01 -5.55141840e-01  7.92820175e-02\n",
      "   3.02010014e-01  4.97198394e-01 -4.32657390e-01 -2.02444388e-01\n",
      "   1.04543528e-04]\n",
      " [ 1.67812257e-01 -1.37439453e-01  2.89079595e-02  2.66724338e-01\n",
      "  -5.01142545e-02  3.67638059e-02 -2.76931368e-01 -6.71589537e-01\n",
      "   2.31912414e-04 -2.13002691e-01  5.34357264e-03  3.96891917e-01\n",
      "   3.82705433e-01]\n",
      " [ 6.21945606e-01  7.53410700e-01 -1.40743292e-01 -1.00890821e-02\n",
      "  -3.32054075e-02  3.11110169e-02 -4.17400402e-03  9.04633423e-03\n",
      "   1.79662595e-02  1.11214817e-01  7.99469919e-02  6.46021515e-02\n",
      "   1.48081649e-02]\n",
      " [ 3.64940321e-01 -2.04978785e-01  2.51292157e-01 -2.88360089e-02\n",
      "   8.49279454e-01 -6.59126391e-02  1.14075671e-01 -4.10502923e-05\n",
      "   1.23554690e-01 -6.51268311e-02  4.23003663e-03 -2.09185596e-02\n",
      "  -4.71902904e-02]\n",
      " [ 1.26630325e-01 -1.39360162e-01 -4.46265608e-02 -9.28418679e-01\n",
      "  -7.47772389e-02  3.50788175e-02 -2.26317570e-01 -5.42766717e-02\n",
      "   1.56446256e-02 -8.99626031e-02  8.35172617e-02  1.28553915e-01\n",
      "   8.81119052e-02]\n",
      " [ 1.45345528e-01 -1.22764825e-01 -1.79991867e-01  1.06273168e-01\n",
      "  -6.50577249e-02  6.13380353e-02 -2.25487823e-01 -7.08574884e-02\n",
      "   1.86648975e-01 -2.82225979e-01  5.45552208e-01 -6.64255196e-01\n",
      "   5.38562210e-02]\n",
      " [ 2.13335988e-01 -1.97825564e-01  2.18913255e-02  1.35642355e-01\n",
      "  -1.81454752e-01 -2.34359330e-01 -2.04222092e-01  1.23265205e-01\n",
      "   4.57008570e-02 -1.60594917e-01  2.71995269e-01  3.98988356e-01\n",
      "  -7.00479263e-01]\n",
      " [ 1.99381013e-01 -3.04932676e-01 -8.54677869e-01  2.54285670e-02\n",
      "   5.98478352e-02 -7.69558552e-02  3.01893705e-01 -1.18432978e-02\n",
      "  -5.41319455e-02  1.50841784e-02 -1.67948261e-01  6.26026361e-02\n",
      "   8.65189505e-03]\n",
      " [ 1.98831758e-01 -2.22587266e-01  1.52673142e-01  6.13431606e-03\n",
      "  -2.33338562e-01  6.67034700e-01  3.76659333e-01 -6.07548521e-02\n",
      "   4.26978821e-01  1.97629149e-01  6.51658747e-02  8.91324975e-02\n",
      "  -9.52321121e-02]\n",
      " [ 2.21870225e-01 -1.92523573e-01  7.78433767e-02  3.71411880e-02\n",
      "   6.85154333e-03  3.55946350e-01 -1.25567850e-01 -5.72326401e-02\n",
      "  -8.08401360e-01  2.54571589e-01  6.28985479e-02 -1.44428152e-01\n",
      "  -1.31705880e-01]\n",
      " [ 3.00451265e-01 -2.30823613e-01  2.95661405e-01 -2.64744648e-02\n",
      "  -3.29210051e-01 -5.61430485e-01  4.11503453e-01 -1.99013227e-02\n",
      "  -8.97918225e-02  2.31040609e-01  1.79408799e-01 -8.71355515e-02\n",
      "   2.71653962e-01]\n",
      " [ 2.91970844e-01 -4.15903254e-02  1.84470485e-01 -1.00652601e-03\n",
      "  -2.42131960e-01  4.58160862e-02  9.39560827e-02  8.77085917e-02\n",
      "  -8.56687672e-02 -6.31869363e-01 -5.80126148e-01 -2.30051244e-01\n",
      "  -7.53485436e-02]\n",
      " [ 1.23605238e-01 -1.46301159e-01 -4.84322231e-03  1.62370530e-01\n",
      "  -1.60107824e-02  1.59693704e-01 -1.77151422e-01  7.10100778e-01\n",
      "  -4.32959370e-02 -1.43344715e-01  1.50474391e-01  2.94431498e-01\n",
      "   4.93752174e-01]] \n",
      "\n",
      "Eigenvalues (aka magnitude): \n",
      " [2.38454281e-03 6.01184505e-04 2.87695075e-04 6.88298338e-05\n",
      " 2.14051755e-04 2.05572278e-04 1.83439625e-04 8.57736397e-05\n",
      " 1.55899935e-04 1.47247595e-04 1.32344643e-04 1.12126306e-04\n",
      " 1.01172336e-04]\n"
     ]
    }
   ],
   "metadata": {}
  },
  {
   "cell_type": "code",
   "execution_count": 61,
   "source": [
    "explained_variance = [i / sum(A) for i in A]\n",
    "explained_variance"
   ],
   "outputs": [
    {
     "output_type": "execute_result",
     "data": {
      "text/plain": [
       "[0.5095307228615394,\n",
       " 0.12846151230160913,\n",
       " 0.06147487853158046,\n",
       " 0.014707605506489585,\n",
       " 0.045738723905630684,\n",
       " 0.043926823491587975,\n",
       " 0.03919750325701646,\n",
       " 0.01832816943448919,\n",
       " 0.03331280366848937,\n",
       " 0.03146396582263642,\n",
       " 0.028279493010961575,\n",
       " 0.023959224924283436,\n",
       " 0.021618573283686052]"
      ]
     },
     "metadata": {},
     "execution_count": 61
    }
   ],
   "metadata": {}
  },
  {
   "cell_type": "code",
   "execution_count": 62,
   "source": [
    "plt.plot(np.cumsum(explained_variance))"
   ],
   "outputs": [
    {
     "output_type": "execute_result",
     "data": {
      "text/plain": [
       "[<matplotlib.lines.Line2D at 0x7fe33d9b8dd0>]"
      ]
     },
     "metadata": {},
     "execution_count": 62
    },
    {
     "output_type": "display_data",
     "data": {
      "image/png": "[encoded data removed]",
      "text/plain": [
       "<Figure size 432x288 with 1 Axes>"
      ]
     },
     "metadata": {
      "needs_background": "light"
     }
    }
   ],
   "metadata": {}
  },
  {
   "cell_type": "code",
   "execution_count": null,
   "source": [],
   "outputs": [],
   "metadata": {}
  }
 ],
 "metadata": {
  "kernelspec": {
   "name": "python3",
   "display_name": "Python 3.7.4 64-bit ('base': conda)"
  },
  "language_info": {
   "codemirror_mode": {
    "name": "ipython",
    "version": 3
   },
   "file_extension": ".py",
   "mimetype": "text/x-python",
   "name": "python",
   "nbconvert_exporter": "python",
   "pygments_lexer": "ipython3",
   "version": "3.7.4"
  },
  "interpreter": {
   "hash": "6c344d601c3b2b7bc82ec79b9273ba7e1890aa66188b2ee9de85e4fb69c667e8"
  }
 },
 "nbformat": 4,
 "nbformat_minor": 4
}