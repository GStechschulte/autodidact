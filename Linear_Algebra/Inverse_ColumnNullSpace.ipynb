{
 "cells": [
  {
   "cell_type": "code",
   "execution_count": 2,
   "metadata": {},
   "outputs": [],
   "source": [
    "import torch\n",
    "import torch.nn as nn\n",
    "from res.plot_lib import set_default, show_scatterplot, plot_bases\n",
    "from matplotlib.pyplot import plot, title, axis\n",
    "import matplotlib.pyplot as plt\n",
    "import numpy as np"
   ]
  },
  {
   "cell_type": "code",
   "execution_count": 3,
   "metadata": {},
   "outputs": [],
   "source": [
    "device = torch.device(\"cuda:0\" if torch.cuda.is_available() else \"cpu\")"
   ]
  },
  {
   "cell_type": "markdown",
   "metadata": {},
   "source": [
    "# Inverse Matrices, Column Space, and Null Space\n",
    "\n",
    "Matrix Algebra is most useful when solving *linear* systems of equations, such as:\n",
    "\n",
    "$$\n",
    "\\begin{align}\n",
    "2x + 4y + -2z &= 3 \\\\\n",
    "4x + 9y + -3z &= 8 \\\\\n",
    "-2x - 3y + 7z &= 10\n",
    "\\end{align}\n",
    "$$\n",
    "\n",
    "Which is simply a list of equations with unkown variables. These linear system of equations can be packaged into a single vector equation where:\n",
    " - Matrix contains coefficients $A$\n",
    " - Vector contains variables $\\hat{x}$\n",
    " - Output vector (matrix-vector output) $\\hat{b}$\n",
    "\n",
    "$$\n",
    "\\underbrace{\\begin{pmatrix} 2 & 4 & -2 \\\\ 4 & 9 & -3 \\\\ -2 & -3 & 7 \\end{pmatrix}}_{\\mathbf{A}}\n",
    "\\underbrace{\\begin{pmatrix} x \\\\ y \\\\ z \\end{pmatrix}}_{\\mathbf{x}} =\n",
    "\\underbrace{\\begin{pmatrix} 2 \\\\ 8 \\\\ 10 \\end{pmatrix}}_{\\mathbf{b}}\n",
    "$$\n",
    "\n",
    "Intuitively, we are looking for a matrix that transforms $\\mathbf{b}$ into $\\mathbf{x}$. This reverse transformation is called the **inverse** of $\\mathbf{A}$ (or $\\mathbf{A}^{-1}$). \n",
    "\n",
    "Note that $\\mathbf{A}^{-1}\\mathbf{A} = \\mathbf{I}$, where $\\mathbf{I}$ is the **identity matrix**:\n",
    "\n",
    "$$\n",
    "\\mathbf{I}_{n \\times n} =\n",
    "\\begin{pmatrix} \n",
    "1 & 0 & ... & 0 \\\\\n",
    "0 & 1 & ... & 0 \\\\\n",
    "\\vdots & \\vdots & \\ddots & \\vdots \\\\\n",
    "0 & 0 & ... &1 \\\\\n",
    "\\end{pmatrix}\n",
    "$$\n",
    "\n",
    "Such that\n",
    "\n",
    "$$\n",
    "\\begin{align}\n",
    "\\mathbf{A} \\mathbf{x} &= \\mathbf{b} \\\\\n",
    "\\mathbf{A^{-1}}\\mathbf{A}\\mathbf{x} &= \\mathbf{A^{-1}}\\mathbf{b} \\\\\n",
    "\\mathbf{x} &= \\mathbf{A^{-1}}\\mathbf{b}\n",
    "\\end{align}\n",
    "$$"
   ]
  },
  {
   "cell_type": "markdown",
   "metadata": {},
   "source": [
    "### Identity Matrix\n",
    "\n",
    "The identity matrix $I_n$ is a special matrix of shape ($n \\times n$) that is filled with $0$ except the diagonal that is filled with 1.\n",
    " - An identity matrix times some vector gives you that same vector as output"
   ]
  },
  {
   "cell_type": "code",
   "execution_count": 8,
   "metadata": {},
   "outputs": [
    {
     "data": {
      "text/plain": [
       "array([[2],\n",
       "       [3],\n",
       "       [6]])"
      ]
     },
     "execution_count": 8,
     "metadata": {},
     "output_type": "execute_result"
    }
   ],
   "source": [
    "# Identity matrix multiplied with a vector results in the same vector\n",
    "x = np.array([[2], [3], [6]])\n",
    "x"
   ]
  },
  {
   "cell_type": "code",
   "execution_count": 12,
   "metadata": {},
   "outputs": [
    {
     "data": {
      "text/plain": [
       "array([[1., 0., 0.],\n",
       "       [0., 1., 0.],\n",
       "       [0., 0., 1.]])"
      ]
     },
     "execution_count": 12,
     "metadata": {},
     "output_type": "execute_result"
    }
   ],
   "source": [
    "# Identity matrix\n",
    "I = np.eye(x.shape[0])\n",
    "I"
   ]
  },
  {
   "cell_type": "code",
   "execution_count": 11,
   "metadata": {},
   "outputs": [
    {
     "data": {
      "text/plain": [
       "array([[2.],\n",
       "       [3.],\n",
       "       [6.]])"
      ]
     },
     "execution_count": 11,
     "metadata": {},
     "output_type": "execute_result"
    }
   ],
   "source": [
    "# Identity * x = x\n",
    "I.dot(x)"
   ]
  },
  {
   "cell_type": "markdown",
   "metadata": {},
   "source": [
    "### Inverse Matrix\n",
    "\n",
    "It is the matrix that results in the identity matrix when it is multiplied by $A$\n",
    "\n",
    "This means that if we apply a linear transformation to the space with $A$, it is possible to go back with $A^{-1}$. It provides a way to **cancel the transformation**\n",
    " - $A^{-1}A$ = $I$\n",
    "\n",
    "_Critical_ - The inverse of matrices can be very useful, for instance, to solve a set of linear equations"
   ]
  },
  {
   "cell_type": "code",
   "execution_count": 14,
   "metadata": {},
   "outputs": [
    {
     "data": {
      "text/plain": [
       "array([[ 3,  0,  2],\n",
       "       [ 2,  0, -2],\n",
       "       [ 0,  1,  1]])"
      ]
     },
     "execution_count": 14,
     "metadata": {},
     "output_type": "execute_result"
    }
   ],
   "source": [
    "A = np.array([[3, 0, 2], [2, 0, -2], [0, 1, 1]])\n",
    "A"
   ]
  },
  {
   "cell_type": "code",
   "execution_count": 15,
   "metadata": {},
   "outputs": [
    {
     "data": {
      "text/plain": [
       "array([[ 0.2,  0.2,  0. ],\n",
       "       [-0.2,  0.3,  1. ],\n",
       "       [ 0.2, -0.3, -0. ]])"
      ]
     },
     "execution_count": 15,
     "metadata": {},
     "output_type": "execute_result"
    }
   ],
   "source": [
    "# Compute the inverse\n",
    "A_inv = np.linalg.inv(A)\n",
    "A_inv"
   ]
  },
  {
   "cell_type": "code",
   "execution_count": 16,
   "metadata": {},
   "outputs": [
    {
     "data": {
      "text/plain": [
       "array([[ 1.00000000e+00,  0.00000000e+00, -1.11022302e-16],\n",
       "       [ 0.00000000e+00,  1.00000000e+00,  0.00000000e+00],\n",
       "       [ 0.00000000e+00,  0.00000000e+00,  1.00000000e+00]])"
      ]
     },
     "execution_count": 16,
     "metadata": {},
     "output_type": "execute_result"
    }
   ],
   "source": [
    "A_bis = A_inv.dot(A)\n",
    "A_bis"
   ]
  },
  {
   "cell_type": "markdown",
   "metadata": {},
   "source": [
    "### Solving a System of Linear Equations"
   ]
  },
  {
   "cell_type": "code",
   "execution_count": null,
   "metadata": {},
   "outputs": [],
   "source": []
  }
 ],
 "metadata": {
  "kernelspec": {
   "display_name": "Python 3",
   "language": "python",
   "name": "python3"
  },
  "language_info": {
   "codemirror_mode": {
    "name": "ipython",
    "version": 3
   },
   "file_extension": ".py",
   "mimetype": "text/x-python",
   "name": "python",
   "nbconvert_exporter": "python",
   "pygments_lexer": "ipython3",
   "version": "3.7.4"
  }
 },
 "nbformat": 4,
 "nbformat_minor": 4
}
