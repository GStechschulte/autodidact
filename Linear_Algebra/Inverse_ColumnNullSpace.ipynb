{
 "cells": [
  {
   "cell_type": "code",
   "execution_count": 28,
   "metadata": {},
   "outputs": [],
   "source": [
    "import torch\n",
    "import torch.nn as nn\n",
    "from res.plot_lib import set_default, show_scatterplot, plot_bases\n",
    "from matplotlib.pyplot import plot, title, axis\n",
    "import matplotlib.pyplot as plt\n",
    "import numpy as np"
   ]
  },
  {
   "cell_type": "code",
   "execution_count": 30,
   "metadata": {},
   "outputs": [],
   "source": [
    "device = torch.device(\"cuda:0\" if torch.cuda.is_available() else \"cpu\")"
   ]
  },
  {
   "cell_type": "code",
   "execution_count": null,
   "metadata": {},
   "outputs": [],
   "source": [
    "A = torch.randn(2, 2) # Low, High, m x n matrix\n",
    "torch.linalg.det(A)"
   ]
  },
  {
   "cell_type": "markdown",
   "metadata": {},
   "source": [
    " - Negative det. = inverted space **and** scaled\n",
    " - Fractional det. = squished space\n",
    " - Fractional negative det. = squished **and** inverted space\n",
    " - . . .and so on and so forth\n",
    "\n",
    "When the Det. = 0 in 3d space results in a flat plan\n",
    " - This means the columns are linearly dependent (think vectors on a line or plane)\n",
    "\n",
    "When the Det. = 0 in 2d space results in a line\n",
    " - This also means the columns are linearly dependent"
   ]
  },
  {
   "cell_type": "markdown",
   "metadata": {},
   "source": [
    "---------------------------------------"
   ]
  },
  {
   "cell_type": "markdown",
   "metadata": {},
   "source": [
    "### Inverse Matrices, Column Space, and Null Space\n",
    "\n",
    "Matrix Algebra is most useful when solving *linear* systems of equations, such as:\n",
    "\n",
    "$$\n",
    "\\begin{align}\n",
    "2x + 4y + -2z &= 3 \\\\\n",
    "4x + 9y + -3z &= 8 \\\\\n",
    "-2x - 3y + 7z &= 10\n",
    "\\end{align}\n",
    "$$\n",
    "\n",
    "Which is simply a list of equations with unkown variables. These linear system of equations can be packaged into a single vector equation where:\n",
    " - Matrix contains coefficients $A$\n",
    " - Vector contains variables $\\hat{x}$\n",
    " - Output vector (matrix-vector output) $\\hat{b}$\n",
    "\n",
    "$$\n",
    "\\underbrace{\\begin{pmatrix} 2 & 4 & -2 \\\\ 4 & 9 & -3 \\\\ -2 & -3 & 7 \\end{pmatrix}}_{\\mathbf{A}}\n",
    "\\underbrace{\\begin{pmatrix} x \\\\ y \\\\ z \\end{pmatrix}}_{\\mathbf{x}} =\n",
    "\\underbrace{\\begin{pmatrix} 2 \\\\ 8 \\\\ 10 \\end{pmatrix}}_{\\mathbf{b}}\n",
    "$$\n",
    "\n",
    "Intuitively, we are looking for a matrix that transforms $\\mathbf{b}$ into $\\mathbf{x}$. This reverse transformation is called the **inverse** of $\\mathbf{A}$ (or $\\mathbf{A}^{-1}$). \n",
    "\n",
    "Note that $\\mathbf{A}^{-1}\\mathbf{A} = \\mathbf{I}$, where $\\mathbf{I}$ is the **identity matrix**:\n",
    "\n",
    "$$\n",
    "\\mathbf{I}_{n \\times n} =\n",
    "\\begin{pmatrix} \n",
    "1 & 0 & ... & 0 \\\\\n",
    "0 & 1 & ... & 0 \\\\\n",
    "\\vdots & \\vdots & \\ddots & \\vdots \\\\\n",
    "0 & 0 & ... &1 \\\\\n",
    "\\end{pmatrix}\n",
    "$$\n",
    "\n",
    "Such that\n",
    "\n",
    "$$\n",
    "\\begin{align}\n",
    "\\mathbf{A} \\mathbf{x} &= \\mathbf{b} \\\\\n",
    "\\mathbf{A^{-1}}\\mathbf{A}\\mathbf{x} &= \\mathbf{A^{-1}}\\mathbf{b} \\\\\n",
    "\\mathbf{x} &= \\mathbf{A^{-1}}\\mathbf{b}\n",
    "\\end{align}\n",
    "$$"
   ]
  },
  {
   "cell_type": "code",
   "execution_count": null,
   "metadata": {},
   "outputs": [],
   "source": []
  }
 ],
 "metadata": {
  "kernelspec": {
   "display_name": "Python 3",
   "language": "python",
   "name": "python3"
  },
  "language_info": {
   "codemirror_mode": {
    "name": "ipython",
    "version": 3
   },
   "file_extension": ".py",
   "mimetype": "text/x-python",
   "name": "python",
   "nbconvert_exporter": "python",
   "pygments_lexer": "ipython3",
   "version": "3.7.4"
  }
 },
 "nbformat": 4,
 "nbformat_minor": 4
}
