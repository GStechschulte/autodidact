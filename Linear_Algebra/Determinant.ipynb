{
 "cells": [
  {
   "cell_type": "code",
   "execution_count": 1,
   "metadata": {},
   "outputs": [],
   "source": [
    "import torch\n",
    "import torch.nn as nn\n",
    "from res.plot_lib import set_default, show_scatterplot, plot_bases\n",
    "from matplotlib.pyplot import plot, title, axis\n",
    "import matplotlib.pyplot as plt\n",
    "import numpy as np"
   ]
  },
  {
   "cell_type": "markdown",
   "metadata": {},
   "source": [
    "## The Determinant\n",
    "\n",
    "Linear transformations of matrices and vectors tend to squish or expand space. Determinants measure the factor by which a linear transformation squishes or expands the space. \n",
    " - Namely, the factor by which the areas are scaled (2d)\n",
    " - In 3d, the det. tells us the volume rather than the area (2d)\n",
    "\n",
    "Determinants are also useful in assessing the linear independence of vectors; in solving systems of equations (i.e. if the determinant is zero, it's because the span collapses by one dimension); and in computing eigenvalues.\n",
    "\n",
    "How are determinants calculated?\n",
    "\n",
    "* 2 $\\times$ 2:     \n",
    "\n",
    "$$\n",
    "\\det \\begin{pmatrix} \\begin{bmatrix} a & b \\\\ c & d \\end{bmatrix} \\end{pmatrix}\n",
    "= ad-cb\n",
    "$$\n",
    "\n",
    "* 3 $\\times$ 3\n",
    "\n",
    "$$\n",
    "\\det \\begin{pmatrix} \\begin{bmatrix} a & b & c \\\\ d & e & f \\\\ g & h & i \\end{bmatrix} \\end{pmatrix}\n",
    "= a \\det \\begin{pmatrix} e & f \\\\ h & i \\end{pmatrix} - b \\det \\begin{pmatrix} d & f \\\\ g & i\\end{pmatrix} + c \\det \\begin{pmatrix} d & e \\\\ g & h \\end{pmatrix}\n",
    "$$\n"
   ]
  },
  {
   "cell_type": "code",
   "execution_count": 2,
   "metadata": {},
   "outputs": [
    {
     "data": {
      "text/plain": [
       "tensor(0.6778)"
      ]
     },
     "execution_count": 2,
     "metadata": {},
     "output_type": "execute_result"
    }
   ],
   "source": [
    "A = torch.randn(2, 2) # Low, High, m x n matrix\n",
    "torch.linalg.det(A)"
   ]
  }
 ],
 "metadata": {
  "kernelspec": {
   "display_name": "Python 3",
   "language": "python",
   "name": "python3"
  },
  "language_info": {
   "codemirror_mode": {
    "name": "ipython",
    "version": 3
   },
   "file_extension": ".py",
   "mimetype": "text/x-python",
   "name": "python",
   "nbconvert_exporter": "python",
   "pygments_lexer": "ipython3",
   "version": "3.7.4"
  }
 },
 "nbformat": 4,
 "nbformat_minor": 4
}
