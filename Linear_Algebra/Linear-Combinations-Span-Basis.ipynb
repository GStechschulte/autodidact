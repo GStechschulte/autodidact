{
 "cells": [
  {
   "cell_type": "code",
   "execution_count": 1,
   "source": [
    "import numpy as np\n",
    "import seaborn as sns\n",
    "import matplotlib.pyplot as plt"
   ],
   "outputs": [],
   "metadata": {}
  },
  {
   "cell_type": "markdown",
   "source": [
    "### Basis Vectors\n",
    "\n",
    "Let $\\boldsymbol{\\hat{\\imath}} = {\\begin{bmatrix} 1 \\\\ 0 \\end{bmatrix}}$ and $\\boldsymbol{\\hat{\\jmath}} = {\\begin{bmatrix} 0 \\\\ 1 \\end{bmatrix}}$. These are also called *unit vectors* (i.e. vectors with all elements equal to zero, except one element which is equal to one).\n",
    "\n",
    "Then, $\\boldsymbol{\\hat{\\imath}}$ and $\\boldsymbol{\\hat{\\jmath}}$ are the **basis vectors** of any $xy$ coordinate system or $\\mathbb R^2$. That is, they are what define the common features of a coordinate system, the same way that the interval between each integer in $\\mathbb R$ is \"one\". "
   ],
   "metadata": {}
  },
  {
   "cell_type": "code",
   "execution_count": null,
   "source": [],
   "outputs": [],
   "metadata": {}
  },
  {
   "cell_type": "markdown",
   "source": [
    "### Linear Combinations\n",
    "Any vector $\\mathbf{\\vec{x}}$ in $\\mathbb R^2$ can be interpreted as a **linear combination** of $\\boldsymbol{\\hat{\\imath}}$ and $\\boldsymbol{\\hat{\\jmath}}$, such that $\\mathbf{\\vec{x}} = a \\boldsymbol{\\hat{\\imath}} + b \\boldsymbol{\\hat{\\jmath}}$, for some values of $a$ and $b$.\n",
    " - Anytime you are taking two vectors and scale them is called a linear combination\n",
    "\n",
    "$a\\vec{v} + b\\vec{w}$\n",
    "\n",
    "where $a$ and $b$ are scalars"
   ],
   "metadata": {}
  },
  {
   "cell_type": "code",
   "execution_count": null,
   "source": [],
   "outputs": [],
   "metadata": {}
  },
  {
   "cell_type": "markdown",
   "source": [
    "### Span\n",
    "\n",
    "A **span** is the set of all possible vectors that can be reached with the linear combinations of any *given* vectors. For example, the span of most pairs of two-dimensional vectors is $\\mathbb R^2$, unless they are *collinear* (or *linearly dependent*), in which case the span is just $\\mathbb R$.\n",
    " - Remember the scalars? Any real number scalar multiplied by the vector scales this vector. \n",
    "\n",
    "The space spanned by a set of vectors in $\\mathbb{R}^K$ has at most $K$ dimensions. if this space has fewer than $K$ dimensions, it is a **subspace**, or *hyperplane.* Every set of vectors spans some space; it may be the entire space in which the vectors reside, or it may be some subspace of it."
   ],
   "metadata": {}
  },
  {
   "cell_type": "code",
   "execution_count": null,
   "source": [],
   "outputs": [],
   "metadata": {}
  },
  {
   "cell_type": "markdown",
   "source": [
    "### Subspaces\n",
    "\n",
    "Every *subspace* $S$ has three properties.\n",
    "\n",
    "1. It contains the zero vector: $\\mathbf{0} \\in S$\n",
    "\n",
    "2. It's closed under addition: $\\mathbf{x_1}, \\mathbf{x_2} \\in S \\to \\mathbf{x_1} + \\mathbf{x_2} \\in S$\n",
    "\n",
    "3. It's closed under multiplication: $c \\in \\mathbb{R}, \\mathbf{x} \\in S \\to c \\mathbf{x} \\in S$"
   ],
   "metadata": {}
  },
  {
   "cell_type": "code",
   "execution_count": null,
   "source": [],
   "outputs": [],
   "metadata": {}
  },
  {
   "cell_type": "markdown",
   "source": [
    "### Linear Independence\n",
    "\n",
    "A vector $\\mathbf{u}$ is **linearly independent** of $\\mathbf{x}$ and $\\mathbf{y}$ *if, and only if* $\\mathbf{u} \\neq a \\mathbf{x} + b \\mathbf{y}$ for all values of $a$ and $b$. Alternatively, $\\mathbf{u}$ is linearly independent of $\\mathbf{x}$ and $\\mathbf{y}$ *if, and only if* $\\mathbf{u}$ does not lie in the plane spanned by $\\mathbf{x}$ and $\\mathbf{y}$.\n",
    "\n",
    "Another definition for linear independence says that vectors $\\mathbf{v}$, $\\mathbf{w}$, and $\\mathbf{u}$ are linearly independent if, and only if the only solution to $a \\mathbf{v} + b \\mathbf{w} + c \\mathbf{u} = \\mathbf{0}$ is  $a = b = c = 0$.\n",
    "\n",
    "The **basis** of a vector space is *the set of linearly independent* vectors that *span* the full space."
   ],
   "metadata": {}
  }
 ],
 "metadata": {
  "kernelspec": {
   "name": "python3",
   "display_name": "Python 3.7.4 64-bit ('base': conda)"
  },
  "language_info": {
   "codemirror_mode": {
    "name": "ipython",
    "version": 3
   },
   "file_extension": ".py",
   "mimetype": "text/x-python",
   "name": "python",
   "nbconvert_exporter": "python",
   "pygments_lexer": "ipython3",
   "version": "3.7.4"
  },
  "interpreter": {
   "hash": "6c344d601c3b2b7bc82ec79b9273ba7e1890aa66188b2ee9de85e4fb69c667e8"
  }
 },
 "nbformat": 4,
 "nbformat_minor": 4
}