{
 "cells": [
  {
   "cell_type": "code",
   "execution_count": 1,
   "metadata": {},
   "outputs": [],
   "source": [
    "import numpy as np\n",
    "from scipy.linalg import svd\n",
    "from scipy import linalg"
   ]
  },
  {
   "cell_type": "markdown",
   "metadata": {},
   "source": [
    "## Singular Value Decomposition (SVD)\n",
    "\n",
    "$A = UDV^T$\n",
    "\n",
    "where:\n",
    "\n",
    "$A$ = m x n (the real matrix we wish to decompose)\n",
    "\n",
    "$U$ = m x m\n",
    "\n",
    "$V$ = n x n\n",
    "\n",
    "The diagnoals in the $U$ are known as the singular values of the original matrix $A$. The columns in the $U$ are called the left-singular vectors of $A$, and the columns of $V$ are called the right-singular vectors of $A$\n",
    "\n",
    "Matrices $U$ and $V$ are both defined to be orthogonal matrices\n",
    "\n",
    "We can interpret the singular value decomposition of $A$ in terms of the eigendecomposition of functions of $A$:\n",
    " - The left-singular vectors of $A$ are the eigenvectors of $AA^T$ which is the $U$ matrix\n",
    " - The right-singluar vectors of $A$ are the eigenvectors of $A^TA$ which is the $V$ matrix\n",
    " - The non-zero singular values of $A$ are the square roots of the eigenvalues of $A^TA$ and the same is true for $AA^T$ which is the $S$ matrix"
   ]
  },
  {
   "cell_type": "code",
   "execution_count": 2,
   "metadata": {},
   "outputs": [
    {
     "data": {
      "text/plain": [
       "array([[-8, -6],\n",
       "       [ 8, -3],\n",
       "       [ 4, -6]])"
      ]
     },
     "execution_count": 2,
     "metadata": {},
     "output_type": "execute_result"
    }
   ],
   "source": [
    "A = np.array([[-8, -6], [8, -3], [4, -6]])\n",
    "A"
   ]
  },
  {
   "cell_type": "markdown",
   "metadata": {},
   "source": [
    "In order to determine the associated $U$ matrix, we must first find the eigenvectors of the $A$ matrix multiplied by the transpose of the matrix $A$\n",
    " - Remember: From my eigenvector notebook, the eigenvector is the vector that is scaled, but is not moved off of its original span (change only in scale; not direction)"
   ]
  },
  {
   "cell_type": "code",
   "execution_count": 3,
   "metadata": {},
   "outputs": [
    {
     "data": {
      "text/plain": [
       "array([[100, -46,   4],\n",
       "       [-46,  73,  50],\n",
       "       [  4,  50,  52]])"
      ]
     },
     "execution_count": 3,
     "metadata": {},
     "output_type": "execute_result"
    }
   ],
   "source": [
    "AAT = np.dot(A, A.T)\n",
    "AAT ## We now have a square matrix"
   ]
  },
  {
   "cell_type": "code",
   "execution_count": 4,
   "metadata": {},
   "outputs": [
    {
     "data": {
      "text/plain": [
       "array([1.44000000e+02+0.j, 8.10000000e+01+0.j, 2.11561245e-15+0.j])"
      ]
     },
     "execution_count": 4,
     "metadata": {},
     "output_type": "execute_result"
    }
   ],
   "source": [
    "# Compute left singular vectors of A which are the eigenvectors of AAT - this is the U matrix\n",
    "eigenvalues, eigenvectors = linalg.eig(AAT)[0], linalg.eig(AAT)[1]\n",
    "eigenvalues"
   ]
  },
  {
   "cell_type": "code",
   "execution_count": 5,
   "metadata": {},
   "outputs": [
    {
     "data": {
      "text/plain": [
       "array([[-0.66666667,  0.66666667, -0.33333333],\n",
       "       [ 0.66666667,  0.33333333, -0.66666667],\n",
       "       [ 0.33333333,  0.66666667,  0.66666667]])"
      ]
     },
     "execution_count": 5,
     "metadata": {},
     "output_type": "execute_result"
    }
   ],
   "source": [
    "U = eigenvectors\n",
    "U"
   ]
  },
  {
   "cell_type": "markdown",
   "metadata": {},
   "source": [
    "In order to determine the associated $V$ matrix we must compute the following:\n",
    "\n",
    "$V = A^TA$\n",
    "\n",
    "$V$ = d x d\n",
    "\n",
    "The columns of $V$ are called the right-singular vectors of $A$\n"
   ]
  },
  {
   "cell_type": "code",
   "execution_count": 7,
   "metadata": {},
   "outputs": [
    {
     "data": {
      "text/plain": [
       "(array([[144,   0],\n",
       "        [  0,  81]]),\n",
       " array([[1., 0.],\n",
       "        [0., 1.]]))"
      ]
     },
     "execution_count": 7,
     "metadata": {},
     "output_type": "execute_result"
    }
   ],
   "source": [
    "# Compute right singular vectors of A which are the eigenvectors of ATA - this is the V matrix\n",
    "ATA = np.dot(A.T, A)\n",
    "V = linalg.eig(ATA)[1]\n",
    "ATA, V"
   ]
  },
  {
   "cell_type": "markdown",
   "metadata": {},
   "source": [
    "$S$ is the square root of either $AA^T$ or $A^TA$"
   ]
  },
  {
   "cell_type": "code",
   "execution_count": 10,
   "metadata": {},
   "outputs": [
    {
     "data": {
      "text/plain": [
       "array([1.20000000e+01+0.j, 9.00000000e+00+0.j, 4.59957873e-08+0.j])"
      ]
     },
     "execution_count": 10,
     "metadata": {},
     "output_type": "execute_result"
    }
   ],
   "source": [
    "# Take square root of AAT matrix - this is the S matrix\n",
    "S = np.sqrt(eigenvalues)\n",
    "S"
   ]
  },
  {
   "cell_type": "markdown",
   "metadata": {},
   "source": [
    "## Using scipy"
   ]
  },
  {
   "cell_type": "code",
   "execution_count": 8,
   "metadata": {},
   "outputs": [
    {
     "data": {
      "text/plain": [
       "(array([[-0.66666667, -0.66666667, -0.33333333],\n",
       "        [ 0.66666667, -0.33333333, -0.66666667],\n",
       "        [ 0.33333333, -0.66666667,  0.66666667]]),\n",
       " array([12.,  9.]),\n",
       " array([[1., 0.],\n",
       "        [0., 1.]]))"
      ]
     },
     "execution_count": 8,
     "metadata": {},
     "output_type": "execute_result"
    }
   ],
   "source": [
    "svd(A)"
   ]
  }
 ],
 "metadata": {
  "interpreter": {
   "hash": "6ea8e6696542bf91b5850513673ceef1808937d627ee3e2c71e2007cafbd44d0"
  },
  "kernelspec": {
   "display_name": "Python 3.8.12 64-bit ('autodidact': conda)",
   "name": "python3"
  },
  "language_info": {
   "codemirror_mode": {
    "name": "ipython",
    "version": 3
   },
   "file_extension": ".py",
   "mimetype": "text/x-python",
   "name": "python",
   "nbconvert_exporter": "python",
   "pygments_lexer": "ipython3",
   "version": "3.8.12"
  },
  "orig_nbformat": 4
 },
 "nbformat": 4,
 "nbformat_minor": 2
}
