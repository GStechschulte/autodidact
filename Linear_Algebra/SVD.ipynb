{
 "cells": [
  {
   "cell_type": "code",
   "execution_count": 1,
   "source": [
    "import numpy as np\n",
    "from scipy.linalg import svd\n",
    "from scipy import linalg\n"
   ],
   "outputs": [],
   "metadata": {}
  },
  {
   "cell_type": "markdown",
   "source": [
    "## Singular Value Decomposition (SVD)\n",
    "\n",
    "$A = UDV^T$\n",
    "\n",
    "where:\n",
    "\n",
    "$A$ = m x n (the real matrix we wish to decompose)\n",
    "\n",
    "$U$ = m x m\n",
    "\n",
    "$V$ = n x n\n",
    "\n",
    "The diagnoals in the $U$ are known as the singular values of the original matrix $A$. The columns in the $U$ are called the left-singular vectors of $A$, and the columns of $V$ are called the right-singular vectors of $A$\n",
    "\n",
    "Matrices $U$ and $V$ are both defined to be orthogonal matrices\n",
    "\n",
    "We can interpret the singular value decomposition of $A$ in terms of the eigendecomposition of functions of $A$:\n",
    " - The left-singular vectors of $A$ are the eigenvectors of $AA^T$ which is the $U$ matrix\n",
    " - The right-singluar vectors of $A$ are the eigenvectors of $A^TA$ which is the $V$ matrix\n",
    " - The non-zero singular values of $A$ are the square roots of the eigenvalues of $A^TA$ and the same is true for $AA^T$ which is the $S$ matrix"
   ],
   "metadata": {}
  },
  {
   "cell_type": "code",
   "execution_count": 2,
   "source": [
    "A = np.array([[2, 4], [1, 3], [0, 0], [0, 0]])\n",
    "A"
   ],
   "outputs": [
    {
     "output_type": "execute_result",
     "data": {
      "text/plain": [
       "array([[2, 4],\n",
       "       [1, 3],\n",
       "       [0, 0],\n",
       "       [0, 0]])"
      ]
     },
     "metadata": {},
     "execution_count": 2
    }
   ],
   "metadata": {}
  },
  {
   "cell_type": "markdown",
   "source": [
    "In order to determine the associated $U$ matrix, we must first find the eigenvectors of the $A$ matrix multiplied by the transpose of the matrix $A$\n",
    " - Remember: From my eigenvector notebook, the eigenvector is the vector that is scaled, but is not moved off of its original span (change only in scale; not direction)"
   ],
   "metadata": {}
  },
  {
   "cell_type": "code",
   "execution_count": 3,
   "source": [
    "AAT = np.dot(A, A.T)\n",
    "AAT ## We now have a square matrix"
   ],
   "outputs": [
    {
     "output_type": "execute_result",
     "data": {
      "text/plain": [
       "array([[20, 14,  0,  0],\n",
       "       [14, 10,  0,  0],\n",
       "       [ 0,  0,  0,  0],\n",
       "       [ 0,  0,  0,  0]])"
      ]
     },
     "metadata": {},
     "execution_count": 3
    }
   ],
   "metadata": {}
  },
  {
   "cell_type": "code",
   "execution_count": 4,
   "source": [
    "# Compute left singular vectors of A which are the eigenvectors of AAT - this is the U matrix\n",
    "eigenvalues, eigenvectors = linalg.eig(AAT)[0], linalg.eig(AAT)[1]\n",
    "eigenvalues"
   ],
   "outputs": [
    {
     "output_type": "execute_result",
     "data": {
      "text/plain": [
       "array([29.86606875+0.j,  0.13393125+0.j,  0.        +0.j,  0.        +0.j])"
      ]
     },
     "metadata": {},
     "execution_count": 4
    }
   ],
   "metadata": {}
  },
  {
   "cell_type": "code",
   "execution_count": 40,
   "source": [
    "U = eigenvectors\n",
    "U"
   ],
   "outputs": [
    {
     "output_type": "execute_result",
     "data": {
      "text/plain": [
       "array([[ 0.81741556, -0.57604844,  0.        ,  0.        ],\n",
       "       [ 0.57604844,  0.81741556,  0.        ,  0.        ],\n",
       "       [ 0.        ,  0.        ,  1.        ,  0.        ],\n",
       "       [ 0.        ,  0.        ,  0.        ,  1.        ]])"
      ]
     },
     "metadata": {},
     "execution_count": 40
    }
   ],
   "metadata": {}
  },
  {
   "cell_type": "markdown",
   "source": [
    "In order to determine the associated $V$ matrix we must compute the following:\n",
    "\n",
    "$V = A^TA$\n",
    "\n",
    "$V$ = d x d\n",
    "\n",
    "The columns of $V$ are called the right-singular vectors of $A$\n"
   ],
   "metadata": {}
  },
  {
   "cell_type": "code",
   "execution_count": 5,
   "source": [
    "# Compute right singular vectors of A which are the eigenvectors of ATA - this is the V matrix\n",
    "ATA = np.dot(A.T, A)\n",
    "V = linalg.eig(ATA)[1]\n",
    "V"
   ],
   "outputs": [
    {
     "output_type": "execute_result",
     "data": {
      "text/plain": [
       "array([[-0.9145143 , -0.40455358],\n",
       "       [ 0.40455358, -0.9145143 ]])"
      ]
     },
     "metadata": {},
     "execution_count": 5
    }
   ],
   "metadata": {}
  },
  {
   "cell_type": "markdown",
   "source": [
    "$S$ is the square root of either $AA^T$ or $A^TA$"
   ],
   "metadata": {}
  },
  {
   "cell_type": "code",
   "execution_count": 6,
   "source": [
    "# Take square root of AAT matrix - this is the S matrix\n",
    "S = np.sqrt(eigenvalues)\n",
    "S"
   ],
   "outputs": [
    {
     "output_type": "execute_result",
     "data": {
      "text/plain": [
       "array([5.4649857 +0.j, 0.36596619+0.j, 0.        +0.j, 0.        +0.j])"
      ]
     },
     "metadata": {},
     "execution_count": 6
    }
   ],
   "metadata": {}
  },
  {
   "cell_type": "markdown",
   "source": [
    "## Using scipy"
   ],
   "metadata": {}
  },
  {
   "cell_type": "code",
   "execution_count": 69,
   "source": [
    "svd(A)"
   ],
   "outputs": [
    {
     "output_type": "execute_result",
     "data": {
      "text/plain": [
       "(array([[-0.81741556, -0.57604844,  0.        ,  0.        ],\n",
       "        [-0.57604844,  0.81741556,  0.        ,  0.        ],\n",
       "        [ 0.        ,  0.        ,  1.        ,  0.        ],\n",
       "        [ 0.        ,  0.        ,  0.        ,  1.        ]]),\n",
       " array([5.4649857 , 0.36596619]),\n",
       " array([[-0.40455358, -0.9145143 ],\n",
       "        [-0.9145143 ,  0.40455358]]))"
      ]
     },
     "metadata": {},
     "execution_count": 69
    }
   ],
   "metadata": {}
  }
 ],
 "metadata": {
  "orig_nbformat": 4,
  "language_info": {
   "name": "python",
   "version": "3.7.4",
   "mimetype": "text/x-python",
   "codemirror_mode": {
    "name": "ipython",
    "version": 3
   },
   "pygments_lexer": "ipython3",
   "nbconvert_exporter": "python",
   "file_extension": ".py"
  },
  "kernelspec": {
   "name": "python3",
   "display_name": "Python 3.7.4 64-bit ('base': conda)"
  },
  "interpreter": {
   "hash": "6c344d601c3b2b7bc82ec79b9273ba7e1890aa66188b2ee9de85e4fb69c667e8"
  }
 },
 "nbformat": 4,
 "nbformat_minor": 2
}