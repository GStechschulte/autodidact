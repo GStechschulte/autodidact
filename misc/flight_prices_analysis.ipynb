{
 "cells": [
  {
   "cell_type": "code",
   "execution_count": 3,
   "metadata": {},
   "outputs": [],
   "source": [
    "import requests"
   ]
  },
  {
   "cell_type": "code",
   "execution_count": 5,
   "metadata": {},
   "outputs": [
    {
     "name": "stdout",
     "output_type": "stream",
     "text": [
      "{\"status\":true,\"message\":\"Success\",\"timestamp\":1672664855440,\"data\":[]}\n"
     ]
    }
   ],
   "source": [
    "url = \"https://skyscanner50.p.rapidapi.com/api/v1/searchFlights\"\n",
    "\n",
    "querystring = {\n",
    "    \"origin\":\"DTW\",\n",
    "    \"destination\":\"ZRH\",\n",
    "    \"date\":\"2023-01-15\",\n",
    "    \"returnDate\": \"2023-01-29\",\n",
    "    \"adults\":\"1\",\n",
    "    \"currency\":\"USD\",\n",
    "    \"countryCode\":\"US\",\n",
    "    \"market\":\"en-US\"\n",
    "}\n",
    "\n",
    "headers = {\n",
    "\t\"X-RapidAPI-Key\": \"933aa0930amshbdbe67677d7efe9p19a780jsn2e603e0814f4\",\n",
    "\t\"X-RapidAPI-Host\": \"skyscanner50.p.rapidapi.com\"\n",
    "}\n",
    "\n",
    "response = requests.request(\"GET\", url, headers=headers, params=querystring)\n",
    "\n",
    "print(response.text)"
   ]
  },
  {
   "cell_type": "code",
   "execution_count": 7,
   "metadata": {},
   "outputs": [
    {
     "data": {
      "text/plain": [
       "<bound method Response.json of <Response [200]>>"
      ]
     },
     "execution_count": 7,
     "metadata": {},
     "output_type": "execute_result"
    }
   ],
   "source": [
    "response.json"
   ]
  },
  {
   "cell_type": "code",
   "execution_count": 9,
   "metadata": {},
   "outputs": [
    {
     "name": "stdout",
     "output_type": "stream",
     "text": [
      "{\"message\":\"You have exceeded the MONTHLY quota for Requests on your current plan, BASIC. Upgrade your plan at https:\\/\\/rapidapi.com\\/DataCrawler\\/api\\/skyscanner50\"}\n"
     ]
    }
   ],
   "source": [
    "import requests\n",
    "\n",
    "url = \"https://skyscanner50.p.rapidapi.com/api/v1/searchFlights\"\n",
    "\n",
    "querystring = {\"origin\":\"LOND\",\"destination\":\"NYCA\",\"date\":\"<REQUIRED>\",\"returnDate\":\"2023-01-06\",\"adults\":\"1\",\"cabinClass\":\"economy\",\"currency\":\"USD\",\"countryCode\":\"US\",\"market\":\"en-US\"}\n",
    "\n",
    "headers = {\n",
    "\t\"X-RapidAPI-Key\": \"933aa0930amshbdbe67677d7efe9p19a780jsn2e603e0814f4\",\n",
    "\t\"X-RapidAPI-Host\": \"skyscanner50.p.rapidapi.com\"\n",
    "}\n",
    "\n",
    "response = requests.request(\"GET\", url, headers=headers, params=querystring)\n",
    "\n",
    "print(response.text)"
   ]
  }
 ],
 "metadata": {
  "kernelspec": {
   "display_name": "probs",
   "language": "python",
   "name": "python3"
  },
  "language_info": {
   "codemirror_mode": {
    "name": "ipython",
    "version": 3
   },
   "file_extension": ".py",
   "mimetype": "text/x-python",
   "name": "python",
   "nbconvert_exporter": "python",
   "pygments_lexer": "ipython3",
   "version": "3.10.6"
  },
  "orig_nbformat": 4,
  "vscode": {
   "interpreter": {
    "hash": "3087d5226fcda7010d2896992ba2c6b5c8d69f7a13fb4a6c1af793e3f10c0a14"
   }
  }
 },
 "nbformat": 4,
 "nbformat_minor": 2
}
