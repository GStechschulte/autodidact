{
 "cells": [
  {
   "cell_type": "code",
   "execution_count": 1,
   "metadata": {},
   "outputs": [],
   "source": [
    "import pandas as pd\n",
    "import matplotlib.pyplot as plt\n",
    "import seaborn as sns\n",
    "import numpy as np\n",
    "from sklearn.neighbors import KernelDensity\n",
    "from sklearn.model_selection import GridSearchCV\n",
    "from sklearn.model_selection import LeaveOneOut, train_test_split\n",
    "from sklearn.base import BaseEstimator, ClassifierMixin\n",
    "from scipy.stats import norm\n",
    "from sklearn.datasets import load_digits"
   ]
  },
  {
   "cell_type": "markdown",
   "metadata": {},
   "source": [
    "# Generative Model - Using Kernel Density Estimation\n",
    "\n",
    "What is KDE? . . .\n",
    "\n",
    "Why use KDE? . . .\n",
    " - Problem with using histogram as density estimator is that the choice of bin size and locations can lead to incaccurate estimations"
   ]
  },
  {
   "cell_type": "code",
   "execution_count": null,
   "metadata": {},
   "outputs": [],
   "source": [
    "cover = pd.read_csv('/Users/gabestechschulte/Downloads/covertype.csv')\n",
    "cover.drop('Unnamed: 0', axis=1, inplace=True)\n",
    "cover.head()"
   ]
  },
  {
   "cell_type": "code",
   "execution_count": 3,
   "metadata": {},
   "outputs": [],
   "source": [
    "X = np.array(cover.iloc[:, 0:2])\n",
    "y = np.array(cover.iloc[:, -1])"
   ]
  },
  {
   "cell_type": "code",
   "execution_count": 96,
   "metadata": {},
   "outputs": [],
   "source": [
    "#X = np.array(cover.iloc[0:1000, 0:2])\n",
    "#y = np.array(cover.iloc[0:1000, -1])"
   ]
  },
  {
   "cell_type": "code",
   "execution_count": 178,
   "metadata": {},
   "outputs": [
    {
     "name": "stdout",
     "output_type": "stream",
     "text": [
      "(581012, 2)\n",
      "(581012,)\n"
     ]
    }
   ],
   "source": [
    "print(X.shape)\n",
    "print(y.shape)"
   ]
  },
  {
   "cell_type": "code",
   "execution_count": 6,
   "metadata": {},
   "outputs": [],
   "source": [
    "X_train, X_test, y_train, y_test = train_test_split(X, y, test_size=0.30, random_state=42)"
   ]
  },
  {
   "cell_type": "code",
   "execution_count": 8,
   "metadata": {},
   "outputs": [
    {
     "data": {
      "text/plain": [
       "<AxesSubplot:ylabel='Density'>"
      ]
     },
     "execution_count": 8,
     "metadata": {},
     "output_type": "execute_result"
    },
    {
     "data": {
      "image/png": "[encoded data removed]",
      "text/plain": [
       "<Figure size 432x288 with 1 Axes>"
      ]
     },
     "metadata": {
      "needs_background": "light"
     },
     "output_type": "display_data"
    }
   ],
   "source": [
    "#sns.kdeplot(X_train[:, 0]) ## Elevation\n",
    "#sns.kdeplot(X_train[:, 1]) ## Horizontal Distance to Fire Points"
   ]
  },
  {
   "cell_type": "code",
   "execution_count": null,
   "metadata": {},
   "outputs": [],
   "source": [
    "kde = KernelDensity(bandwidth=10, kernel='gaussian').fit(X_train)\n",
    "logprobs = kde.score_samples(X_train)\n",
    "probs = np.exp(logprobs)\n",
    "len(probs)"
   ]
  },
  {
   "cell_type": "code",
   "execution_count": 109,
   "metadata": {},
   "outputs": [
    {
     "data": {
      "text/plain": [
       "0.001756863530002761"
      ]
     },
     "execution_count": 109,
     "metadata": {},
     "output_type": "execute_result"
    }
   ],
   "source": [
    "probs.max() ## Still not exactly at the ~0.0026, but we don't want to overfit"
   ]
  },
  {
   "cell_type": "code",
   "execution_count": null,
   "metadata": {},
   "outputs": [],
   "source": [
    "bandwidths = 10 ** np.linspace(0.0, 1, 100)\n",
    "grid = GridSearchCV(KernelDensity(kernel = 'gaussian'),\n",
    "                   {'bandwidth': bandwidths})\n",
    "\n",
    "grid.fit(X[:, None])"
   ]
  },
  {
   "cell_type": "code",
   "execution_count": 49,
   "metadata": {},
   "outputs": [
    {
     "data": {
      "text/plain": [
       "{'bandwidth': 10.0}"
      ]
     },
     "execution_count": 49,
     "metadata": {},
     "output_type": "execute_result"
    }
   ],
   "source": [
    "grid.best_params_"
   ]
  },
  {
   "cell_type": "markdown",
   "metadata": {},
   "source": [
    "## Generative Model\n",
    "\n",
    "$P(Y = y | X)$ $\\propto$ $P(X | Y)*P(Y)$"
   ]
  },
  {
   "cell_type": "code",
   "execution_count": 110,
   "metadata": {},
   "outputs": [],
   "source": [
    "class KDEClassifier(BaseEstimator, ClassifierMixin):\n",
    "    \n",
    "    def __init__(self, bandwidth=1.0, kernel='gaussian'):\n",
    "        self.bandwidth = bandwidth\n",
    "        self.kernel = kernel\n",
    "    \n",
    "    def fit(self, X, y):\n",
    "        # Unique classes in the training data\n",
    "        self.classes_ = np.sort(np.unique(y))\n",
    "        #print(self.classes_)\n",
    "        # Identify observations in training set for unique classes - 5 classes means 5 training sets\n",
    "        # This is used in the next steps for the likelihood function\n",
    "        training_sets = [X[y == yi] for yi in self.classes_]\n",
    "        #print(training_sets)\n",
    "        # Fit a KDE for each unique class observation in training sets: P(X | Y) aka likelihood function\n",
    "        self.models_ = [KernelDensity(bandwidth = self.bandwidth,\n",
    "                                     kernel = self.kernel).fit(Xi)\n",
    "                       for Xi in training_sets]\n",
    "        # Prior belief based on the number of samples: P(Y) aka prior\n",
    "        self.logpriors_ = [np.log(Xi.shape[0] / X.shape[0])\n",
    "                          for Xi in training_sets]\n",
    "        # Probs density of observing the class\n",
    "        #print(np.exp(self.logpriors_))\n",
    "        \n",
    "        return self\n",
    "    \n",
    "    def predict_probability(self, X):\n",
    "        # Score samples returns the log of the probability density function (pdf)\n",
    "        # For each model, return the score on the feature vector in a transposed array\n",
    "        logprobs = np.array([model.score_samples(X)\n",
    "                            for model in self.models_]).T\n",
    "        # Exponentiate since it was returned in log form\n",
    "        results = np.exp(logprobs + self.logpriors_)\n",
    "        \n",
    "        return results / results.sum(1, keepdims = True)\n",
    "    \n",
    "    def predict(self, X):\n",
    "        # Return the class that has the highest probability given the observed feature(s)\n",
    "        return self.classes_[np.argmax(self.predict_probability(X), 1)]"
   ]
  },
  {
   "cell_type": "code",
   "execution_count": 163,
   "metadata": {},
   "outputs": [],
   "source": [
    "classes = np.sort(np.unique(y))\n",
    "training_sets = [X[y == yi] for yi in classes]\n",
    "models = [KernelDensity(bandwidth = 1, kernel = 'gaussian').fit(Xi) for Xi in training_sets]\n",
    "logpriors = [np.log(Xi.shape[0] / X.shape[0]) for Xi in training_sets]\n",
    "logprobs = np.array([model.score_samples(X) for model in models]).T\n",
    "results = np.exp(logprobs + logpriors)"
   ]
  },
  {
   "cell_type": "markdown",
   "metadata": {},
   "source": [
    "$P(X | Y = y)$\n",
    "\n",
    "When $Y = y$, how does the distribution of $X$ change? \n",
    " - Therefore, we are looking at the change in the features distribution conditioning on the class "
   ]
  },
  {
   "cell_type": "code",
   "execution_count": 154,
   "metadata": {},
   "outputs": [
    {
     "data": {
      "text/plain": [
       "3"
      ]
     },
     "execution_count": 154,
     "metadata": {},
     "output_type": "execute_result"
    }
   ],
   "source": [
    "len(training_sets) ## 3 unique values, so 3 training sets "
   ]
  },
  {
   "cell_type": "code",
   "execution_count": 156,
   "metadata": {},
   "outputs": [
    {
     "data": {
      "text/plain": [
       "[KernelDensity(bandwidth=1),\n",
       " KernelDensity(bandwidth=1),\n",
       " KernelDensity(bandwidth=1)]"
      ]
     },
     "execution_count": 156,
     "metadata": {},
     "output_type": "execute_result"
    }
   ],
   "source": [
    "models ## 3 training sets, so 3 models"
   ]
  },
  {
   "cell_type": "markdown",
   "metadata": {},
   "source": [
    "$P(Y)$ = Prior belief about our unique classes "
   ]
  },
  {
   "cell_type": "code",
   "execution_count": 158,
   "metadata": {},
   "outputs": [
    {
     "data": {
      "text/plain": [
       "array([0.226, 0.585, 0.189])"
      ]
     },
     "execution_count": 158,
     "metadata": {},
     "output_type": "execute_result"
    }
   ],
   "source": [
    "np.exp(logpriors) ## probability of observing each respective class given the inputed training sets"
   ]
  },
  {
   "cell_type": "code",
   "execution_count": 162,
   "metadata": {},
   "outputs": [
    {
     "data": {
      "text/plain": [
       "(1000, 3)"
      ]
     },
     "execution_count": 162,
     "metadata": {},
     "output_type": "execute_result"
    }
   ],
   "source": [
    "np.exp(logprobs).shape ## log of the probability density function for features using the 3 training sets"
   ]
  },
  {
   "cell_type": "code",
   "execution_count": 164,
   "metadata": {},
   "outputs": [
    {
     "data": {
      "text/plain": [
       "5"
      ]
     },
     "execution_count": 164,
     "metadata": {},
     "output_type": "execute_result"
    }
   ],
   "source": [
    "classes[np.argmax(results / results.sum(1, keepdims=True))]"
   ]
  },
  {
   "cell_type": "code",
   "execution_count": null,
   "metadata": {},
   "outputs": [],
   "source": [
    "bandwidths = 10 ** np.linspace(0, 1.5, 100)\n",
    "grid = GridSearchCV(KDEClassifier(), {'bandwidth': [1]})\n",
    "grid.fit(X, y)"
   ]
  },
  {
   "cell_type": "code",
   "execution_count": 150,
   "metadata": {},
   "outputs": [
    {
     "name": "stdout",
     "output_type": "stream",
     "text": [
      "{'bandwidth': 1}\n",
      "0.413\n"
     ]
    }
   ],
   "source": [
    "print(grid.best_params_)\n",
    "print(grid.best_score_)"
   ]
  }
 ],
 "metadata": {
  "kernelspec": {
   "display_name": "Python 3",
   "language": "python",
   "name": "python3"
  },
  "language_info": {
   "codemirror_mode": {
    "name": "ipython",
    "version": 3
   },
   "file_extension": ".py",
   "mimetype": "text/x-python",
   "name": "python",
   "nbconvert_exporter": "python",
   "pygments_lexer": "ipython3",
   "version": "3.7.4"
  }
 },
 "nbformat": 4,
 "nbformat_minor": 4
}
