{
 "cells": [
  {
   "cell_type": "code",
   "execution_count": 1,
   "metadata": {},
   "outputs": [],
   "source": [
    "import pandas as pd\n",
    "import matplotlib.pyplot as plt\n",
    "import seaborn as sns\n",
    "import numpy as np\n",
    "from sklearn.neighbors import KernelDensity\n",
    "from sklearn.model_selection import GridSearchCV\n",
    "from sklearn.model_selection import LeaveOneOut, train_test_split\n",
    "from sklearn.base import BaseEstimator, ClassifierMixin\n",
    "from scipy.stats import norm\n",
    "from sklearn.datasets import load_digits"
   ]
  },
  {
   "cell_type": "markdown",
   "metadata": {},
   "source": [
    "# Generative Model - Using Kernel Density Estimation\n",
    "\n",
    "**What** is a density estimator?\n",
    "\n",
    "A density estimator is an algorithm that takes a __D__-dimensional dataset and produces an estimate of the __D__-dimensional probability distribution which that data is drawn from\n",
    " - $P(X_1, . . .X_n)$\n",
    "\n",
    "The probability density function of a continuous random variable, is a function whose value at any given sample in the sample space can be interpreted as providing a relative likelihood that the value of the random variable would equal that sample. Thus, we can use the pdf to calculate the probability a given data point lies within an interval. \n",
    "\n",
    "**Why** use KDE?\n",
    "\n",
    "Problem with using histogram as density estimator is that the choice of bin size and locations can lead to incaccurate estimations\n",
    "\n",
    "KDE Hyperparameters:\n",
    " - Bandwidth = It is the knob that controls the bias–variance trade-off in the estimate of density:\n",
    "    - Too narrow a bandwidth leads to a high-variance estimate (i.e., over-fitting), where the presence or absence of a single point makes a large difference. \n",
    "    - Too wide a bandwidth leads to a high-bias estimate (i.e., under-fitting) where the structure in the data is washed out by the wide kernel.\n",
    "\n",
    "**Goal**:\n",
    " - Create a generative classifier using Bayes theorem: $P(Y = y | X)$ $\\propto$ $P(X | Y)*P(Y)$\n",
    "\n",
    "Problems:\n",
    " - KDE is known to be very computationally expensive"
   ]
  },
  {
   "cell_type": "code",
   "execution_count": 2,
   "metadata": {},
   "outputs": [
    {
     "data": {
      "text/html": [
       "<div>\n",
       "<style scoped>\n",
       "    .dataframe tbody tr th:only-of-type {\n",
       "        vertical-align: middle;\n",
       "    }\n",
       "\n",
       "    .dataframe tbody tr th {\n",
       "        vertical-align: top;\n",
       "    }\n",
       "\n",
       "    .dataframe thead th {\n",
       "        text-align: right;\n",
       "    }\n",
       "</style>\n",
       "<table border=\"1\" class=\"dataframe\">\n",
       "  <thead>\n",
       "    <tr style=\"text-align: right;\">\n",
       "      <th></th>\n",
       "      <th>Elevation</th>\n",
       "      <th>Horizontal_Distance_To_Fire_Points</th>\n",
       "      <th>Wilderness_Area</th>\n",
       "      <th>Soil_Type</th>\n",
       "      <th>Cover_Type</th>\n",
       "    </tr>\n",
       "  </thead>\n",
       "  <tbody>\n",
       "    <tr>\n",
       "      <th>0</th>\n",
       "      <td>2596</td>\n",
       "      <td>6279</td>\n",
       "      <td>WA1</td>\n",
       "      <td>ST29</td>\n",
       "      <td>5</td>\n",
       "    </tr>\n",
       "    <tr>\n",
       "      <th>1</th>\n",
       "      <td>2590</td>\n",
       "      <td>6225</td>\n",
       "      <td>WA1</td>\n",
       "      <td>ST29</td>\n",
       "      <td>5</td>\n",
       "    </tr>\n",
       "    <tr>\n",
       "      <th>2</th>\n",
       "      <td>2804</td>\n",
       "      <td>6121</td>\n",
       "      <td>WA1</td>\n",
       "      <td>ST12</td>\n",
       "      <td>2</td>\n",
       "    </tr>\n",
       "    <tr>\n",
       "      <th>3</th>\n",
       "      <td>2785</td>\n",
       "      <td>6211</td>\n",
       "      <td>WA1</td>\n",
       "      <td>ST30</td>\n",
       "      <td>2</td>\n",
       "    </tr>\n",
       "    <tr>\n",
       "      <th>4</th>\n",
       "      <td>2595</td>\n",
       "      <td>6172</td>\n",
       "      <td>WA1</td>\n",
       "      <td>ST29</td>\n",
       "      <td>5</td>\n",
       "    </tr>\n",
       "  </tbody>\n",
       "</table>\n",
       "</div>"
      ],
      "text/plain": [
       "   Elevation  Horizontal_Distance_To_Fire_Points Wilderness_Area Soil_Type  \\\n",
       "0       2596                                6279             WA1      ST29   \n",
       "1       2590                                6225             WA1      ST29   \n",
       "2       2804                                6121             WA1      ST12   \n",
       "3       2785                                6211             WA1      ST30   \n",
       "4       2595                                6172             WA1      ST29   \n",
       "\n",
       "   Cover_Type  \n",
       "0           5  \n",
       "1           5  \n",
       "2           2  \n",
       "3           2  \n",
       "4           5  "
      ]
     },
     "execution_count": 2,
     "metadata": {},
     "output_type": "execute_result"
    }
   ],
   "source": [
    "cover = pd.read_csv('/Users/gabestechschulte/Downloads/covertype.csv')\n",
    "cover.drop('Unnamed: 0', axis=1, inplace=True)\n",
    "cover.head()"
   ]
  },
  {
   "cell_type": "code",
   "execution_count": 3,
   "metadata": {},
   "outputs": [],
   "source": [
    "X = np.array(cover.iloc[:, 0:2])\n",
    "y = np.array(cover.iloc[:, -1])"
   ]
  },
  {
   "cell_type": "code",
   "execution_count": 4,
   "metadata": {},
   "outputs": [],
   "source": [
    "#X = np.array(cover.iloc[0:1000, 0:2])\n",
    "#y = np.array(cover.iloc[0:1000, -1])"
   ]
  },
  {
   "cell_type": "code",
   "execution_count": 5,
   "metadata": {},
   "outputs": [
    {
     "name": "stdout",
     "output_type": "stream",
     "text": [
      "(581012, 2)\n",
      "(581012,)\n"
     ]
    }
   ],
   "source": [
    "print(X.shape)\n",
    "print(y.shape)"
   ]
  },
  {
   "cell_type": "code",
   "execution_count": 6,
   "metadata": {},
   "outputs": [],
   "source": [
    "X_train, X_test, y_train, y_test = train_test_split(X, y, test_size=0.30, random_state=42)"
   ]
  },
  {
   "cell_type": "markdown",
   "metadata": {},
   "source": [
    "### 1d Feature Example"
   ]
  },
  {
   "cell_type": "code",
   "execution_count": 7,
   "metadata": {},
   "outputs": [
    {
     "data": {
      "text/plain": [
       "<AxesSubplot:ylabel='Density'>"
      ]
     },
     "execution_count": 7,
     "metadata": {},
     "output_type": "execute_result"
    },
    {
     "data": {
      "image/png": "[encoded data removed]",
      "text/plain": [
       "<Figure size 432x288 with 1 Axes>"
      ]
     },
     "metadata": {
      "needs_background": "light"
     },
     "output_type": "display_data"
    }
   ],
   "source": [
    "sns.kdeplot(X_train[0:2000, 0]) ## Elevation\n",
    "#sns.kdeplot(X_train[:, 1]) ## Horizontal Distance to Fire Points"
   ]
  },
  {
   "cell_type": "code",
   "execution_count": null,
   "metadata": {},
   "outputs": [],
   "source": [
    "bandwidths = 10 ** np.linspace(0.0, 1.2, 100)\n",
    "grid = GridSearchCV(KernelDensity(kernel = 'gaussian'),\n",
    "                   {'bandwidth': bandwidths})\n",
    "\n",
    "grid.fit(X[0:2000, 0].reshape(-1, 1))"
   ]
  },
  {
   "cell_type": "code",
   "execution_count": 9,
   "metadata": {},
   "outputs": [
    {
     "data": {
      "text/plain": [
       "2000"
      ]
     },
     "execution_count": 9,
     "metadata": {},
     "output_type": "execute_result"
    }
   ],
   "source": [
    "kde = KernelDensity(bandwidth = grid.best_params_['bandwidth'],\n",
    "                    kernel='gaussian').fit(X_train[0:2000, 0].reshape(-1, 1))\n",
    "logprobs = kde.score_samples(X_train[0:2000, 0].reshape(-1, 1))\n",
    "probs = np.exp(logprobs)\n",
    "len(probs)"
   ]
  },
  {
   "cell_type": "code",
   "execution_count": 10,
   "metadata": {},
   "outputs": [
    {
     "data": {
      "text/plain": [
       "0.0018241677390176566"
      ]
     },
     "execution_count": 10,
     "metadata": {},
     "output_type": "execute_result"
    }
   ],
   "source": [
    "probs.max()"
   ]
  },
  {
   "cell_type": "markdown",
   "metadata": {},
   "source": [
    "## Generative Model\n",
    "\n",
    "$P(Y = y | X)$ $\\propto$ $P(X | Y)*P(Y)$"
   ]
  },
  {
   "cell_type": "code",
   "execution_count": 11,
   "metadata": {},
   "outputs": [],
   "source": [
    "class KDEClassifier(BaseEstimator, ClassifierMixin):\n",
    "    \n",
    "    def __init__(self, bandwidth=1.0, kernel='gaussian'):\n",
    "        self.bandwidth = bandwidth\n",
    "        self.kernel = kernel\n",
    "    \n",
    "    def fit(self, X, y):\n",
    "        \n",
    "        # Unique classes in the training data\n",
    "        self.classes_ = np.sort(np.unique(y))\n",
    "        \n",
    "        # Identify observations in training set for unique classes - 5 classes means 5 training sets\n",
    "        # This is used in the next steps for the likelihood function\n",
    "        training_sets = [X[y == yi] for yi in self.classes_]\n",
    "        \n",
    "        # Fit a KDE for each unique class observation in training sets: P(X | Y) aka likelihood function\n",
    "        # When \"Y = y\", how does the distribution of \"X\" change?\n",
    "        self.models_ = [KernelDensity(bandwidth = self.bandwidth,\n",
    "                                     kernel = self.kernel).fit(Xi)\n",
    "                       for Xi in training_sets]\n",
    "        \n",
    "        # Prior belief based on the number of samples: P(Y) aka prior\n",
    "        self.logpriors_ = [np.log(Xi.shape[0] / X.shape[0])\n",
    "                          for Xi in training_sets]\n",
    "        # Probs density of observing the class\n",
    "        #print(np.exp(self.logpriors_))\n",
    "        \n",
    "        return self\n",
    "    \n",
    "    def predict_probability(self, X):\n",
    "        \n",
    "        # Score samples returns the log of the probability density function (pdf)\n",
    "        # For each model, return the score on the feature vector in a transposed array\n",
    "        logprobs = np.array([model.score_samples(X)\n",
    "                            for model in self.models_]).T\n",
    "        \n",
    "        # Exponentiate since it was returned in log form\n",
    "        results = np.exp(logprobs + self.logpriors_)\n",
    "        \n",
    "        return results / results.sum(1, keepdims = True)\n",
    "    \n",
    "    def predict(self, X):\n",
    "        \n",
    "        # Return the class that has the highest probability given the observed feature(s)\n",
    "        # Posterior = P(Y | X)\n",
    "        return self.classes_[np.argmax(self.predict_probability(X), 1)]"
   ]
  },
  {
   "cell_type": "markdown",
   "metadata": {},
   "source": [
    "### Under the Hood"
   ]
  },
  {
   "cell_type": "code",
   "execution_count": null,
   "metadata": {},
   "outputs": [],
   "source": [
    "classes = np.sort(np.unique(y))\n",
    "training_sets = [X[y == yi] for yi in classes]\n",
    "models = [KernelDensity(bandwidth = 1, kernel = 'gaussian').fit(Xi) for Xi in training_sets]\n",
    "logpriors = [np.log(Xi.shape[0] / X.shape[0]) for Xi in training_sets]\n",
    "logprobs = np.array([model.score_samples(X) for model in models]).T\n",
    "results = np.exp(logprobs + logpriors)"
   ]
  },
  {
   "cell_type": "markdown",
   "metadata": {},
   "source": [
    "$P(X | Y = y)$\n",
    "\n",
    "When $Y = y$, how does the distribution of $X$ change? \n",
    " - Therefore, we are looking at the change in the features distribution conditioning on the class "
   ]
  },
  {
   "cell_type": "code",
   "execution_count": null,
   "metadata": {},
   "outputs": [],
   "source": [
    "len(training_sets) ## 3 unique values, so 3 training sets "
   ]
  },
  {
   "cell_type": "code",
   "execution_count": null,
   "metadata": {},
   "outputs": [],
   "source": [
    "models ## 3 training sets, so 3 models"
   ]
  },
  {
   "cell_type": "markdown",
   "metadata": {},
   "source": [
    "$P(Y)$ = Prior belief about our unique classes "
   ]
  },
  {
   "cell_type": "code",
   "execution_count": null,
   "metadata": {},
   "outputs": [],
   "source": [
    "np.exp(logpriors) ## probability of observing each respective class given the inputed training sets"
   ]
  },
  {
   "cell_type": "code",
   "execution_count": null,
   "metadata": {},
   "outputs": [],
   "source": [
    "np.exp(logprobs).shape ## log of the probability density function for features using the 3 training sets"
   ]
  },
  {
   "cell_type": "code",
   "execution_count": null,
   "metadata": {},
   "outputs": [],
   "source": [
    "classes[np.argmax(results / results.sum(1, keepdims=True))]"
   ]
  },
  {
   "cell_type": "code",
   "execution_count": null,
   "metadata": {},
   "outputs": [],
   "source": [
    "bandwidths = 10 ** np.linspace(0, 1.5, 100)\n",
    "grid = GridSearchCV(KDEClassifier(), {'bandwidth': [1]})\n",
    "grid.fit(X[0:2000], y[0:2000])"
   ]
  },
  {
   "cell_type": "code",
   "execution_count": null,
   "metadata": {},
   "outputs": [],
   "source": [
    "print(grid.best_params_)\n",
    "print(grid.best_score_)"
   ]
  }
 ],
 "metadata": {
  "kernelspec": {
   "display_name": "Python 3",
   "language": "python",
   "name": "python3"
  },
  "language_info": {
   "codemirror_mode": {
    "name": "ipython",
    "version": 3
   },
   "file_extension": ".py",
   "mimetype": "text/x-python",
   "name": "python",
   "nbconvert_exporter": "python",
   "pygments_lexer": "ipython3",
   "version": "3.7.4"
  }
 },
 "nbformat": 4,
 "nbformat_minor": 4
}
