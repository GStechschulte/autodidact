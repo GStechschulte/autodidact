{
 "cells": [
  {
   "cell_type": "code",
   "execution_count": 2,
   "source": [
    "import pandas as pd\n",
    "import matplotlib.pyplot as plt\n",
    "import seaborn as sns\n",
    "import numpy as np\n",
    "from sklearn.neighbors import KernelDensity\n",
    "from sklearn.model_selection import GridSearchCV, train_test_split\n",
    "from sklearn.base import BaseEstimator, ClassifierMixin\n",
    "from scipy.stats import norm\n",
    "from sklearn.preprocessing import LabelEncoder\n",
    "from sklearn.datasets import load_digits"
   ],
   "outputs": [],
   "metadata": {}
  },
  {
   "cell_type": "markdown",
   "source": [
    "# Generative Model - Using Kernel Density Estimation\n",
    "\n",
    "**What** is a density estimator?\n",
    "\n",
    "A density estimator is an algorithm that takes a __D__-dimensional dataset and produces an estimate of the __D__-dimensional probability distribution which that data is drawn from\n",
    " - $P(X_1, . . .X_n)$\n",
    "\n",
    "The probability density function of a continuous random variable, is a function whose value at any given sample in the sample space can be interpreted as providing a relative likelihood that the value of the random variable would equal that sample. Thus, we can use the pdf to calculate the probability a given data point lies within an interval. \n",
    "\n",
    "**Why** use KDE?\n",
    "\n",
    "Problem with using histogram as density estimator is that the choice of bin size and locations can lead to incaccurate estimations\n",
    "\n",
    "KDE Hyperparameters:\n",
    " - Bandwidth = It is the knob that controls the bias–variance trade-off in the estimate of density:\n",
    "    - Too narrow a bandwidth leads to a high-variance estimate (i.e., over-fitting), where the presence or absence of a single point makes a large difference. \n",
    "    - Too wide a bandwidth leads to a high-bias estimate (i.e., under-fitting) where the structure in the data is washed out by the wide kernel.\n",
    "\n",
    "**Goal**:\n",
    " - Create a generative classifier using Bayes theorem: $P(Y = y | X)$ $\\propto$ $P(X | Y)*P(Y)$\n",
    "\n",
    "Problems:\n",
    " - KDE is known to be very computationally expensive"
   ],
   "metadata": {}
  },
  {
   "cell_type": "code",
   "execution_count": 4,
   "source": [
    "cover = pd.read_csv('/Users/gabestechschulte/Downloads/covertype.csv')\n",
    "cover.drop('Unnamed: 0', axis=1, inplace=True)\n",
    "#cover.head()\n",
    "\n",
    "fish = pd.read_csv('/Users/gabestechschulte/Downloads/Fish.csv')\n",
    "fish.head()"
   ],
   "outputs": [
    {
     "output_type": "execute_result",
     "data": {
      "text/plain": [
       "  Species  Weight  Length1  Length2  Length3   Height   Width\n",
       "0   Bream   242.0     23.2     25.4     30.0  11.5200  4.0200\n",
       "1   Bream   290.0     24.0     26.3     31.2  12.4800  4.3056\n",
       "2   Bream   340.0     23.9     26.5     31.1  12.3778  4.6961\n",
       "3   Bream   363.0     26.3     29.0     33.5  12.7300  4.4555\n",
       "4   Bream   430.0     26.5     29.0     34.0  12.4440  5.1340"
      ],
      "text/html": [
       "<div>\n",
       "<style scoped>\n",
       "    .dataframe tbody tr th:only-of-type {\n",
       "        vertical-align: middle;\n",
       "    }\n",
       "\n",
       "    .dataframe tbody tr th {\n",
       "        vertical-align: top;\n",
       "    }\n",
       "\n",
       "    .dataframe thead th {\n",
       "        text-align: right;\n",
       "    }\n",
       "</style>\n",
       "<table border=\"1\" class=\"dataframe\">\n",
       "  <thead>\n",
       "    <tr style=\"text-align: right;\">\n",
       "      <th></th>\n",
       "      <th>Species</th>\n",
       "      <th>Weight</th>\n",
       "      <th>Length1</th>\n",
       "      <th>Length2</th>\n",
       "      <th>Length3</th>\n",
       "      <th>Height</th>\n",
       "      <th>Width</th>\n",
       "    </tr>\n",
       "  </thead>\n",
       "  <tbody>\n",
       "    <tr>\n",
       "      <th>0</th>\n",
       "      <td>Bream</td>\n",
       "      <td>242.0</td>\n",
       "      <td>23.2</td>\n",
       "      <td>25.4</td>\n",
       "      <td>30.0</td>\n",
       "      <td>11.5200</td>\n",
       "      <td>4.0200</td>\n",
       "    </tr>\n",
       "    <tr>\n",
       "      <th>1</th>\n",
       "      <td>Bream</td>\n",
       "      <td>290.0</td>\n",
       "      <td>24.0</td>\n",
       "      <td>26.3</td>\n",
       "      <td>31.2</td>\n",
       "      <td>12.4800</td>\n",
       "      <td>4.3056</td>\n",
       "    </tr>\n",
       "    <tr>\n",
       "      <th>2</th>\n",
       "      <td>Bream</td>\n",
       "      <td>340.0</td>\n",
       "      <td>23.9</td>\n",
       "      <td>26.5</td>\n",
       "      <td>31.1</td>\n",
       "      <td>12.3778</td>\n",
       "      <td>4.6961</td>\n",
       "    </tr>\n",
       "    <tr>\n",
       "      <th>3</th>\n",
       "      <td>Bream</td>\n",
       "      <td>363.0</td>\n",
       "      <td>26.3</td>\n",
       "      <td>29.0</td>\n",
       "      <td>33.5</td>\n",
       "      <td>12.7300</td>\n",
       "      <td>4.4555</td>\n",
       "    </tr>\n",
       "    <tr>\n",
       "      <th>4</th>\n",
       "      <td>Bream</td>\n",
       "      <td>430.0</td>\n",
       "      <td>26.5</td>\n",
       "      <td>29.0</td>\n",
       "      <td>34.0</td>\n",
       "      <td>12.4440</td>\n",
       "      <td>5.1340</td>\n",
       "    </tr>\n",
       "  </tbody>\n",
       "</table>\n",
       "</div>"
      ]
     },
     "metadata": {},
     "execution_count": 4
    }
   ],
   "metadata": {}
  },
  {
   "cell_type": "code",
   "execution_count": 19,
   "source": [
    "X_cover = np.array(cover.iloc[:, 0:2])\n",
    "y_cover = np.array(cover.iloc[:, -1])\n",
    "\n",
    "X_cover.shape, y_cover.shape"
   ],
   "outputs": [
    {
     "output_type": "execute_result",
     "data": {
      "text/plain": [
       "((581012, 2), (581012,))"
      ]
     },
     "metadata": {},
     "execution_count": 19
    }
   ],
   "metadata": {}
  },
  {
   "cell_type": "code",
   "execution_count": 5,
   "source": [
    "le = LabelEncoder()\n",
    "fish.Species = le.fit_transform(fish.Species)"
   ],
   "outputs": [],
   "metadata": {}
  },
  {
   "cell_type": "code",
   "execution_count": 40,
   "source": [
    "X, y = fish[['Weight', 'Length1', 'Length2', 'Length3', 'Height', 'Width']].values, fish['Species']\n",
    "X.shape, y.shape"
   ],
   "outputs": [
    {
     "output_type": "execute_result",
     "data": {
      "text/plain": [
       "((159, 6), (159,))"
      ]
     },
     "metadata": {},
     "execution_count": 40
    }
   ],
   "metadata": {}
  },
  {
   "cell_type": "code",
   "execution_count": 4,
   "source": [
    "#X = np.array(cover.iloc[0:1000, 0:2])\n",
    "#y = np.array(cover.iloc[0:1000, -1])"
   ],
   "outputs": [],
   "metadata": {}
  },
  {
   "cell_type": "code",
   "execution_count": 41,
   "source": [
    "X_train, X_test, y_train, y_test = train_test_split(X, y, test_size=0.30, random_state=42)"
   ],
   "outputs": [],
   "metadata": {}
  },
  {
   "cell_type": "markdown",
   "source": [
    "### 1d Feature Example"
   ],
   "metadata": {}
  },
  {
   "cell_type": "code",
   "execution_count": 12,
   "source": [
    "sns.kdeplot(X_train[:, 0])"
   ],
   "outputs": [
    {
     "output_type": "execute_result",
     "data": {
      "text/plain": [
       "<AxesSubplot:ylabel='Density'>"
      ]
     },
     "metadata": {},
     "execution_count": 12
    },
    {
     "output_type": "display_data",
     "data": {
      "text/plain": [
       "<Figure size 432x288 with 1 Axes>"
      ],
      "image/png": "[encoded data removed]"
     },
     "metadata": {
      "needs_background": "light"
     }
    }
   ],
   "metadata": {}
  },
  {
   "cell_type": "code",
   "execution_count": 41,
   "source": [
    "bandwidths = 10 ** np.linspace(0.0, 1.2, 100)\n",
    "grid = GridSearchCV(KernelDensity(kernel = 'gaussian'),\n",
    "                   {'bandwidth': bandwidths})\n",
    "\n",
    "grid.fit(X[:, 0].reshape(-1, 1))\n",
    "#grid.best_params_['bandwidth']"
   ],
   "outputs": [
    {
     "output_type": "execute_result",
     "data": {
      "text/plain": [
       "GridSearchCV(estimator=KernelDensity(),\n",
       "             param_grid={'bandwidth': array([ 1.        ,  1.02830326,  1.05740759,  1.08733567,  1.11811082,\n",
       "        1.149757  ,  1.18229887,  1.21576178,  1.2501718 ,  1.28555573,\n",
       "        1.32194115,  1.35935639,  1.39783061,  1.43739377,  1.4780767 ,\n",
       "        1.51991108,  1.56292952,  1.60716552,  1.65265354,  1.69942902,\n",
       "        1.7475284 ,  1.79698915,  1.8478498 ,  1.90014997,  1.9539304 ,\n",
       "        2.009233  ,  2.06610084,...\n",
       "        6.13590727,  6.30957344,  6.48815493,  6.67179086,  6.86062429,\n",
       "        7.05480231,  7.25447621,  7.45980152,  7.67093822,  7.88805077,\n",
       "        8.11130831,  8.34088477,  8.57695899,  8.81971488,  9.06934155,\n",
       "        9.32603347,  9.58999061,  9.86141859, 10.14052888, 10.42753889,\n",
       "       10.72267222, 11.02615879, 11.33823501, 11.65914401, 11.98913578,\n",
       "       12.32846739, 12.6774032 , 13.03621502, 13.40518239, 13.78459273,\n",
       "       14.17474163, 14.57593301, 14.98847941, 15.41270223, 15.84893192])})"
      ]
     },
     "metadata": {},
     "execution_count": 41
    }
   ],
   "metadata": {}
  },
  {
   "cell_type": "code",
   "execution_count": 42,
   "source": [
    "kde = KernelDensity(bandwidth = grid.best_params_['bandwidth'],\n",
    "                    kernel='gaussian').fit(X_train[:, 0].reshape(-1, 1))\n",
    "logprobs = kde.score_samples(X_train[:, 0].reshape(-1, 1))\n",
    "probs = np.exp(logprobs)\n",
    "len(probs), probs.max()"
   ],
   "outputs": [
    {
     "output_type": "execute_result",
     "data": {
      "text/plain": [
       "111"
      ]
     },
     "metadata": {},
     "execution_count": 42
    }
   ],
   "metadata": {}
  },
  {
   "cell_type": "markdown",
   "source": [
    "## Generative Model\n",
    "\n",
    "$P(Y = y | X)$ $\\propto$ $P(X | Y)*P(Y)$"
   ],
   "metadata": {}
  },
  {
   "cell_type": "code",
   "execution_count": 42,
   "source": [
    "class KDEClassifier(BaseEstimator, ClassifierMixin):\n",
    "    \n",
    "    def __init__(self, bandwidth=1.0, kernel='gaussian'):\n",
    "        self.bandwidth = bandwidth\n",
    "        self.kernel = kernel\n",
    "    \n",
    "    def fit(self, X, y):\n",
    "        \n",
    "        # Unique classes in the training data\n",
    "        self.classes_ = np.sort(np.unique(y))\n",
    "        \n",
    "        # Identify observations in training set for unique classes - 5 classes means 5 training sets\n",
    "        # This is used in the next steps for the likelihood function\n",
    "        training_sets = [X[y == yi] for yi in self.classes_]\n",
    "        \n",
    "        # Fit a KDE for each unique class observation in training sets: P(X | Y) aka likelihood function\n",
    "        # When \"Y = y\", how does the distribution of \"X\" change?\n",
    "        self.models_ = [KernelDensity(bandwidth = self.bandwidth,\n",
    "                                     kernel = self.kernel).fit(Xi)\n",
    "                       for Xi in training_sets]\n",
    "        \n",
    "        # Prior belief based on the number of samples: P(Y) aka prior\n",
    "        self.logpriors_ = [np.log(Xi.shape[0] / X.shape[0])\n",
    "                          for Xi in training_sets]\n",
    "        # Probs density of observing the class\n",
    "        #print(np.exp(self.logpriors_))\n",
    "        \n",
    "        return self\n",
    "    \n",
    "    def predict_probability(self, X):\n",
    "        \n",
    "        # Score samples returns the log of the probability density function (pdf)\n",
    "        # For each model, return the score on the feature vector in a transposed array\n",
    "        logprobs = np.array([model.score_samples(X)\n",
    "                            for model in self.models_]).T\n",
    "        \n",
    "        # Exponentiate since it was returned in log form\n",
    "        results = np.exp(logprobs + self.logpriors_)\n",
    "        \n",
    "        return results / results.sum(1, keepdims = True)\n",
    "    \n",
    "    def predict(self, X):\n",
    "        \n",
    "        # Return the class that has the highest probability given the observed feature(s)\n",
    "        # Posterior = P(Y | X)\n",
    "        return self.classes_[np.argmax(self.predict_probability(X), 1)]"
   ],
   "outputs": [],
   "metadata": {}
  },
  {
   "cell_type": "markdown",
   "source": [
    "### Under the Hood"
   ],
   "metadata": {}
  },
  {
   "cell_type": "code",
   "execution_count": 26,
   "source": [
    "classes = np.sort(np.unique(y))\n",
    "training_sets = [X[y == yi] for yi in classes]\n",
    "models = [KernelDensity(bandwidth = 1, kernel = 'gaussian').fit(Xi) for Xi in training_sets]\n",
    "logpriors = [np.log(Xi.shape[0] / X.shape[0]) for Xi in training_sets]\n",
    "logprobs = np.array([model.score_samples(X) for model in models]).T\n",
    "results = np.exp(logprobs + logpriors)"
   ],
   "outputs": [],
   "metadata": {}
  },
  {
   "cell_type": "markdown",
   "source": [
    "$P(X | Y = y)$\n",
    "\n",
    "When $Y = y$, how does the distribution of $X$ change? \n",
    " - Therefore, we are looking at the change in the features distribution conditioning on the class "
   ],
   "metadata": {}
  },
  {
   "cell_type": "code",
   "execution_count": 25,
   "source": [
    "len(training_sets) ## 7 unique values, so 7 training sets "
   ],
   "outputs": [
    {
     "output_type": "execute_result",
     "data": {
      "text/plain": [
       "7"
      ]
     },
     "metadata": {},
     "execution_count": 25
    }
   ],
   "metadata": {}
  },
  {
   "cell_type": "code",
   "execution_count": 27,
   "source": [
    "models ## 3 training sets, so 3 models"
   ],
   "outputs": [
    {
     "output_type": "execute_result",
     "data": {
      "text/plain": [
       "[KernelDensity(bandwidth=1),\n",
       " KernelDensity(bandwidth=1),\n",
       " KernelDensity(bandwidth=1),\n",
       " KernelDensity(bandwidth=1),\n",
       " KernelDensity(bandwidth=1),\n",
       " KernelDensity(bandwidth=1),\n",
       " KernelDensity(bandwidth=1)]"
      ]
     },
     "metadata": {},
     "execution_count": 27
    }
   ],
   "metadata": {}
  },
  {
   "cell_type": "markdown",
   "source": [
    "$P(Y)$ = Prior belief about our unique classes "
   ],
   "metadata": {}
  },
  {
   "cell_type": "code",
   "execution_count": 29,
   "source": [
    "sum(np.exp(logpriors)) ## probability of observing each respective class given the inputed training sets"
   ],
   "outputs": [
    {
     "output_type": "execute_result",
     "data": {
      "text/plain": [
       "1.0"
      ]
     },
     "metadata": {},
     "execution_count": 29
    }
   ],
   "metadata": {}
  },
  {
   "cell_type": "code",
   "execution_count": 35,
   "source": [
    "np.exp(logprobs).shape ## log of the probability density function for features using the 7 training sets"
   ],
   "outputs": [
    {
     "output_type": "execute_result",
     "data": {
      "text/plain": [
       "(159, 7)"
      ]
     },
     "metadata": {},
     "execution_count": 35
    }
   ],
   "metadata": {}
  },
  {
   "cell_type": "code",
   "execution_count": 31,
   "source": [
    "classes[np.argmax(results / results.sum(1, keepdims=True))]"
   ],
   "outputs": [
    {
     "output_type": "execute_result",
     "data": {
      "text/plain": [
       "0"
      ]
     },
     "metadata": {},
     "execution_count": 31
    }
   ],
   "metadata": {}
  },
  {
   "cell_type": "code",
   "execution_count": 43,
   "source": [
    "bandwidths = 10 ** np.linspace(0, 2, 100)\n",
    "grid = GridSearchCV(KDEClassifier(), {'bandwidth': bandwidths})\n",
    "grid.fit(X_train, y_train)"
   ],
   "outputs": [
    {
     "output_type": "stream",
     "name": "stderr",
     "text": [
      "/Users/gabestechschulte/opt/anaconda3/lib/python3.7/site-packages/sklearn/model_selection/_split.py:672: UserWarning: The least populated class in y has only 3 members, which is less than n_splits=5.\n",
      "  % (min_groups, self.n_splits)), UserWarning)\n",
      "/Users/gabestechschulte/opt/anaconda3/lib/python3.7/site-packages/ipykernel_launcher.py:40: RuntimeWarning: invalid value encountered in true_divide\n",
      "/Users/gabestechschulte/opt/anaconda3/lib/python3.7/site-packages/ipykernel_launcher.py:40: RuntimeWarning: invalid value encountered in true_divide\n",
      "/Users/gabestechschulte/opt/anaconda3/lib/python3.7/site-packages/ipykernel_launcher.py:40: RuntimeWarning: invalid value encountered in true_divide\n",
      "/Users/gabestechschulte/opt/anaconda3/lib/python3.7/site-packages/ipykernel_launcher.py:40: RuntimeWarning: invalid value encountered in true_divide\n",
      "/Users/gabestechschulte/opt/anaconda3/lib/python3.7/site-packages/ipykernel_launcher.py:40: RuntimeWarning: invalid value encountered in true_divide\n",
      "/Users/gabestechschulte/opt/anaconda3/lib/python3.7/site-packages/ipykernel_launcher.py:40: RuntimeWarning: invalid value encountered in true_divide\n",
      "/Users/gabestechschulte/opt/anaconda3/lib/python3.7/site-packages/ipykernel_launcher.py:40: RuntimeWarning: invalid value encountered in true_divide\n",
      "/Users/gabestechschulte/opt/anaconda3/lib/python3.7/site-packages/ipykernel_launcher.py:40: RuntimeWarning: invalid value encountered in true_divide\n",
      "/Users/gabestechschulte/opt/anaconda3/lib/python3.7/site-packages/ipykernel_launcher.py:40: RuntimeWarning: invalid value encountered in true_divide\n",
      "/Users/gabestechschulte/opt/anaconda3/lib/python3.7/site-packages/ipykernel_launcher.py:40: RuntimeWarning: invalid value encountered in true_divide\n",
      "/Users/gabestechschulte/opt/anaconda3/lib/python3.7/site-packages/ipykernel_launcher.py:40: RuntimeWarning: invalid value encountered in true_divide\n",
      "/Users/gabestechschulte/opt/anaconda3/lib/python3.7/site-packages/ipykernel_launcher.py:40: RuntimeWarning: invalid value encountered in true_divide\n",
      "/Users/gabestechschulte/opt/anaconda3/lib/python3.7/site-packages/ipykernel_launcher.py:40: RuntimeWarning: invalid value encountered in true_divide\n",
      "/Users/gabestechschulte/opt/anaconda3/lib/python3.7/site-packages/ipykernel_launcher.py:40: RuntimeWarning: invalid value encountered in true_divide\n",
      "/Users/gabestechschulte/opt/anaconda3/lib/python3.7/site-packages/ipykernel_launcher.py:40: RuntimeWarning: invalid value encountered in true_divide\n",
      "/Users/gabestechschulte/opt/anaconda3/lib/python3.7/site-packages/ipykernel_launcher.py:40: RuntimeWarning: invalid value encountered in true_divide\n",
      "/Users/gabestechschulte/opt/anaconda3/lib/python3.7/site-packages/ipykernel_launcher.py:40: RuntimeWarning: invalid value encountered in true_divide\n",
      "/Users/gabestechschulte/opt/anaconda3/lib/python3.7/site-packages/ipykernel_launcher.py:40: RuntimeWarning: invalid value encountered in true_divide\n",
      "/Users/gabestechschulte/opt/anaconda3/lib/python3.7/site-packages/ipykernel_launcher.py:40: RuntimeWarning: invalid value encountered in true_divide\n",
      "/Users/gabestechschulte/opt/anaconda3/lib/python3.7/site-packages/ipykernel_launcher.py:40: RuntimeWarning: invalid value encountered in true_divide\n",
      "/Users/gabestechschulte/opt/anaconda3/lib/python3.7/site-packages/ipykernel_launcher.py:40: RuntimeWarning: invalid value encountered in true_divide\n",
      "/Users/gabestechschulte/opt/anaconda3/lib/python3.7/site-packages/ipykernel_launcher.py:40: RuntimeWarning: invalid value encountered in true_divide\n",
      "/Users/gabestechschulte/opt/anaconda3/lib/python3.7/site-packages/ipykernel_launcher.py:40: RuntimeWarning: invalid value encountered in true_divide\n",
      "/Users/gabestechschulte/opt/anaconda3/lib/python3.7/site-packages/ipykernel_launcher.py:40: RuntimeWarning: invalid value encountered in true_divide\n",
      "/Users/gabestechschulte/opt/anaconda3/lib/python3.7/site-packages/ipykernel_launcher.py:40: RuntimeWarning: invalid value encountered in true_divide\n",
      "/Users/gabestechschulte/opt/anaconda3/lib/python3.7/site-packages/ipykernel_launcher.py:40: RuntimeWarning: invalid value encountered in true_divide\n",
      "/Users/gabestechschulte/opt/anaconda3/lib/python3.7/site-packages/ipykernel_launcher.py:40: RuntimeWarning: invalid value encountered in true_divide\n",
      "/Users/gabestechschulte/opt/anaconda3/lib/python3.7/site-packages/ipykernel_launcher.py:40: RuntimeWarning: invalid value encountered in true_divide\n"
     ]
    },
    {
     "output_type": "execute_result",
     "data": {
      "text/plain": [
       "GridSearchCV(estimator=KDEClassifier(),\n",
       "             param_grid={'bandwidth': array([  1.        ,   1.04761575,   1.09749877,   1.149757  ,\n",
       "         1.20450354,   1.26185688,   1.32194115,   1.38488637,\n",
       "         1.45082878,   1.51991108,   1.59228279,   1.66810054,\n",
       "         1.7475284 ,   1.83073828,   1.91791026,   2.009233  ,\n",
       "         2.10490414,   2.20513074,   2.3101297 ,   2.42012826,\n",
       "         2.53536449,   2.65608778,   2.7825594 ,   2.91505306,\n",
       "         3.05385551,   3.19926714,   3.3516026...\n",
       "        23.64489413,  24.77076356,  25.95024211,  27.18588243,\n",
       "        28.48035868,  29.8364724 ,  31.2571585 ,  32.74549163,\n",
       "        34.30469286,  35.93813664,  37.64935807,  39.44206059,\n",
       "        41.320124  ,  43.28761281,  45.34878508,  47.50810162,\n",
       "        49.77023564,  52.14008288,  54.62277218,  57.22367659,\n",
       "        59.94842503,  62.80291442,  65.79332247,  68.92612104,\n",
       "        72.20809018,  75.64633276,  79.24828984,  83.02175681,\n",
       "        86.97490026,  91.11627561,  95.45484567, 100.        ])})"
      ]
     },
     "metadata": {},
     "execution_count": 43
    }
   ],
   "metadata": {}
  },
  {
   "cell_type": "code",
   "execution_count": 44,
   "source": [
    "print(grid.best_params_)\n",
    "print(grid.best_score_)"
   ],
   "outputs": [
    {
     "output_type": "stream",
     "name": "stdout",
     "text": [
      "{'bandwidth': 12.328467394420665}\n",
      "0.5142292490118577\n"
     ]
    }
   ],
   "metadata": {}
  },
  {
   "cell_type": "code",
   "execution_count": null,
   "source": [],
   "outputs": [],
   "metadata": {}
  }
 ],
 "metadata": {
  "kernelspec": {
   "name": "python3",
   "display_name": "Python 3.7.4 64-bit ('base': conda)"
  },
  "language_info": {
   "codemirror_mode": {
    "name": "ipython",
    "version": 3
   },
   "file_extension": ".py",
   "mimetype": "text/x-python",
   "name": "python",
   "nbconvert_exporter": "python",
   "pygments_lexer": "ipython3",
   "version": "3.7.4"
  },
  "interpreter": {
   "hash": "6c344d601c3b2b7bc82ec79b9273ba7e1890aa66188b2ee9de85e4fb69c667e8"
  }
 },
 "nbformat": 4,
 "nbformat_minor": 4
}