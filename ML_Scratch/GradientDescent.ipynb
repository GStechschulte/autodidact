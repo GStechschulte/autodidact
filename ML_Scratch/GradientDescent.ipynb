{
 "cells": [
  {
   "cell_type": "code",
   "execution_count": 2,
   "metadata": {},
   "outputs": [],
   "source": [
    "import torch\n",
    "import torch.nn as nn\n",
    "from matplotlib.pyplot import plot, title, axis\n",
    "import matplotlib.pyplot as plt\n",
    "import numpy as np"
   ]
  },
  {
   "cell_type": "markdown",
   "metadata": {},
   "source": [
    "# Anatomy of a Learning Algorithm\n",
    "\n",
    "1.) Loss function\n",
    "\n",
    "2.) An optimization criteria based on the loss function (cost function, etc.) \n",
    "\n",
    "3.) An optimization routine leveraging training data to find a solution to the optimization criterion"
   ]
  },
  {
   "cell_type": "markdown",
   "metadata": {},
   "source": [
    "## Gradient Descent\n",
    "\n",
    "The optimization algorithm to be used to minimize some loss function\n",
    "\n",
    "Our function: $f(x)$ = $w^Tx + b$\n",
    "   - Remember, $w^Tx$ is the dot product\n",
    "\n",
    "Loss function: \n",
    "\n",
    "**Goal**: Find the parameters $w, b$ of the function that minimize the loss function with gradient descent"
   ]
  },
  {
   "cell_type": "code",
   "execution_count": null,
   "metadata": {},
   "outputs": [],
   "source": []
  }
 ],
 "metadata": {
  "kernelspec": {
   "display_name": "Python 3",
   "language": "python",
   "name": "python3"
  },
  "language_info": {
   "codemirror_mode": {
    "name": "ipython",
    "version": 3
   },
   "file_extension": ".py",
   "mimetype": "text/x-python",
   "name": "python",
   "nbconvert_exporter": "python",
   "pygments_lexer": "ipython3",
   "version": "3.7.4"
  }
 },
 "nbformat": 4,
 "nbformat_minor": 4
}
