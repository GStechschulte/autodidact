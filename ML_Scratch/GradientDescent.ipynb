{
 "cells": [
  {
   "cell_type": "code",
   "execution_count": 6,
   "metadata": {},
   "outputs": [],
   "source": [
    "import torch\n",
    "import torch.nn as nn\n",
    "from matplotlib.pyplot import plot, title, axis\n",
    "import matplotlib.pyplot as plt\n",
    "import numpy as np\n",
    "import seaborn as sns\n",
    "import pandas as pd"
   ]
  },
  {
   "cell_type": "markdown",
   "metadata": {},
   "source": [
    "# Anatomy of a Learning Algorithm\n",
    "\n",
    "1.) Loss function\n",
    "\n",
    "2.) An optimization criteria based on the loss function (cost function, etc.) \n",
    "\n",
    "3.) An optimization routine leveraging training data to find a solution to the optimization criterion"
   ]
  },
  {
   "cell_type": "markdown",
   "metadata": {},
   "source": [
    "## Gradient Descent\n",
    "\n",
    "The optimization algorithm to be used to minimize some loss function\n",
    "\n",
    "Our function: $f(x)$ = $w^Tx + b$\n",
    "   - Remember, $w^Tx$ is the dot product\n",
    "\n",
    "Loss function: $l = \\frac{1}{N}\\sum_{i=1}^N(y_i - (wx_i +b)^2$\n",
    " - Stick in our data point $x_i$ into our function to get the predicted value, and we square the difference between our predicted value and the actual value $y_i$. Summing over all errors and dividing by the amount of observations there are. \n",
    "\n",
    "**Goal**: Find the parameters $w, b$ of the function that minimize the loss function with gradient descent"
   ]
  },
  {
   "cell_type": "code",
   "execution_count": 5,
   "metadata": {},
   "outputs": [
    {
     "data": {
      "text/html": [
       "<div>\n",
       "<style scoped>\n",
       "    .dataframe tbody tr th:only-of-type {\n",
       "        vertical-align: middle;\n",
       "    }\n",
       "\n",
       "    .dataframe tbody tr th {\n",
       "        vertical-align: top;\n",
       "    }\n",
       "\n",
       "    .dataframe thead th {\n",
       "        text-align: right;\n",
       "    }\n",
       "</style>\n",
       "<table border=\"1\" class=\"dataframe\">\n",
       "  <thead>\n",
       "    <tr style=\"text-align: right;\">\n",
       "      <th></th>\n",
       "      <th>Species</th>\n",
       "      <th>Weight</th>\n",
       "      <th>Length1</th>\n",
       "      <th>Length2</th>\n",
       "      <th>Length3</th>\n",
       "      <th>Height</th>\n",
       "      <th>Width</th>\n",
       "    </tr>\n",
       "  </thead>\n",
       "  <tbody>\n",
       "    <tr>\n",
       "      <th>0</th>\n",
       "      <td>Bream</td>\n",
       "      <td>242.0</td>\n",
       "      <td>23.2</td>\n",
       "      <td>25.4</td>\n",
       "      <td>30.0</td>\n",
       "      <td>11.5200</td>\n",
       "      <td>4.0200</td>\n",
       "    </tr>\n",
       "    <tr>\n",
       "      <th>1</th>\n",
       "      <td>Bream</td>\n",
       "      <td>290.0</td>\n",
       "      <td>24.0</td>\n",
       "      <td>26.3</td>\n",
       "      <td>31.2</td>\n",
       "      <td>12.4800</td>\n",
       "      <td>4.3056</td>\n",
       "    </tr>\n",
       "    <tr>\n",
       "      <th>2</th>\n",
       "      <td>Bream</td>\n",
       "      <td>340.0</td>\n",
       "      <td>23.9</td>\n",
       "      <td>26.5</td>\n",
       "      <td>31.1</td>\n",
       "      <td>12.3778</td>\n",
       "      <td>4.6961</td>\n",
       "    </tr>\n",
       "    <tr>\n",
       "      <th>3</th>\n",
       "      <td>Bream</td>\n",
       "      <td>363.0</td>\n",
       "      <td>26.3</td>\n",
       "      <td>29.0</td>\n",
       "      <td>33.5</td>\n",
       "      <td>12.7300</td>\n",
       "      <td>4.4555</td>\n",
       "    </tr>\n",
       "    <tr>\n",
       "      <th>4</th>\n",
       "      <td>Bream</td>\n",
       "      <td>430.0</td>\n",
       "      <td>26.5</td>\n",
       "      <td>29.0</td>\n",
       "      <td>34.0</td>\n",
       "      <td>12.4440</td>\n",
       "      <td>5.1340</td>\n",
       "    </tr>\n",
       "  </tbody>\n",
       "</table>\n",
       "</div>"
      ],
      "text/plain": [
       "  Species  Weight  Length1  Length2  Length3   Height   Width\n",
       "0   Bream   242.0     23.2     25.4     30.0  11.5200  4.0200\n",
       "1   Bream   290.0     24.0     26.3     31.2  12.4800  4.3056\n",
       "2   Bream   340.0     23.9     26.5     31.1  12.3778  4.6961\n",
       "3   Bream   363.0     26.3     29.0     33.5  12.7300  4.4555\n",
       "4   Bream   430.0     26.5     29.0     34.0  12.4440  5.1340"
      ]
     },
     "execution_count": 5,
     "metadata": {},
     "output_type": "execute_result"
    }
   ],
   "source": [
    "fish = pd.read_csv('/Users/gabestechschulte/Downloads/Fish.csv')\n",
    "fish.head()"
   ]
  },
  {
   "cell_type": "code",
   "execution_count": null,
   "metadata": {},
   "outputs": [],
   "source": [
    "sns.scatterplot(fish.Width, fish.Weight)"
   ]
  },
  {
   "cell_type": "code",
   "execution_count": 40,
   "metadata": {},
   "outputs": [
    {
     "name": "stderr",
     "output_type": "stream",
     "text": [
      "/Users/gabestechschulte/opt/anaconda3/lib/python3.7/site-packages/seaborn/_decorators.py:43: FutureWarning: Pass the following variables as keyword args: x, y. From version 0.12, the only valid positional argument will be `data`, and passing other arguments without an explicit keyword will result in an error or misinterpretation.\n",
      "  FutureWarning\n"
     ]
    },
    {
     "data": {
      "text/plain": [
       "<AxesSubplot:>"
      ]
     },
     "execution_count": 40,
     "metadata": {},
     "output_type": "execute_result"
    },
    {
     "data": {
      "image/png": "[encoded data removed]",
      "text/plain": [
       "<Figure size 432x288 with 1 Axes>"
      ]
     },
     "metadata": {
      "needs_background": "light"
     },
     "output_type": "display_data"
    }
   ],
   "source": [
    "# X\n",
    "width = torch.from_numpy(np.array(fish.Width))\n",
    "# y\n",
    "weight = torch.from_numpy(np.array(fish.Weight))\n",
    "\n",
    "# Same visual as above\n",
    "sns.scatterplot(width, weight)"
   ]
  },
  {
   "cell_type": "code",
   "execution_count": 25,
   "metadata": {},
   "outputs": [],
   "source": [
    "def loss(X, y, w, b):\n",
    "    N = len(X)\n",
    "    error = 0.0\n",
    "    for i in range(N):\n",
    "        error += (y[i] - (w*X[i] + b))**2\n",
    "    return error / float(N)"
   ]
  },
  {
   "cell_type": "code",
   "execution_count": 23,
   "metadata": {},
   "outputs": [],
   "source": [
    "def update_w_b(X, y, w, b, lr):\n",
    "    dl_dw = 0.0\n",
    "    dl_db = 0.0\n",
    "    \n",
    "    N = len(X)\n",
    "    \n",
    "    for i in range(N):\n",
    "        # Taking the derivative of our loss function with respect to \"w\"\n",
    "        dl_dw += -2 * X[i] * (y[i] - (w * X[i] + b))\n",
    "        # Taking the derivative of our loss function with respect to \"b\"\n",
    "        dl_db += -2 * (y[i] - (w * X[i] + b))\n",
    "        \n",
    "    # We now have a value for each of our derivatives, so we need to update our\n",
    "    # parameters with this value\n",
    "    w = w - (1 / float(N)) * dl_dw * lr\n",
    "    b = b - (1 / float(N)) * dl_db * lr\n",
    "    \n",
    "    return w, b"
   ]
  },
  {
   "cell_type": "code",
   "execution_count": 24,
   "metadata": {},
   "outputs": [
    {
     "data": {
      "text/plain": [
       "(tensor(45.8245, dtype=torch.float64), tensor(7.9665, dtype=torch.float64))"
      ]
     },
     "execution_count": 24,
     "metadata": {},
     "output_type": "execute_result"
    }
   ],
   "source": [
    "update_w_b(width, weight, 0, 0, 0.01)"
   ]
  },
  {
   "cell_type": "code",
   "execution_count": 27,
   "metadata": {},
   "outputs": [],
   "source": [
    "def training(X, y, w, b, lr, epochs):\n",
    "    for e in range(epochs):\n",
    "        w, b = update_w_b(X, y, w, b, 0.01)\n",
    "        \n",
    "        if e % 100 == 0:\n",
    "            print('Epoch: ', e, 'Loss: ', loss(X, y, w, b))\n",
    "    \n",
    "    return w, b"
   ]
  },
  {
   "cell_type": "code",
   "execution_count": 34,
   "metadata": {},
   "outputs": [
    {
     "name": "stdout",
     "output_type": "stream",
     "text": [
      "Epoch:  0 Loss:  tensor(119867.6946, dtype=torch.float64)\n",
      "Epoch:  100 Loss:  tensor(43114.5409, dtype=torch.float64)\n",
      "Epoch:  200 Loss:  tensor(37002.4658, dtype=torch.float64)\n",
      "Epoch:  300 Loss:  tensor(33247.3670, dtype=torch.float64)\n",
      "Epoch:  400 Loss:  tensor(30940.3326, dtype=torch.float64)\n",
      "Epoch:  500 Loss:  tensor(29522.9511, dtype=torch.float64)\n",
      "Epoch:  600 Loss:  tensor(28652.1490, dtype=torch.float64)\n",
      "Epoch:  700 Loss:  tensor(28117.1511, dtype=torch.float64)\n",
      "Epoch:  800 Loss:  tensor(27788.4623, dtype=torch.float64)\n",
      "Epoch:  900 Loss:  tensor(27586.5245, dtype=torch.float64)\n",
      "Epoch:  1000 Loss:  tensor(27462.4593, dtype=torch.float64)\n",
      "Epoch:  1100 Loss:  tensor(27386.2368, dtype=torch.float64)\n",
      "Epoch:  1200 Loss:  tensor(27339.4077, dtype=torch.float64)\n",
      "Epoch:  1300 Loss:  tensor(27310.6372, dtype=torch.float64)\n",
      "Epoch:  1400 Loss:  tensor(27292.9613, dtype=torch.float64)\n",
      "Epoch:  1500 Loss:  tensor(27282.1017, dtype=torch.float64)\n",
      "Epoch:  1600 Loss:  tensor(27275.4299, dtype=torch.float64)\n",
      "Epoch:  1700 Loss:  tensor(27271.3308, dtype=torch.float64)\n",
      "Epoch:  1800 Loss:  tensor(27268.8125, dtype=torch.float64)\n",
      "Epoch:  1900 Loss:  tensor(27267.2653, dtype=torch.float64)\n"
     ]
    }
   ],
   "source": [
    "w, b, = training(width, weight, 0.0, 0.0, 0.01, epochs=2000)"
   ]
  },
  {
   "cell_type": "code",
   "execution_count": 35,
   "metadata": {},
   "outputs": [
    {
     "data": {
      "text/plain": [
       "(tensor(187.5588, dtype=torch.float64), tensor(-429.7897, dtype=torch.float64))"
      ]
     },
     "execution_count": 35,
     "metadata": {},
     "output_type": "execute_result"
    }
   ],
   "source": [
    "w, b"
   ]
  },
  {
   "cell_type": "code",
   "execution_count": 46,
   "metadata": {},
   "outputs": [
    {
     "name": "stderr",
     "output_type": "stream",
     "text": [
      "/Users/gabestechschulte/opt/anaconda3/lib/python3.7/site-packages/seaborn/_decorators.py:43: FutureWarning: Pass the following variables as keyword args: x, y. From version 0.12, the only valid positional argument will be `data`, and passing other arguments without an explicit keyword will result in an error or misinterpretation.\n",
      "  FutureWarning\n",
      "/Users/gabestechschulte/opt/anaconda3/lib/python3.7/site-packages/seaborn/_decorators.py:43: FutureWarning: Pass the following variables as keyword args: x, y. From version 0.12, the only valid positional argument will be `data`, and passing other arguments without an explicit keyword will result in an error or misinterpretation.\n",
      "  FutureWarning\n"
     ]
    },
    {
     "data": {
      "text/plain": [
       "<AxesSubplot:>"
      ]
     },
     "execution_count": 46,
     "metadata": {},
     "output_type": "execute_result"
    },
    {
     "data": {
      "image/png": "[encoded data removed]",
      "text/plain": [
       "<Figure size 432x288 with 1 Axes>"
      ]
     },
     "metadata": {
      "needs_background": "light"
     },
     "output_type": "display_data"
    }
   ],
   "source": [
    "sns.scatterplot(width, weight)\n",
    "sns.lineplot(width, b + w*width, color='red')"
   ]
  },
  {
   "cell_type": "code",
   "execution_count": null,
   "metadata": {},
   "outputs": [],
   "source": []
  }
 ],
 "metadata": {
  "kernelspec": {
   "display_name": "Python 3",
   "language": "python",
   "name": "python3"
  },
  "language_info": {
   "codemirror_mode": {
    "name": "ipython",
    "version": 3
   },
   "file_extension": ".py",
   "mimetype": "text/x-python",
   "name": "python",
   "nbconvert_exporter": "python",
   "pygments_lexer": "ipython3",
   "version": "3.7.4"
  }
 },
 "nbformat": 4,
 "nbformat_minor": 4
}
