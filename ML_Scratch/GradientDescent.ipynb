{
 "cells": [
  {
   "cell_type": "code",
   "execution_count": 1,
   "metadata": {},
   "outputs": [],
   "source": [
    "import torch\n",
    "import torch.nn as nn\n",
    "from matplotlib.pyplot import plot, title, axis\n",
    "import matplotlib.pyplot as plt\n",
    "import numpy as np\n",
    "import seaborn as sns\n",
    "import pandas as pd\n",
    "from sklearn.model_selection import train_test_split\n",
    "from sklearn.datasets import load_diabetes"
   ]
  },
  {
   "cell_type": "markdown",
   "metadata": {},
   "source": [
    "# Anatomy of a Learning Algorithm\n",
    "\n",
    "1.) Loss function\n",
    "\n",
    "2.) An optimization criteria based on the loss function (cost function, etc.) \n",
    "\n",
    "3.) An optimization routine leveraging training data to find a solution to the optimization criterion"
   ]
  },
  {
   "cell_type": "markdown",
   "metadata": {},
   "source": [
    "## Gradient Descent\n",
    "\n",
    "The optimization algorithm to be used to minimize some loss function\n",
    "\n",
    "Our function: $f(x)$ = $w^Tx + b$\n",
    "   - Remember, $w^Tx$ is the dot product\n",
    "\n",
    "Loss function: $l = \\frac{1}{N}\\sum_{i=1}^N(y_i - (wx_i +b)^2$\n",
    " - Stick in our data point $x_i$ into our function to get the predicted value, and we square the difference between our predicted value and the actual value $y_i$. Summing over all errors and dividing by the amount of observations there are. \n",
    "\n",
    "**Goal**: Find the parameters $w, b$ of the function that minimize the loss function with gradient descent"
   ]
  },
  {
   "cell_type": "code",
   "execution_count": 35,
   "metadata": {},
   "outputs": [
    {
     "name": "stdout",
     "output_type": "stream",
     "text": [
      "(442, 10)\n"
     ]
    },
    {
     "data": {
      "text/plain": [
       "array([ 0.03807591,  0.05068012,  0.06169621,  0.02187235, -0.0442235 ,\n",
       "       -0.03482076, -0.04340085, -0.00259226,  0.01990842, -0.01764613])"
      ]
     },
     "execution_count": 35,
     "metadata": {},
     "output_type": "execute_result"
    }
   ],
   "source": [
    "data = load_diabetes()\n",
    "\n",
    "X = data.data\n",
    "print(X1.shape)\n",
    "X[0]"
   ]
  },
  {
   "cell_type": "code",
   "execution_count": 36,
   "metadata": {},
   "outputs": [
    {
     "name": "stdout",
     "output_type": "stream",
     "text": [
      "(442,)\n"
     ]
    },
    {
     "data": {
      "text/plain": [
       "151.0"
      ]
     },
     "execution_count": 36,
     "metadata": {},
     "output_type": "execute_result"
    }
   ],
   "source": [
    "y = data.target\n",
    "print(y.shape)\n",
    "y[0]"
   ]
  },
  {
   "cell_type": "code",
   "execution_count": 64,
   "metadata": {},
   "outputs": [
    {
     "name": "stderr",
     "output_type": "stream",
     "text": [
      "/Users/gabestechschulte/opt/anaconda3/lib/python3.7/site-packages/seaborn/_decorators.py:43: FutureWarning: Pass the following variables as keyword args: x, y. From version 0.12, the only valid positional argument will be `data`, and passing other arguments without an explicit keyword will result in an error or misinterpretation.\n",
      "  FutureWarning\n"
     ]
    },
    {
     "data": {
      "text/plain": [
       "<AxesSubplot:>"
      ]
     },
     "execution_count": 64,
     "metadata": {},
     "output_type": "execute_result"
    },
    {
     "data": {
      "image/png": "[encoded data removed]",
      "text/plain": [
       "<Figure size 432x288 with 1 Axes>"
      ]
     },
     "metadata": {
      "needs_background": "light"
     },
     "output_type": "display_data"
    }
   ],
   "source": [
    "sns.scatterplot(X[:, 8], y)"
   ]
  },
  {
   "cell_type": "code",
   "execution_count": 37,
   "metadata": {},
   "outputs": [],
   "source": [
    "#test_size = 0.3\n",
    "#test_index = int(len(data) * (1 - test_size))\n",
    "#X_train = data.iloc[: test_index]\n",
    "#X_test = data.iloc[test_index:,]\n",
    "\n",
    "#y_train = data.iloc[: test_index ]\n",
    "#y_test = data.iloc[test_index:,  ]"
   ]
  },
  {
   "cell_type": "markdown",
   "metadata": {},
   "source": [
    "### Multiple Linear Regression"
   ]
  },
  {
   "cell_type": "code",
   "execution_count": 38,
   "metadata": {},
   "outputs": [
    {
     "name": "stdout",
     "output_type": "stream",
     "text": [
      "(442, 10)\n"
     ]
    },
    {
     "data": {
      "text/plain": [
       "array([ 0.00538306, -0.04464164, -0.03638469,  0.02187235,  0.00393485,\n",
       "        0.01559614,  0.00814208, -0.00259226, -0.03199144, -0.04664087])"
      ]
     },
     "execution_count": 38,
     "metadata": {},
     "output_type": "execute_result"
    }
   ],
   "source": [
    "print(X.shape)\n",
    "X[4]"
   ]
  },
  {
   "cell_type": "code",
   "execution_count": 39,
   "metadata": {},
   "outputs": [
    {
     "name": "stdout",
     "output_type": "stream",
     "text": [
      "(442,)\n"
     ]
    },
    {
     "data": {
      "text/plain": [
       "135.0"
      ]
     },
     "execution_count": 39,
     "metadata": {},
     "output_type": "execute_result"
    }
   ],
   "source": [
    "print(y.shape)\n",
    "y[4]"
   ]
  },
  {
   "cell_type": "code",
   "execution_count": 11,
   "metadata": {},
   "outputs": [],
   "source": [
    "def loss_func(y, y_hat):\n",
    "    N = len(y)\n",
    "    error = 0.0\n",
    "    for i in range(N):\n",
    "        error += (y[i] - y_hat[i]) ** 2\n",
    "    return error / N"
   ]
  },
  {
   "cell_type": "code",
   "execution_count": 22,
   "metadata": {},
   "outputs": [],
   "source": [
    "def train(X, y, epochs, lr):\n",
    "    w = np.zeros(X.shape[1])\n",
    "    b = 0\n",
    "    losslist = []\n",
    "    \n",
    "    # Gradient Descent\n",
    "    for grad in range(epochs):\n",
    "        # Predictions\n",
    "        y_hat = np.dot(X, w) + b\n",
    "        # Loss\n",
    "        loss = loss_func(y, y_hat)\n",
    "        losslist.append(loss)\n",
    "        \n",
    "        # Derivatives\n",
    "        dl_dw = (1 / X.shape[0]) * (2 * np.dot(X.T, (y_hat - y)))\n",
    "        dl_db = (1 / X.shape[0]) * (2 * np.sum(y_hat - y))\n",
    "        \n",
    "        # Updating parameters\n",
    "        w -= lr * dl_dw\n",
    "        b -= lr * dl_db\n",
    "        \n",
    "        #print('Epoch: ', grad, ' w: ', w, ' b:', b)\n",
    "    \n",
    "    return w, b, losslist"
   ]
  },
  {
   "cell_type": "code",
   "execution_count": 43,
   "metadata": {},
   "outputs": [],
   "source": [
    "def predict(X, w, b):\n",
    "    return np.dot(X, w) + b"
   ]
  },
  {
   "cell_type": "code",
   "execution_count": 40,
   "metadata": {},
   "outputs": [],
   "source": [
    "w, b, loss = train(X, y, 1000, 10**-2)"
   ]
  },
  {
   "cell_type": "code",
   "execution_count": null,
   "metadata": {},
   "outputs": [],
   "source": [
    "epochs = [grad for grad in range(1, 1001)]\n",
    "len(epochs)\n",
    "sns.lineplot(epochs, loss)"
   ]
  },
  {
   "cell_type": "code",
   "execution_count": null,
   "metadata": {},
   "outputs": [],
   "source": [
    "predict(X, w, b)"
   ]
  },
  {
   "cell_type": "markdown",
   "metadata": {},
   "source": [
    "### Simple Linear Regression"
   ]
  },
  {
   "cell_type": "code",
   "execution_count": 70,
   "metadata": {},
   "outputs": [],
   "source": [
    "def update_w_b(X, y, w, b, lr):\n",
    "    dl_dw = 0.0\n",
    "    dl_db = 0.0\n",
    "    \n",
    "    N = len(X)\n",
    "    \n",
    "    for i in range(N):\n",
    "        # Taking the derivative of our loss function with respect to \"w1\"\n",
    "        dl_dw += -2 * X[i] * (y[i] - (w * X[i] + b))\n",
    "        # Taking the derivative of our loss function with respect to \"b\"\n",
    "        dl_db += -2 * (w * X[i] + b)\n",
    "        \n",
    "    # We now have a value for each of our derivatives, so we need to update our\n",
    "    # parameters with this value\n",
    "    w = w - (1 / float(N)) * dl_dw * lr\n",
    "    b = b - (1 / float(N)) * dl_db * lr\n",
    "    \n",
    "    return w, b"
   ]
  },
  {
   "cell_type": "code",
   "execution_count": 71,
   "metadata": {},
   "outputs": [
    {
     "data": {
      "text/plain": [
       "(tensor(3.3863, dtype=torch.float64), tensor(0., dtype=torch.float64))"
      ]
     },
     "execution_count": 71,
     "metadata": {},
     "output_type": "execute_result"
    }
   ],
   "source": [
    "update_w_b(width, weight, 0.0, 0.0, 10**-3)"
   ]
  },
  {
   "cell_type": "code",
   "execution_count": 74,
   "metadata": {},
   "outputs": [],
   "source": [
    "def training(X, y, w, b, lr, epochs):\n",
    "    for e in range(epochs):\n",
    "        w, b = update_w_b(X, y, w, b, lr)\n",
    "        \n",
    "        if e % 100 == 0:\n",
    "            print('Epoch: ', e, 'Loss: ', loss(X, y, w, b))\n",
    "            \n",
    "    return w, b"
   ]
  },
  {
   "cell_type": "code",
   "execution_count": null,
   "metadata": {},
   "outputs": [],
   "source": [
    "w, b, loss = training(width, weight, 0.0, 0.0, 10**-3, epochs=1000)"
   ]
  },
  {
   "cell_type": "code",
   "execution_count": null,
   "metadata": {},
   "outputs": [],
   "source": [
    "sns.scatterplot(width, weight)\n",
    "sns.lineplot(width, b + w*width, color='red')"
   ]
  }
 ],
 "metadata": {
  "kernelspec": {
   "display_name": "Python 3",
   "language": "python",
   "name": "python3"
  },
  "language_info": {
   "codemirror_mode": {
    "name": "ipython",
    "version": 3
   },
   "file_extension": ".py",
   "mimetype": "text/x-python",
   "name": "python",
   "nbconvert_exporter": "python",
   "pygments_lexer": "ipython3",
   "version": "3.7.4"
  }
 },
 "nbformat": 4,
 "nbformat_minor": 4
}
