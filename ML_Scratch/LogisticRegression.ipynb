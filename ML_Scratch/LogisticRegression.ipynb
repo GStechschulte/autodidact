{
 "cells": [
  {
   "cell_type": "code",
   "execution_count": 1,
   "source": [
    "import numpy as np\n",
    "import pandas as pd\n",
    "import seaborn as sns\n",
    "import matplotlib.pyplot as plt\n",
    "from sklearn.linear_model import LogisticRegression"
   ],
   "outputs": [],
   "metadata": {}
  },
  {
   "cell_type": "markdown",
   "source": [
    "### Logistic Regression\n",
    "\n",
    "Is a discriminative model that assigns discrete classes to a set of observations (decision boundary between the classes)\n",
    " - No distribution assumption on the data points as opposed to Naive Bayes\n",
    "\n",
    "As this is a binary classifier, Logistic Regression uses a link function to transform the features and to bound the output between [0, 1]\n",
    " - Sigmoid function: $f(x) = \\frac{1}{1+e^{-wx+b}}$\n",
    "\n",
    "Thus, our logistic model looks like the following: $f_{w,b}(x) = \\frac{1}{1+e^{-wx+b}}$\n",
    "\n",
    "What happens when the denominator $-wx+b$ is largely negative or largely positive?\n",
    " - When the **denominator is largely positive**, then the $P(y = 1 | x)$ is **close to 0**\n",
    " - When the **denominator is largely negative**, or is one, then $P(y = 1 | x)$ is **closer to one**\n",
    "\n",
    "\n",
    "We do not attempt to model the data's distribution $P(X | Y)$, rather we model $P(Y | X)$ directly given the parameters $w, b$. \n",
    "\n",
    "_Goal_: Find $w, b$ that maximize the likelihood (log-likelihood) of producing our data using Gradient Descent\n",
    "\n",
    " - Log-likelihood = $\\sum_{i=1}^Ny_iw^Tx_i-log(1 + e^{w^Tx_i})$"
   ],
   "metadata": {}
  },
  {
   "cell_type": "code",
   "execution_count": 2,
   "source": [
    "fish = pd.read_csv('/Users/gabestechschulte/Downloads/Fish.csv')\n",
    "fish.head()"
   ],
   "outputs": [
    {
     "output_type": "execute_result",
     "data": {
      "text/plain": [
       "  Species  Weight  Length1  Length2  Length3   Height   Width\n",
       "0   Bream   242.0     23.2     25.4     30.0  11.5200  4.0200\n",
       "1   Bream   290.0     24.0     26.3     31.2  12.4800  4.3056\n",
       "2   Bream   340.0     23.9     26.5     31.1  12.3778  4.6961\n",
       "3   Bream   363.0     26.3     29.0     33.5  12.7300  4.4555\n",
       "4   Bream   430.0     26.5     29.0     34.0  12.4440  5.1340"
      ],
      "text/html": [
       "<div>\n",
       "<style scoped>\n",
       "    .dataframe tbody tr th:only-of-type {\n",
       "        vertical-align: middle;\n",
       "    }\n",
       "\n",
       "    .dataframe tbody tr th {\n",
       "        vertical-align: top;\n",
       "    }\n",
       "\n",
       "    .dataframe thead th {\n",
       "        text-align: right;\n",
       "    }\n",
       "</style>\n",
       "<table border=\"1\" class=\"dataframe\">\n",
       "  <thead>\n",
       "    <tr style=\"text-align: right;\">\n",
       "      <th></th>\n",
       "      <th>Species</th>\n",
       "      <th>Weight</th>\n",
       "      <th>Length1</th>\n",
       "      <th>Length2</th>\n",
       "      <th>Length3</th>\n",
       "      <th>Height</th>\n",
       "      <th>Width</th>\n",
       "    </tr>\n",
       "  </thead>\n",
       "  <tbody>\n",
       "    <tr>\n",
       "      <th>0</th>\n",
       "      <td>Bream</td>\n",
       "      <td>242.0</td>\n",
       "      <td>23.2</td>\n",
       "      <td>25.4</td>\n",
       "      <td>30.0</td>\n",
       "      <td>11.5200</td>\n",
       "      <td>4.0200</td>\n",
       "    </tr>\n",
       "    <tr>\n",
       "      <th>1</th>\n",
       "      <td>Bream</td>\n",
       "      <td>290.0</td>\n",
       "      <td>24.0</td>\n",
       "      <td>26.3</td>\n",
       "      <td>31.2</td>\n",
       "      <td>12.4800</td>\n",
       "      <td>4.3056</td>\n",
       "    </tr>\n",
       "    <tr>\n",
       "      <th>2</th>\n",
       "      <td>Bream</td>\n",
       "      <td>340.0</td>\n",
       "      <td>23.9</td>\n",
       "      <td>26.5</td>\n",
       "      <td>31.1</td>\n",
       "      <td>12.3778</td>\n",
       "      <td>4.6961</td>\n",
       "    </tr>\n",
       "    <tr>\n",
       "      <th>3</th>\n",
       "      <td>Bream</td>\n",
       "      <td>363.0</td>\n",
       "      <td>26.3</td>\n",
       "      <td>29.0</td>\n",
       "      <td>33.5</td>\n",
       "      <td>12.7300</td>\n",
       "      <td>4.4555</td>\n",
       "    </tr>\n",
       "    <tr>\n",
       "      <th>4</th>\n",
       "      <td>Bream</td>\n",
       "      <td>430.0</td>\n",
       "      <td>26.5</td>\n",
       "      <td>29.0</td>\n",
       "      <td>34.0</td>\n",
       "      <td>12.4440</td>\n",
       "      <td>5.1340</td>\n",
       "    </tr>\n",
       "  </tbody>\n",
       "</table>\n",
       "</div>"
      ]
     },
     "metadata": {},
     "execution_count": 2
    }
   ],
   "metadata": {}
  },
  {
   "cell_type": "code",
   "execution_count": 3,
   "source": [
    "fish.Species.value_counts()"
   ],
   "outputs": [
    {
     "output_type": "execute_result",
     "data": {
      "text/plain": [
       "Perch        56\n",
       "Bream        35\n",
       "Roach        20\n",
       "Pike         17\n",
       "Smelt        14\n",
       "Parkki       11\n",
       "Whitefish     6\n",
       "Name: Species, dtype: int64"
      ]
     },
     "metadata": {},
     "execution_count": 3
    }
   ],
   "metadata": {}
  },
  {
   "cell_type": "code",
   "execution_count": 4,
   "source": [
    "fish_binary = fish[(fish.Species == 'Bream') | (fish.Species == 'Roach')]"
   ],
   "outputs": [],
   "metadata": {}
  },
  {
   "cell_type": "code",
   "execution_count": 5,
   "source": [
    "X = fish_binary[['Weight','Height']].values\n",
    "X.shape"
   ],
   "outputs": [
    {
     "output_type": "execute_result",
     "data": {
      "text/plain": [
       "(55, 2)"
      ]
     },
     "metadata": {},
     "execution_count": 5
    }
   ],
   "metadata": {}
  },
  {
   "cell_type": "code",
   "execution_count": 18,
   "source": [
    "y = fish_binary.Species.apply(lambda x: 1 if (x == 'Bream') else 0).values"
   ],
   "outputs": [],
   "metadata": {}
  },
  {
   "cell_type": "code",
   "execution_count": 7,
   "source": [
    "plt.figure(figsize=(8, 6))\n",
    "sns.scatterplot(x = fish_binary.Weight, y = fish_binary.Height, hue = fish_binary.Species)\n",
    "plt.show()"
   ],
   "outputs": [
    {
     "output_type": "display_data",
     "data": {
      "text/plain": [
       "<Figure size 576x432 with 1 Axes>"
      ],
      "image/png": "[encoded data removed]"
     },
     "metadata": {
      "needs_background": "light"
     }
    }
   ],
   "metadata": {}
  },
  {
   "cell_type": "code",
   "execution_count": 8,
   "source": [
    "class LogisticRegression():\n",
    "    \n",
    "    def __init__(self, X, y, intercept=False, lr=0.01, iterations=100):\n",
    "        \n",
    "        self.lr = lr\n",
    "        self.iterations = iterations\n",
    "        self.y = y\n",
    "        \n",
    "        if intercept == True:\n",
    "            self.intercept = np.ones((X.shape[0], 1))\n",
    "            self.X = np.hstack((self.intercept, X))\n",
    "        else:\n",
    "            self.X = X\n",
    "        \n",
    "    def sigmoid(self, scores):\n",
    "        return 1 / (1 + np.exp(-scores))\n",
    "    \n",
    "    def cost_func(self, X, y, weights):\n",
    "        # Feature times its weight parameter\n",
    "        scores = np.dot(X, weights)\n",
    "        # \"Push\" the scores through the denominator of our sigmoid function and compute the probability of observing\n",
    "        # 1 = Bream or 0 = Roach\n",
    "        predict_1 = y * np.log(self.sigmoid(scores))\n",
    "        predict_0 = (1 - y) * np.log(1 - self.sigmoid(scores))\n",
    "        # -sum is an iterable that puts a negative sign in front of the summed values\n",
    "        return -sum(predict_1 + predict_0) / len(X)\n",
    "    \n",
    "    def log_likelihood(self, X, y, w):\n",
    "        scores = np.dot(X, w)\n",
    "        ll = np.sum(y * scores - np.log(1 + np.exp(scores)))\n",
    "        return ll\n",
    "    \n",
    "    def training(self):\n",
    "        # Initialize weights; X.shape[1] grabs 2 element of shape list to determine how many features are used in the model\n",
    "        weights = np.zeros(self.X.shape[1])\n",
    "        loss = {}\n",
    "        log_likeli = {}\n",
    "        N = len(self.X)\n",
    "        \n",
    "        for train in range(self.iterations):  \n",
    "            ## Gradient Descent ##\n",
    "            \n",
    "            # Predictions = Push scores through the sigmoid function\n",
    "            y_hat = self.sigmoid(np.dot(self.X, weights))\n",
    "            # Gradient Descent to update weights based on our error (minimize error) and update the weights\n",
    "            weights -= self.lr * np.dot(X.T,  y_hat - y) / N            \n",
    "            # Saving Progress\n",
    "            loss.update({train: self.cost_func(X, y, weights)}) \n",
    "            log_likeli.update({train: self.log_likelihood(self.X, self.y, weights)})\n",
    "            \n",
    "        self.weights = weights\n",
    "        self.loss = loss\n",
    "        \n",
    "        return self.weights, self.loss, log_likeli\n",
    "    \n",
    "    def predict(self, X):\n",
    "        # Computing \"score\" - dot product between features and final weight parameter\n",
    "        score = np.dot(X, self.weights)\n",
    "        # Discretize the returned probabilities \n",
    "        return [1 if i > 0.5 else 0 for i in self.sigmoid(score)]"
   ],
   "outputs": [],
   "metadata": {}
  },
  {
   "cell_type": "code",
   "execution_count": 9,
   "source": [
    "# Too large or small of a step size does not lead to convergence\n",
    "lr = LogisticRegression(X=X, y=y, intercept=False, lr=1e-4, iterations=7000)\n",
    "weights, loss, log_likeli = lr.training()\n",
    "preds = lr.predict(X)"
   ],
   "outputs": [],
   "metadata": {}
  },
  {
   "cell_type": "code",
   "execution_count": 10,
   "source": [
    "weights"
   ],
   "outputs": [
    {
     "output_type": "execute_result",
     "data": {
      "text/plain": [
       "array([ 0.01047341, -0.23802817])"
      ]
     },
     "metadata": {},
     "execution_count": 10
    }
   ],
   "metadata": {}
  },
  {
   "cell_type": "code",
   "execution_count": 20,
   "source": [
    "# sorted by key, return a list of tuples and unpack the list of pairs into two tuples\n",
    "xax, yax = zip(*sorted(loss.items()))\n",
    "plt.figure(figsize=(8, 6))\n",
    "sns.lineplot(x = xax, y = yax)\n",
    "plt.title('Logistic Regression')\n",
    "plt.xlabel('Epoch')\n",
    "plt.ylabel('Loss')\n",
    "plt.show()"
   ],
   "outputs": [
    {
     "output_type": "display_data",
     "data": {
      "text/plain": [
       "<Figure size 576x432 with 1 Axes>"
      ],
      "image/png": "[encoded data removed]"
     },
     "metadata": {
      "needs_background": "light"
     }
    }
   ],
   "metadata": {}
  },
  {
   "cell_type": "code",
   "execution_count": 21,
   "source": [
    "x2, y2 = zip(*sorted(log_likeli.items()))\n",
    "plt.figure(figsize=(8, 6))\n",
    "sns.lineplot(x = x2, y = y2)\n",
    "plt.title('Log-Likelihood')"
   ],
   "outputs": [
    {
     "output_type": "execute_result",
     "data": {
      "text/plain": [
       "Text(0.5, 1.0, 'Log-Likelihood')"
      ]
     },
     "metadata": {},
     "execution_count": 21
    },
    {
     "output_type": "display_data",
     "data": {
      "text/plain": [
       "<Figure size 576x432 with 1 Axes>"
      ],
      "image/png": "[encoded data removed]"
     },
     "metadata": {
      "needs_background": "light"
     }
    }
   ],
   "metadata": {}
  },
  {
   "cell_type": "code",
   "execution_count": 27,
   "source": [
    "print('Accuracy of model: {}'.format((preds == y).sum() / len(preds)))"
   ],
   "outputs": [
    {
     "output_type": "stream",
     "name": "stdout",
     "text": [
      "Accuracy of model: 0.8181818181818182\n"
     ]
    }
   ],
   "metadata": {}
  },
  {
   "cell_type": "markdown",
   "source": [
    "### Scikit Learn Comparison"
   ],
   "metadata": {}
  },
  {
   "cell_type": "code",
   "execution_count": null,
   "source": [
    "#sk_lr.coef_, sk_lr.score(X, y)"
   ],
   "outputs": [],
   "metadata": {}
  }
 ],
 "metadata": {
  "kernelspec": {
   "display_name": "Python 3",
   "language": "python",
   "name": "python3"
  },
  "language_info": {
   "codemirror_mode": {
    "name": "ipython",
    "version": 3
   },
   "file_extension": ".py",
   "mimetype": "text/x-python",
   "name": "python",
   "nbconvert_exporter": "python",
   "pygments_lexer": "ipython3",
   "version": "3.7.4"
  }
 },
 "nbformat": 4,
 "nbformat_minor": 4
}