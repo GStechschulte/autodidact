{
 "cells": [
  {
   "cell_type": "code",
   "execution_count": 11,
   "metadata": {},
   "outputs": [],
   "source": [
    "import numpy as np\n",
    "import seaborn as sns\n",
    "import matplotlib.pyplot as plt\n",
    "import random\n",
    "from scipy.stats import entropy, norm, gamma, binom, uniform\n",
    "from scipy.special import rel_entr ## relative entropy aka Kullback-Leibler Divergence"
   ]
  },
  {
   "cell_type": "markdown",
   "metadata": {},
   "source": [
    "## Kullback-Leibler Divergence\n",
    "\n",
    "**What it is?**: A way to measure the dissimilarity of two probability distributions $p$ and $q$\n",
    " - The average number of _extra_ bits needed to encode the data, due to the fact that we used distribution $q$ to encode the data instead of the true distribution $p$\n",
    " - The \"extra number of bits\" interpretation should make it clear that $KL(p||q) \\ge 0$ and that the $KL = 0$ only if $q = p$\n",
    "\n",
    "$KL(p||q) = \\sum_{k=1}^Kp_k log \\frac{p_k}{q_k}$\n",
    " - _Note_: Summation is used for discrete variables. For continuous variables, replace this with the integral\n",
    "\n",
    "A quantity that is closely related to the KL divergence is the **cross-entropy**:\n",
    "\n",
    "$H(p, q) = -\\sum_kp_k log q_k$\n",
    " - Where cross entropy is the average number of bits needed to encode data coming from a source with distribution $p$ when we **used** model $q$ to define our codebook\n",
    " - $H(p)$ is the expected number of bits if we use the true model\n",
    "\n",
    "Typically, we want to **minimize entropy** for a probability distribution:\n",
    "\n",
    "$H = -\\sum_{i=1}^Np(x_i)*logp(x_i)$\n",
    "\n",
    "Using $log_2$ we can interpret entropy as the \"minimum number of bits it would take us to encode our information\""
   ]
  },
  {
   "cell_type": "markdown",
   "metadata": {},
   "source": [
    "### Continuous Variable\n",
    "\n",
    "_Note_: Not normalized "
   ]
  },
  {
   "cell_type": "code",
   "execution_count": 3,
   "metadata": {},
   "outputs": [],
   "source": [
    "x = np.arange(0, 10, 0.01)\n",
    "# True distribution\n",
    "p = gamma.pdf(x, 2, 0)\n",
    "# Assumed distribution\n",
    "q = norm.pdf(x, 0, 2)"
   ]
  },
  {
   "cell_type": "code",
   "execution_count": 4,
   "metadata": {},
   "outputs": [
    {
     "data": {
      "image/png": "[encoded data removed]",
      "text/plain": [
       "<Figure size 432x288 with 1 Axes>"
      ]
     },
     "metadata": {
      "needs_background": "light"
     },
     "output_type": "display_data"
    }
   ],
   "source": [
    "sns.lineplot(x=x, y=p)\n",
    "sns.lineplot(x=x, y=q)\n",
    "plt.show()"
   ]
  },
  {
   "cell_type": "markdown",
   "metadata": {},
   "source": [
    "### Discrete Variable"
   ]
  },
  {
   "cell_type": "code",
   "execution_count": 5,
   "metadata": {},
   "outputs": [
    {
     "data": {
      "text/plain": [
       "<AxesSubplot:ylabel='Probability'>"
      ]
     },
     "execution_count": 5,
     "metadata": {},
     "output_type": "execute_result"
    },
    {
     "data": {
      "image/png": "[encoded data removed]",
      "text/plain": [
       "<Figure size 432x288 with 1 Axes>"
      ]
     },
     "metadata": {
      "needs_background": "light"
     },
     "output_type": "display_data"
    }
   ],
   "source": [
    "random.seed(42)\n",
    "disc_p = np.random.binomial(n=10, p=0.70, size=1000)\n",
    "sns.histplot(disc_p, stat='probability')"
   ]
  },
  {
   "cell_type": "code",
   "execution_count": 6,
   "metadata": {},
   "outputs": [
    {
     "data": {
      "text/plain": [
       "<AxesSubplot:ylabel='Probability'>"
      ]
     },
     "execution_count": 6,
     "metadata": {},
     "output_type": "execute_result"
    },
    {
     "data": {
      "image/png": "[encoded data removed]",
      "text/plain": [
       "<Figure size 432x288 with 1 Axes>"
      ]
     },
     "metadata": {
      "needs_background": "light"
     },
     "output_type": "display_data"
    }
   ],
   "source": [
    "random.seed(42)\n",
    "disc_q = np.random.uniform(2, 10, 1000)\n",
    "sns.histplot(disc_q, stat='probability')"
   ]
  },
  {
   "cell_type": "markdown",
   "metadata": {},
   "source": [
    "### Entropy of a Random Variable\n",
    "\n",
    "$H = -\\sum_{i=1}^Np(x_i)*log(p(x_1))$"
   ]
  },
  {
   "cell_type": "code",
   "execution_count": 7,
   "metadata": {},
   "outputs": [
    {
     "name": "stdout",
     "output_type": "stream",
     "text": [
      "The minimum number of bits it would take us to encode our information is:  8.91\n"
     ]
    }
   ],
   "source": [
    "# The entropy of our distribution\n",
    "print('The minimum number of bits it would take us to encode our information is: ', round(entropy(p, base=2), 2))"
   ]
  },
  {
   "cell_type": "markdown",
   "metadata": {},
   "source": [
    "### Measuring Information Lost using KL Divergence\n",
    "\n",
    "With KL divergence, we can calculate exactly how much information is lost when we approximate one distribution with another. \n",
    "\n",
    "$D_{KL}(p||q) = \\sum_{i=1}^Np(x_i)*(logp(x_i) - logq(x_i))$ or, more commonly seen as, $D_{KL}(p||q) = \\sum_{i=1}^Np(x_i)*log\\frac{p(x_i)}{p(q_i)}$\n",
    " - Which is saying, multiply the true distribution of $X$ by the log difference of true distribution $p(x_i)$ and the assumed distribution $q(x_i)$\n",
    "\n",
    "KL-Divergence is a slight modification of entropy. Rather than just having our probability distribution $p$, we add in our approximating distribution $q$.\n",
    "\n",
    "_Results_: Small values of KL indicate the two distributions are similar, and larger values indicate greater difference."
   ]
  },
  {
   "cell_type": "code",
   "execution_count": 8,
   "metadata": {},
   "outputs": [],
   "source": [
    "def kl_divergence(p, q, x=None, cont=bool):\n",
    "    # Where p != 0, compute the KL value, else leave value 0\n",
    "    kl = np.sum(np.where(p != 0, p * (np.log(p) - np.log(q)), 0))\n",
    "    \n",
    "    if cont is True:\n",
    "        sns.lineplot(x=x, y=p)\n",
    "        sns.lineplot(x=x, y=q)\n",
    "        plt.title('KL(P||Q) = {}'.format(round(kl, 2)))\n",
    "    elif cont is False:\n",
    "        sns.histplot(x=p)\n",
    "        sns.histplot(x=q, color='orange')\n",
    "        plt.title('KL(P||Q) = {}'.format(round(kl, 2)))\n",
    "    else:\n",
    "        raise ValueError('Enter if continous or discrete boolean value')\n",
    "    \n",
    "    return kl"
   ]
  },
  {
   "cell_type": "code",
   "execution_count": 13,
   "metadata": {},
   "outputs": [
    {
     "data": {
      "text/plain": [
       "78.06791387221014"
      ]
     },
     "execution_count": 13,
     "metadata": {},
     "output_type": "execute_result"
    }
   ],
   "source": [
    "np.sum(rel_entr(p, q))"
   ]
  },
  {
   "cell_type": "code",
   "execution_count": 9,
   "metadata": {},
   "outputs": [
    {
     "name": "stderr",
     "output_type": "stream",
     "text": [
      "/var/folders/5n/lzw120x534d6n5nbhk8qwzjr0000gs/T/ipykernel_75575/218208573.py:3: RuntimeWarning: divide by zero encountered in log\n",
      "  kl = np.sum(np.where(p != 0, p * (np.log(p) - np.log(q)), 0))\n",
      "/var/folders/5n/lzw120x534d6n5nbhk8qwzjr0000gs/T/ipykernel_75575/218208573.py:3: RuntimeWarning: invalid value encountered in multiply\n",
      "  kl = np.sum(np.where(p != 0, p * (np.log(p) - np.log(q)), 0))\n"
     ]
    },
    {
     "data": {
      "image/png": "[encoded data removed]",
      "text/plain": [
       "<Figure size 432x288 with 1 Axes>"
      ]
     },
     "metadata": {
      "needs_background": "light"
     },
     "output_type": "display_data"
    }
   ],
   "source": [
    "cont_kl_div = kl_divergence(p=p, q=q, x=x, cont=True)"
   ]
  },
  {
   "cell_type": "code",
   "execution_count": 14,
   "metadata": {},
   "outputs": [
    {
     "data": {
      "text/plain": [
       "1852.2659917150004"
      ]
     },
     "execution_count": 14,
     "metadata": {},
     "output_type": "execute_result"
    }
   ],
   "source": [
    "np.sum(rel_entr(disc_p, disc_q))"
   ]
  },
  {
   "cell_type": "code",
   "execution_count": 10,
   "metadata": {},
   "outputs": [
    {
     "data": {
      "image/png": "[encoded data removed]",
      "text/plain": [
       "<Figure size 432x288 with 1 Axes>"
      ]
     },
     "metadata": {
      "needs_background": "light"
     },
     "output_type": "display_data"
    }
   ],
   "source": [
    "disc_kl_div = kl_divergence(p=disc_p, q=disc_q, cont=False)"
   ]
  },
  {
   "cell_type": "markdown",
   "metadata": {},
   "source": [
    "### Why is this important?\n",
    "\n",
    "- We can determine which distribution is better at approximating our data. Especially with some algorithms having assumptions on the underlying distribution of the data, if we approximate with the wrong distribution, then our results will not be __accurate__\n",
    "\n",
    "- One common scenario where this is useful is when we are working with a complex distribution. Rather than working with the distribution directly, we can make our life easier by using another distribution with well known properties (i.e. normal distribution) that does a decent job of describing the data. In other words, we can use the KL divergence to tell whether a poisson distribution or a normal distribution is a better at approximating the data\n"
   ]
  }
 ],
 "metadata": {
  "interpreter": {
   "hash": "6ea8e6696542bf91b5850513673ceef1808937d627ee3e2c71e2007cafbd44d0"
  },
  "kernelspec": {
   "display_name": "Python 3.8.12 64-bit ('autodidact': conda)",
   "name": "python3"
  },
  "language_info": {
   "codemirror_mode": {
    "name": "ipython",
    "version": 3
   },
   "file_extension": ".py",
   "mimetype": "text/x-python",
   "name": "python",
   "nbconvert_exporter": "python",
   "pygments_lexer": "ipython3",
   "version": "3.8.12"
  }
 },
 "nbformat": 4,
 "nbformat_minor": 4
}
