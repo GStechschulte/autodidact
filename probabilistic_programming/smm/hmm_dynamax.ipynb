{
 "cells": [
  {
   "cell_type": "code",
   "execution_count": null,
   "metadata": {},
   "outputs": [],
   "source": [
    "import dynamax\n",
    "import jax\n",
    "import jax.numpy as jnp\n",
    "from jax import jit, lax, vmap, value_and_grad\n",
    "from dynamax.hidden_markov_model import PoissonHMM, HMM\n",
    "import jax.random as jr\n",
    "from dynamax.parameters import ParameterProperties\n",
    "import tensorflow_probability.substrates.jax as tfp\n",
    "tfd = tfp.distributions\n",
    "tfb = tfp.bijectors\n",
    "from itertools import count\n",
    "import matplotlib.pyplot as plt"
   ]
  },
  {
   "cell_type": "code",
   "execution_count": 8,
   "metadata": {},
   "outputs": [
    {
     "data": {
      "image/png": "[encoded data removed]",
      "text/plain": [
       "<Figure size 600x300 with 1 Axes>"
      ]
     },
     "metadata": {},
     "output_type": "display_data"
    }
   ],
   "source": [
    "true_rates = [40, 3, 20, 50]\n",
    "true_durations = [10, 20, 5, 35]\n",
    "keys = map(jr.PRNGKey, count())\n",
    "\n",
    "emissions = jnp.concatenate(\n",
    "    [\n",
    "        jr.poisson(key, rate, (num_steps,))\n",
    "        for (key, rate, num_steps) in zip(keys, true_rates, true_durations)\n",
    "    ]\n",
    ").astype(jnp.float32)\n",
    "\n",
    "# PoissonHMM requires are least 1D emissions\n",
    "emissions = emissions[:, None]\n",
    "\n",
    "plt.figure(figsize=(6, 3))\n",
    "plt.plot(emissions)\n",
    "plt.xlabel(\"time\")\n",
    "plt.ylabel(\"count\");"
   ]
  },
  {
   "cell_type": "code",
   "execution_count": 15,
   "metadata": {},
   "outputs": [],
   "source": [
    "class NonconjugatePoissonHMM(PoissonHMM):\n",
    "    \"\"\"A Poisson HMM with a nonconjugate prior.    \n",
    "    \"\"\"\n",
    "    def __init__(self, num_states, emission_dim, \n",
    "                 initial_probs_concentration=1.1,\n",
    "                 transition_matrix_concentration=1.1,\n",
    "                 emission_prior_loc=0.0,\n",
    "                 emission_prior_scale=1.0):\n",
    "        HMM.__init__(self,\n",
    "            num_states,\n",
    "            initial_component=initial_probs_concentration,\n",
    "            transition_component=transition_matrix_concentration)\n",
    "        self.emission_dim = emission_dim\n",
    "        self.emission_prior_loc = emission_prior_loc\n",
    "        self.emission_prior_scale = emission_prior_scale\n",
    "        \n",
    "    def initialize(self, key, method=\"prior\", initial_probs=None, transition_matrix=None, rates=None):\n",
    "        key1, key2 = jr.split(key)\n",
    "        params, props = HMM.initialize(self, key=key1, \n",
    "                                               method=method, \n",
    "                                               initial_probs=initial_probs, \n",
    "                                               transition_matrix=transition_matrix)\n",
    "        \n",
    "        if rates is None:\n",
    "            prior = tfd.LogNormal(self.emission_prior_loc, self.emission_prior_scale)\n",
    "            rates = prior.sample(seed=key2, sample_shape=(self.num_states, self.emission_dim))\n",
    "            \n",
    "        params['emissions'] = dict(rates=rates)\n",
    "        props['emissions'] = dict(rates=ParameterProperties(constrainer=tfb.Softplus()))\n",
    "        return params, props\n",
    "        \n",
    "    def log_prior(self, params):\n",
    "        return tfd.LogNormal(self.emission_prior_loc, self.emission_prior_scale).log_prob(\n",
    "            params[\"emissions\"][\"rates\"]\n",
    "        ).sum()\n",
    "        \n",
    "    # Default to the standard E and M steps rather than the conjugate updates\n",
    "    # for the PoissonHMM with a gamma prior.\n",
    "    def e_step(self, params, batch_emissions):\n",
    "        return StandardHMM.e_step(self, params, batch_emissions)\n",
    "    \n",
    "    def m_step(self, params, param_props, batch_emissions, batch_posteriors, **batch_covariates):\n",
    "        return StandardHMM.m_step(self, params, param_props, batch_emissions, batch_posteriors, **batch_covariates)"
   ]
  },
  {
   "cell_type": "code",
   "execution_count": 12,
   "metadata": {},
   "outputs": [],
   "source": [
    "def build_latent_state(num_states, max_num_states, daily_change_prob):\n",
    "    # Give probability 0 to states outside of the current model.\n",
    "    def prob(s):\n",
    "        return jnp.where(s < num_states + 1, 1 / num_states, 0.0)\n",
    "\n",
    "    states = jnp.arange(1, max_num_states + 1)\n",
    "    initial_state_probs = vmap(prob)(states)\n",
    "\n",
    "    # Build a transition matrix that transitions only within the current\n",
    "    # `num_states` states.\n",
    "    def transition_prob(i, s):\n",
    "        return jnp.where(\n",
    "            (s <= num_states) & (i <= num_states) & (1 < num_states),\n",
    "            jnp.where(s == i, 1 - daily_change_prob, daily_change_prob / (num_states - 1)),\n",
    "            jnp.where(s == i, 1, 0),\n",
    "        )\n",
    "\n",
    "    transition_probs = vmap(transition_prob, in_axes=(None, 0))(states, states)\n",
    "\n",
    "    return initial_state_probs, transition_probs"
   ]
  },
  {
   "cell_type": "code",
   "execution_count": 13,
   "metadata": {},
   "outputs": [
    {
     "name": "stdout",
     "output_type": "stream",
     "text": [
      "Initial state probs:\n",
      "[0.25 0.25 0.25 0.25]\n",
      "Transition matrix:\n",
      "[[0.95       0.01666667 0.01666667 0.01666667]\n",
      " [0.01666667 0.95       0.01666667 0.01666667]\n",
      " [0.01666667 0.01666667 0.95       0.01666667]\n",
      " [0.01666667 0.01666667 0.01666667 0.95      ]]\n"
     ]
    }
   ],
   "source": [
    "num_states = 4\n",
    "daily_change_prob = 0.05\n",
    "\n",
    "initial_state_probs, transition_probs = build_latent_state(num_states, num_states, daily_change_prob)\n",
    "print(\"Initial state probs:\\n{}\".format(initial_state_probs))\n",
    "print(\"Transition matrix:\\n{}\".format(transition_probs))"
   ]
  },
  {
   "cell_type": "code",
   "execution_count": null,
   "metadata": {},
   "outputs": [],
   "source": [
    "hmm = NonconjugatePoissonHMM(num_states, \n",
    "                             emission_dim=1, \n",
    "                             emission_prior_loc=jnp.log(emissions.mean()), \n",
    "                             emission_prior_scale=1.0)"
   ]
  }
 ],
 "metadata": {
  "kernelspec": {
   "display_name": "Python 3.10.6 ('jax')",
   "language": "python",
   "name": "python3"
  },
  "language_info": {
   "codemirror_mode": {
    "name": "ipython",
    "version": 3
   },
   "file_extension": ".py",
   "mimetype": "text/x-python",
   "name": "python",
   "nbconvert_exporter": "python",
   "pygments_lexer": "ipython3",
   "version": "3.10.8"
  },
  "orig_nbformat": 4,
  "vscode": {
   "interpreter": {
    "hash": "0061f7a54c219f81d3b6b55353e2d56204793cdec32016722f0791028b4636f6"
   }
  }
 },
 "nbformat": 4,
 "nbformat_minor": 2
}
